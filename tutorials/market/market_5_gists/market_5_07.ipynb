{
 "cells": [
  {
   "cell_type": "code",
   "execution_count": 11,
   "id": "cecac0b2-eecb-47c2-bfae-bbf7633704d3",
   "metadata": {},
   "outputs": [
    {
     "name": "stdout",
     "output_type": "stream",
     "text": [
      "Original model's output:\n",
      "tensor([[[-0.1153,  0.2566, -0.2220,  ..., -0.3130,  0.6333,  0.6588],\n",
      "         [ 0.2769,  0.5195,  0.2059,  ..., -0.1062,  1.1186,  0.3836],\n",
      "         [ 0.9019,  0.7557, -0.1615,  ...,  0.0588,  0.3570, -0.0296],\n",
      "         ...,\n",
      "         [ 0.0155, -0.0602,  0.3365,  ..., -0.0936,  0.8055, -0.5007],\n",
      "         [ 0.6198,  0.2695, -0.3402,  ...,  0.0860, -0.3373, -0.4606],\n",
      "         [ 0.8493,  0.3726, -0.2073,  ..., -0.1145, -0.5216, -0.4418]]],\n",
      "       grad_fn=<NativeLayerNormBackward>)\n",
      "\n",
      "Model output after zero-copy model loading:\n",
      "tensor([[[-0.1153,  0.2566, -0.2220,  ..., -0.3130,  0.6333,  0.6588],\n",
      "         [ 0.2769,  0.5195,  0.2059,  ..., -0.1062,  1.1186,  0.3836],\n",
      "         [ 0.9019,  0.7557, -0.1615,  ...,  0.0588,  0.3570, -0.0296],\n",
      "         ...,\n",
      "         [ 0.0155, -0.0602,  0.3365,  ..., -0.0936,  0.8055, -0.5007],\n",
      "         [ 0.6198,  0.2695, -0.3402,  ...,  0.0860, -0.3373, -0.4606],\n",
      "         [ 0.8493,  0.3726, -0.2073,  ..., -0.1145, -0.5216, -0.4418]]],\n",
      "       grad_fn=<NativeLayerNormBackward>)\n"
     ]
    }
   ],
   "source": [
    "# Load tensors into the model's graph of Python objects\n",
    "replace_tensors(bert_skeleton, bert_weights)\n",
    "\n",
    "# Preprocess an example input string for BERT.\n",
    "test_text = \"All work and no play makes Jack a dull boy.\"\n",
    "tokenizer = transformers.BertTokenizerFast.from_pretrained(\n",
    "    \"bert-base-uncased\")\n",
    "test_tokens = tokenizer(test_text, return_tensors=\"pt\")\n",
    "\n",
    "# Run the original model and the copy that we just loaded\n",
    "print(\"Original model's output:\")\n",
    "print(bert(**test_tokens).last_hidden_state)\n",
    "print(\"\\nModel output after zero-copy model loading:\")\n",
    "print(bert_skeleton(**test_tokens).last_hidden_state)"
   ]
  }
 ],
 "metadata": {
  "kernelspec": {
   "display_name": "Python 3 (ipykernel)",
   "language": "python",
   "name": "python3"
  },
  "language_info": {
   "codemirror_mode": {
    "name": "ipython",
    "version": 3
   },
   "file_extension": ".py",
   "mimetype": "text/x-python",
   "name": "python",
   "nbconvert_exporter": "python",
   "pygments_lexer": "ipython3",
   "version": "3.8.10"
  }
 },
 "nbformat": 4,
 "nbformat_minor": 5
}
