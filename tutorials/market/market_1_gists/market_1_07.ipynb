{
 "cells": [
  {
   "cell_type": "code",
   "execution_count": 8,
   "metadata": {},
   "outputs": [
    {
     "data": {
      "text/html": [
       "<div>\n",
       "<style scoped>\n",
       "    .dataframe tbody tr th:only-of-type {\n",
       "        vertical-align: middle;\n",
       "    }\n",
       "\n",
       "    .dataframe tbody tr th {\n",
       "        vertical-align: top;\n",
       "    }\n",
       "\n",
       "    .dataframe thead th {\n",
       "        text-align: right;\n",
       "    }\n",
       "</style>\n",
       "<table border=\"1\" class=\"dataframe\">\n",
       "  <thead>\n",
       "    <tr style=\"text-align: right;\">\n",
       "      <th></th>\n",
       "      <th>subject.text</th>\n",
       "      <th>sentence</th>\n",
       "      <th>object.text</th>\n",
       "      <th>action.verb.text</th>\n",
       "      <th>action.verb.tense</th>\n",
       "      <th>action.text</th>\n",
       "      <th>action.normalized</th>\n",
       "    </tr>\n",
       "  </thead>\n",
       "  <tbody>\n",
       "    <tr>\n",
       "      <th>15</th>\n",
       "      <td>Daniel Hernandez, general manager, Data and AI...</td>\n",
       "      <td>\"By combining the power of AI with the flexib...</td>\n",
       "      <td>By combining the power of AI with the flexibil...</td>\n",
       "      <td>say</td>\n",
       "      <td>past</td>\n",
       "      <td>said</td>\n",
       "      <td>say</td>\n",
       "    </tr>\n",
       "    <tr>\n",
       "      <th>21</th>\n",
       "      <td>Curren Katz, Director of Data Science R&amp;D, Hig...</td>\n",
       "      <td>\"At the beginning of the COVID-19 pandemic, H...</td>\n",
       "      <td>At the beginning of the COVID-19 pandemic, Hig...</td>\n",
       "      <td>say</td>\n",
       "      <td>past</td>\n",
       "      <td>said</td>\n",
       "      <td>say</td>\n",
       "    </tr>\n",
       "    <tr>\n",
       "      <th>31</th>\n",
       "      <td>Ritu Jyoti, program vice president, AI researc...</td>\n",
       "      <td>Digital Transformation (DX) is one of the key...</td>\n",
       "      <td>Digital Transformation (DX) is one of the key ...</td>\n",
       "      <td>say</td>\n",
       "      <td>present</td>\n",
       "      <td>says</td>\n",
       "      <td>say</td>\n",
       "    </tr>\n",
       "  </tbody>\n",
       "</table>\n",
       "</div>"
      ],
      "text/plain": [
       "                                         subject.text  \\\n",
       "15  Daniel Hernandez, general manager, Data and AI...   \n",
       "21  Curren Katz, Director of Data Science R&D, Hig...   \n",
       "31  Ritu Jyoti, program vice president, AI researc...   \n",
       "\n",
       "                                             sentence  \\\n",
       "15   \"By combining the power of AI with the flexib...   \n",
       "21   \"At the beginning of the COVID-19 pandemic, H...   \n",
       "31   Digital Transformation (DX) is one of the key...   \n",
       "\n",
       "                                          object.text action.verb.text  \\\n",
       "15  By combining the power of AI with the flexibil...              say   \n",
       "21  At the beginning of the COVID-19 pandemic, Hig...              say   \n",
       "31  Digital Transformation (DX) is one of the key ...              say   \n",
       "\n",
       "   action.verb.tense action.text action.normalized  \n",
       "15              past        said               say  \n",
       "21              past        said               say  \n",
       "31           present        says               say  "
      ]
     },
     "execution_count": 8,
     "metadata": {},
     "output_type": "execute_result"
    }
   ],
   "source": [
    "quotes_df = semantic_roles_df[\n",
    "    semantic_roles_df[\"action.normalized\"] == \"say\"]\n",
    "quotes_df"
   ]
  }
 ],
 "metadata": {
  "kernelspec": {
   "display_name": "Python 3",
   "language": "python",
   "name": "python3"
  },
  "language_info": {
   "codemirror_mode": {
    "name": "ipython",
    "version": 3
   },
   "file_extension": ".py",
   "mimetype": "text/x-python",
   "name": "python",
   "nbconvert_exporter": "python",
   "pygments_lexer": "ipython3",
   "version": "3.7.10"
  }
 },
 "nbformat": 4,
 "nbformat_minor": 4
}
