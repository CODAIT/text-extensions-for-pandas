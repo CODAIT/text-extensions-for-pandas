{
 "cells": [
  {
   "cell_type": "code",
   "execution_count": 6,
   "metadata": {},
   "outputs": [
    {
     "data": {
      "text/html": [
       "<div>\n",
       "<style scoped>\n",
       "    .dataframe tbody tr th:only-of-type {\n",
       "        vertical-align: middle;\n",
       "    }\n",
       "\n",
       "    .dataframe tbody tr th {\n",
       "        vertical-align: top;\n",
       "    }\n",
       "\n",
       "    .dataframe thead th {\n",
       "        text-align: right;\n",
       "    }\n",
       "</style>\n",
       "<table border=\"1\" class=\"dataframe\">\n",
       "  <thead>\n",
       "    <tr style=\"text-align: right;\">\n",
       "      <th></th>\n",
       "      <th>subject.text</th>\n",
       "      <th>sentence</th>\n",
       "      <th>object.text</th>\n",
       "      <th>action.verb.text</th>\n",
       "      <th>action.verb.tense</th>\n",
       "      <th>action.text</th>\n",
       "      <th>action.normalized</th>\n",
       "    </tr>\n",
       "  </thead>\n",
       "  <tbody>\n",
       "    <tr>\n",
       "      <th>3</th>\n",
       "      <td>Daniel Hernandez, general manager, Data and AI...</td>\n",
       "      <td>\"By combining the power of AI with the flexibi...</td>\n",
       "      <td>By combining the power of AI with the flexibil...</td>\n",
       "      <td>say</td>\n",
       "      <td>present</td>\n",
       "      <td>says</td>\n",
       "      <td>say</td>\n",
       "    </tr>\n",
       "  </tbody>\n",
       "</table>\n",
       "</div>"
      ],
      "text/plain": [
       "                                        subject.text  \\\n",
       "3  Daniel Hernandez, general manager, Data and AI...   \n",
       "\n",
       "                                            sentence  \\\n",
       "3  \"By combining the power of AI with the flexibi...   \n",
       "\n",
       "                                         object.text action.verb.text  \\\n",
       "3  By combining the power of AI with the flexibil...              say   \n",
       "\n",
       "  action.verb.tense action.text action.normalized  \n",
       "3           present        says               say  "
      ]
     },
     "execution_count": 6,
     "metadata": {},
     "output_type": "execute_result"
    }
   ],
   "source": [
    "response = natural_language_understanding.analyze(\n",
    "    text='''\"By combining the power of AI with the flexibility \\\n",
    "and agility of hybrid cloud, our clients are driving \\\n",
    "innovation and digitizing their operations at a fast pace,\" \\\n",
    "says Daniel Hernandez, general manager, Data and AI, IBM.''',\n",
    "    return_analyzed_text=True,\n",
    "    features=nlu.Features(semantic_roles=nlu.SemanticRolesOptions())).get_result()\n",
    "dfs = tp.io.watson.nlu.parse_response(response)\n",
    "dfs[\"semantic_roles\"][\n",
    "    dfs[\"semantic_roles\"][\"action.normalized\"] == \"say\"]"
   ]
  }
 ],
 "metadata": {
  "kernelspec": {
   "display_name": "Python 3",
   "language": "python",
   "name": "python3"
  },
  "language_info": {
   "codemirror_mode": {
    "name": "ipython",
    "version": 3
   },
   "file_extension": ".py",
   "mimetype": "text/x-python",
   "name": "python",
   "nbconvert_exporter": "python",
   "pygments_lexer": "ipython3",
   "version": "3.7.10"
  }
 },
 "nbformat": 4,
 "nbformat_minor": 4
}
