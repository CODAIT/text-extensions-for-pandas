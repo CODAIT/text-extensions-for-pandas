{
 "cells": [
  {
   "cell_type": "code",
   "execution_count": 10,
   "metadata": {},
   "outputs": [
    {
     "data": {
      "text/html": [
       "<div>\n",
       "<style scoped>\n",
       "    .dataframe tbody tr th:only-of-type {\n",
       "        vertical-align: middle;\n",
       "    }\n",
       "\n",
       "    .dataframe tbody tr th {\n",
       "        vertical-align: top;\n",
       "    }\n",
       "\n",
       "    .dataframe thead th {\n",
       "        text-align: right;\n",
       "    }\n",
       "</style>\n",
       "<table border=\"1\" class=\"dataframe\">\n",
       "  <thead>\n",
       "    <tr style=\"text-align: right;\">\n",
       "      <th></th>\n",
       "      <th>type</th>\n",
       "      <th>text</th>\n",
       "      <th>span</th>\n",
       "      <th>confidence</th>\n",
       "    </tr>\n",
       "  </thead>\n",
       "  <tbody>\n",
       "    <tr>\n",
       "      <th>0</th>\n",
       "      <td>Organization</td>\n",
       "      <td>IBM</td>\n",
       "      <td>[43, 46): 'IBM'</td>\n",
       "      <td>0.918655</td>\n",
       "    </tr>\n",
       "    <tr>\n",
       "      <th>1</th>\n",
       "      <td>Organization</td>\n",
       "      <td>IBM</td>\n",
       "      <td>[54, 57): 'IBM'</td>\n",
       "      <td>0.934957</td>\n",
       "    </tr>\n",
       "    <tr>\n",
       "      <th>2</th>\n",
       "      <td>Organization</td>\n",
       "      <td>IBM</td>\n",
       "      <td>[400, 403): 'IBM'</td>\n",
       "      <td>0.970667</td>\n",
       "    </tr>\n",
       "    <tr>\n",
       "      <th>3</th>\n",
       "      <td>Organization</td>\n",
       "      <td>IBM</td>\n",
       "      <td>[527, 530): 'IBM'</td>\n",
       "      <td>0.964249</td>\n",
       "    </tr>\n",
       "    <tr>\n",
       "      <th>4</th>\n",
       "      <td>Organization</td>\n",
       "      <td>IBM</td>\n",
       "      <td>[758, 761): 'IBM'</td>\n",
       "      <td>0.975134</td>\n",
       "    </tr>\n",
       "  </tbody>\n",
       "</table>\n",
       "</div>"
      ],
      "text/plain": [
       "           type text               span  confidence\n",
       "0  Organization  IBM    [43, 46): 'IBM'    0.918655\n",
       "1  Organization  IBM    [54, 57): 'IBM'    0.934957\n",
       "2  Organization  IBM  [400, 403): 'IBM'    0.970667\n",
       "3  Organization  IBM  [527, 530): 'IBM'    0.964249\n",
       "4  Organization  IBM  [758, 761): 'IBM'    0.975134"
      ]
     },
     "execution_count": 10,
     "metadata": {},
     "output_type": "execute_result"
    }
   ],
   "source": [
    "response = natural_language_understanding.analyze(\n",
    "    url=DOC_URL,\n",
    "    return_analyzed_text=True,\n",
    "    features=nlu.Features(\n",
    "        # Ask Watson to find mentions of named entities\n",
    "        entities=nlu.EntitiesOptions(mentions=True),\n",
    "        \n",
    "        # Also divide the document into words. We'll use these in just a moment.\n",
    "        syntax=nlu.SyntaxOptions(tokens=nlu.SyntaxOptionsTokens()),\n",
    "    )).get_result()\n",
    "entity_mentions_df = \\\n",
    "    tp.io.watson.nlu.parse_response(response)[\"entity_mentions\"]\n",
    "entity_mentions_df.head()"
   ]
  }
 ],
 "metadata": {
  "kernelspec": {
   "display_name": "Python 3",
   "language": "python",
   "name": "python3"
  },
  "language_info": {
   "codemirror_mode": {
    "name": "ipython",
    "version": 3
   },
   "file_extension": ".py",
   "mimetype": "text/x-python",
   "name": "python",
   "nbconvert_exporter": "python",
   "pygments_lexer": "ipython3",
   "version": "3.7.10"
  }
 },
 "nbformat": 4,
 "nbformat_minor": 4
}
