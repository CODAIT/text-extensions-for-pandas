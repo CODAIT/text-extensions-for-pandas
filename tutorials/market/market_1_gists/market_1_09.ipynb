{
 "cells": [
  {
   "cell_type": "code",
   "execution_count": 11,
   "metadata": {},
   "outputs": [
    {
     "data": {
      "text/html": [
       "<div>\n",
       "<style scoped>\n",
       "    .dataframe tbody tr th:only-of-type {\n",
       "        vertical-align: middle;\n",
       "    }\n",
       "\n",
       "    .dataframe tbody tr th {\n",
       "        vertical-align: top;\n",
       "    }\n",
       "\n",
       "    .dataframe thead th {\n",
       "        text-align: right;\n",
       "    }\n",
       "</style>\n",
       "<table border=\"1\" class=\"dataframe\">\n",
       "  <thead>\n",
       "    <tr style=\"text-align: right;\">\n",
       "      <th></th>\n",
       "      <th>type</th>\n",
       "      <th>text</th>\n",
       "      <th>span</th>\n",
       "      <th>confidence</th>\n",
       "    </tr>\n",
       "  </thead>\n",
       "  <tbody>\n",
       "    <tr>\n",
       "      <th>37</th>\n",
       "      <td>Person</td>\n",
       "      <td>Daniel Hernandez</td>\n",
       "      <td>[1288, 1304): 'Daniel Hernandez'</td>\n",
       "      <td>0.994301</td>\n",
       "    </tr>\n",
       "    <tr>\n",
       "      <th>39</th>\n",
       "      <td>Person</td>\n",
       "      <td>Curren Katz</td>\n",
       "      <td>[1838, 1849): 'Curren Katz'</td>\n",
       "      <td>0.990223</td>\n",
       "    </tr>\n",
       "    <tr>\n",
       "      <th>43</th>\n",
       "      <td>Person</td>\n",
       "      <td>Ritu Jyoti</td>\n",
       "      <td>[2476, 2486): 'Ritu Jyoti'</td>\n",
       "      <td>0.713109</td>\n",
       "    </tr>\n",
       "    <tr>\n",
       "      <th>52</th>\n",
       "      <td>Person</td>\n",
       "      <td>Tyler Allen</td>\n",
       "      <td>[4213, 4224): 'Tyler Allen'</td>\n",
       "      <td>0.964611</td>\n",
       "    </tr>\n",
       "  </tbody>\n",
       "</table>\n",
       "</div>"
      ],
      "text/plain": [
       "      type              text                              span  confidence\n",
       "37  Person  Daniel Hernandez  [1288, 1304): 'Daniel Hernandez'    0.994301\n",
       "39  Person       Curren Katz       [1838, 1849): 'Curren Katz'    0.990223\n",
       "43  Person        Ritu Jyoti        [2476, 2486): 'Ritu Jyoti'    0.713109\n",
       "52  Person       Tyler Allen       [4213, 4224): 'Tyler Allen'    0.964611"
      ]
     },
     "execution_count": 11,
     "metadata": {},
     "output_type": "execute_result"
    }
   ],
   "source": [
    "person_mentions_df = entity_mentions_df[\n",
    "    entity_mentions_df[\"type\"] == \"Person\"]\n",
    "person_mentions_df.tail(4)"
   ]
  }
 ],
 "metadata": {
  "kernelspec": {
   "display_name": "Python 3",
   "language": "python",
   "name": "python3"
  },
  "language_info": {
   "codemirror_mode": {
    "name": "ipython",
    "version": 3
   },
   "file_extension": ".py",
   "mimetype": "text/x-python",
   "name": "python",
   "nbconvert_exporter": "python",
   "pygments_lexer": "ipython3",
   "version": "3.7.10"
  }
 },
 "nbformat": 4,
 "nbformat_minor": 4
}
