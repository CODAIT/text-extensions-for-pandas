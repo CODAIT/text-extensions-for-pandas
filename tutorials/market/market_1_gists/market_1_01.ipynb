{
 "cells": [
  {
   "cell_type": "code",
   "execution_count": 2,
   "metadata": {
    "tags": []
   },
   "outputs": [
    {
     "data": {
      "text/plain": [
       "{'usage': {'text_units': 1, 'text_characters': 221, 'features': 1},\n",
       " 'semantic_roles': [{'subject': {'text': 'our clients'},\n",
       "   'sentence': '\"By combining the power of AI with the flexibility and agility of hybrid cloud, our clients are driving innovation and digitizing their operations at a fast pace,\" said\\xa0Daniel Hernandez, general manager, Data and AI, IBM.',\n",
       "   'object': {'text': 'driving innovation and digitizing their operations'},\n",
       "   'action': {'verb': {'text': 'be', 'tense': 'present'},\n",
       "    'text': 'are',\n",
       "    'normalized': 'be'}},\n",
       "  {'subject': {'text': 'our clients'},\n",
       "   'sentence': '\"By combining the power of AI with the flexibility and agility of hybrid cloud, our clients are driving innovation and digitizing their operations at a fast pace,\" said\\xa0Daniel Hernandez, general manager, Data and AI, IBM.',\n",
       "   'object': {'text': 'innovation and digitizing their operations'},\n",
       "   'action': {'verb': {'text': 'drive', 'tense': 'present'},\n",
       "    'text': 'are driving',\n",
       "    'normalized': 'be drive'}},\n",
       "  {'subject': {'text': 'our clients'},\n",
       "   'sentence': '\"By combining the power of AI with the flexibility and agility of hybrid cloud, our clients are driving innovation and digitizing their operations at a fast pace,\" said\\xa0Daniel Hernandez, general manager, Data and AI, IBM.',\n",
       "   'object': {'text': 'their operations'},\n",
       "   'action': {'verb': {'text': 'digitize', 'tense': 'present'},\n",
       "    'text': 'digitizing',\n",
       "    'normalized': 'digitize'}},\n",
       "  {'subject': {'text': 'Daniel Hernandez, general manager, Data and AI, IBM'},\n",
       "   'sentence': '\"By combining the power of AI with the flexibility and agility of hybrid cloud, our clients are driving innovation and digitizing their operations at a fast pace,\" said\\xa0Daniel Hernandez, general manager, Data and AI, IBM.',\n",
       "   'object': {'text': 'By combining the power of AI with the flexibility and agility of hybrid cloud, our clients are driving innovation and digitizing their operations at a fast pace'},\n",
       "   'action': {'verb': {'text': 'say', 'tense': 'past'},\n",
       "    'text': 'said',\n",
       "    'normalized': 'say'}}],\n",
       " 'language': 'en',\n",
       " 'analyzed_text': '\"By combining the power of AI with the flexibility and agility of hybrid cloud, our clients are driving innovation and digitizing their operations at a fast pace,\" said\\xa0Daniel Hernandez, general manager, Data and AI, IBM.'}"
      ]
     },
     "execution_count": 2,
     "metadata": {},
     "output_type": "execute_result"
    }
   ],
   "source": [
    "response = natural_language_understanding.analyze(\n",
    "    text='''\"By combining the power of AI with the flexibility \\\n",
    "and agility of hybrid cloud, our clients are driving \\\n",
    "innovation and digitizing their operations at a fast pace,\" \\\n",
    "said Daniel Hernandez, general manager, Data and AI, IBM.''',\n",
    "    return_analyzed_text=True,\n",
    "    features=nlu.Features(\n",
    "        semantic_roles=nlu.SemanticRolesOptions()\n",
    "    )).get_result()\n",
    "response"
   ]
  }
 ],
 "metadata": {
  "kernelspec": {
   "display_name": "Python 3",
   "language": "python",
   "name": "python3"
  },
  "language_info": {
   "codemirror_mode": {
    "name": "ipython",
    "version": 3
   },
   "file_extension": ".py",
   "mimetype": "text/x-python",
   "name": "python",
   "nbconvert_exporter": "python",
   "pygments_lexer": "ipython3",
   "version": "3.7.10"
  }
 },
 "nbformat": 4,
 "nbformat_minor": 4
}
