{
 "cells": [
  {
   "cell_type": "code",
   "execution_count": 12,
   "metadata": {},
   "outputs": [
    {
     "data": {
      "text/html": [
       "<div>\n",
       "<style scoped>\n",
       "    .dataframe tbody tr th:only-of-type {\n",
       "        vertical-align: middle;\n",
       "    }\n",
       "\n",
       "    .dataframe tbody tr th {\n",
       "        vertical-align: top;\n",
       "    }\n",
       "\n",
       "    .dataframe thead th {\n",
       "        text-align: right;\n",
       "    }\n",
       "</style>\n",
       "<table border=\"1\" class=\"dataframe\">\n",
       "  <thead>\n",
       "    <tr style=\"text-align: right;\">\n",
       "      <th></th>\n",
       "      <th>subject.text</th>\n",
       "      <th>span</th>\n",
       "    </tr>\n",
       "  </thead>\n",
       "  <tbody>\n",
       "    <tr>\n",
       "      <th>0</th>\n",
       "      <td>Daniel Hernandez, general manager, Data and AI...</td>\n",
       "      <td>[1288, 1339): 'Daniel Hernandez, general manag...</td>\n",
       "    </tr>\n",
       "    <tr>\n",
       "      <th>1</th>\n",
       "      <td>Curren Katz, Director of Data Science R&amp;D, Hig...</td>\n",
       "      <td>[1838, 1896): 'Curren Katz, Director of Data S...</td>\n",
       "    </tr>\n",
       "    <tr>\n",
       "      <th>2</th>\n",
       "      <td>Ritu Jyoti, program vice president, AI researc...</td>\n",
       "      <td>[2476, 2581): 'Ritu Jyoti, program vice presid...</td>\n",
       "    </tr>\n",
       "  </tbody>\n",
       "</table>\n",
       "</div>"
      ],
      "text/plain": [
       "                                        subject.text  \\\n",
       "0  Daniel Hernandez, general manager, Data and AI...   \n",
       "1  Curren Katz, Director of Data Science R&D, Hig...   \n",
       "2  Ritu Jyoti, program vice president, AI researc...   \n",
       "\n",
       "                                                span  \n",
       "0  [1288, 1339): 'Daniel Hernandez, general manag...  \n",
       "1  [1838, 1896): 'Curren Katz, Director of Data S...  \n",
       "2  [2476, 2581): 'Ritu Jyoti, program vice presid...  "
      ]
     },
     "execution_count": 12,
     "metadata": {},
     "output_type": "execute_result"
    }
   ],
   "source": [
    "# Retrieve the full document text from the entity mentions\n",
    "doc_text = entity_mentions_df[\"span\"].array.document_text\n",
    "\n",
    "# Filter down to just the rows and columns we're interested in\n",
    "subjects_df = (\n",
    "    quotes_df[[\"subject.text\"]].copy().reset_index(drop=True))\n",
    "\n",
    "# Use String.index() to find where the strings in \"subject.text\" begin\n",
    "subjects_df[\"begin\"] = pd.Series(\n",
    "    [doc_text.index(s)\n",
    "     for s in subjects_df[\"subject.text\"]], dtype=int)\n",
    "\n",
    "# Compute end offsets and wrap the <begin, end, text> triples in a SpanArray\n",
    "subjects_df[\"end\"] = (subjects_df[\"begin\"]\n",
    "                      + subjects_df[\"subject.text\"].str.len())\n",
    "subjects_df[\"span\"] = tp.SpanArray(doc_text, \n",
    "                                   subjects_df[\"begin\"], \n",
    "                                   subjects_df[\"end\"])\n",
    "subjects_df = subjects_df.drop(columns=[\"begin\", \"end\"])\n",
    "subjects_df"
   ]
  }
 ],
 "metadata": {
  "kernelspec": {
   "display_name": "Python 3",
   "language": "python",
   "name": "python3"
  },
  "language_info": {
   "codemirror_mode": {
    "name": "ipython",
    "version": 3
   },
   "file_extension": ".py",
   "mimetype": "text/x-python",
   "name": "python",
   "nbconvert_exporter": "python",
   "pygments_lexer": "ipython3",
   "version": "3.7.10"
  }
 },
 "nbformat": 4,
 "nbformat_minor": 4
}
