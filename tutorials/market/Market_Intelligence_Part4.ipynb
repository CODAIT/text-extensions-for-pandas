{
 "cells": [
  {
   "cell_type": "code",
   "execution_count": 1,
   "metadata": {},
   "outputs": [],
   "source": [
    "# Initialization boilerplate\n",
    "from typing import *\n",
    "\n",
    "import os\n",
    "import ibm_watson\n",
    "import ibm_watson.natural_language_understanding_v1 as nlu\n",
    "import ibm_cloud_sdk_core\n",
    "import pandas as pd\n",
    "import text_extensions_for_pandas as tp\n",
    "import urllib\n",
    "\n",
    "import ray\n",
    "import spacy\n",
    "import multiprocessing\n",
    "import time\n",
    "import threading\n",
    "import matplotlib.pyplot as plt\n",
    "\n",
    "api_key = os.environ.get(\"IBM_API_KEY\")\n",
    "service_url = os.environ.get(\"IBM_SERVICE_URL\")  \n",
    "\n",
    "import market_intelligence"
   ]
  },
  {
   "cell_type": "markdown",
   "metadata": {},
   "source": [
    "# Part 4: Scale up some more with Pandas and Ray\n",
    "\n",
    "TODO: Summarize parts 1-3\n",
    "\n",
    "\n",
    "![First version of our processing pipeline](images/pipeline_v1.png)\n",
    "\n"
   ]
  },
  {
   "cell_type": "code",
   "execution_count": 2,
   "metadata": {},
   "outputs": [
    {
     "data": {
      "text/html": [
       "<div>\n",
       "<style scoped>\n",
       "    .dataframe tbody tr th:only-of-type {\n",
       "        vertical-align: middle;\n",
       "    }\n",
       "\n",
       "    .dataframe tbody tr th {\n",
       "        vertical-align: top;\n",
       "    }\n",
       "\n",
       "    .dataframe thead th {\n",
       "        text-align: right;\n",
       "    }\n",
       "</style>\n",
       "<table border=\"1\" class=\"dataframe\">\n",
       "  <thead>\n",
       "    <tr style=\"text-align: right;\">\n",
       "      <th></th>\n",
       "      <th>url</th>\n",
       "      <th>html</th>\n",
       "    </tr>\n",
       "  </thead>\n",
       "  <tbody>\n",
       "    <tr>\n",
       "      <th>0</th>\n",
       "      <td>https://newsroom.ibm.com/2020-02-04-The-Avril-...</td>\n",
       "      <td>&lt;!DOCTYPE html public \"-//W3C//DTD HTML 4.01 T...</td>\n",
       "    </tr>\n",
       "    <tr>\n",
       "      <th>1</th>\n",
       "      <td>https://newsroom.ibm.com/2020-02-11-IBM-X-Forc...</td>\n",
       "      <td>&lt;!DOCTYPE html public \"-//W3C//DTD HTML 4.01 T...</td>\n",
       "    </tr>\n",
       "    <tr>\n",
       "      <th>2</th>\n",
       "      <td>https://newsroom.ibm.com/2020-02-18-IBM-Study-...</td>\n",
       "      <td>&lt;!DOCTYPE html public \"-//W3C//DTD HTML 4.01 T...</td>\n",
       "    </tr>\n",
       "    <tr>\n",
       "      <th>3</th>\n",
       "      <td>https://newsroom.ibm.com/2020-02-19-IBM-Power-...</td>\n",
       "      <td>&lt;!DOCTYPE html public \"-//W3C//DTD HTML 4.01 T...</td>\n",
       "    </tr>\n",
       "    <tr>\n",
       "      <th>4</th>\n",
       "      <td>https://newsroom.ibm.com/2020-02-20-Centotrent...</td>\n",
       "      <td>&lt;!DOCTYPE html public \"-//W3C//DTD HTML 4.01 T...</td>\n",
       "    </tr>\n",
       "    <tr>\n",
       "      <th>...</th>\n",
       "      <td>...</td>\n",
       "      <td>...</td>\n",
       "    </tr>\n",
       "    <tr>\n",
       "      <th>186</th>\n",
       "      <td>https://newsroom.ibm.com/2021-01-25-OVHcloud-t...</td>\n",
       "      <td>&lt;!DOCTYPE html public \"-//W3C//DTD HTML 4.01 T...</td>\n",
       "    </tr>\n",
       "    <tr>\n",
       "      <th>187</th>\n",
       "      <td>https://newsroom.ibm.com/2021-01-26-Luminor-Ba...</td>\n",
       "      <td>&lt;!DOCTYPE html public \"-//W3C//DTD HTML 4.01 T...</td>\n",
       "    </tr>\n",
       "    <tr>\n",
       "      <th>188</th>\n",
       "      <td>https://newsroom.ibm.com/2021-01-26-DIA-Levera...</td>\n",
       "      <td>&lt;!DOCTYPE html public \"-//W3C//DTD HTML 4.01 T...</td>\n",
       "    </tr>\n",
       "    <tr>\n",
       "      <th>189</th>\n",
       "      <td>https://newsroom.ibm.com/2021-01-26-IBM-Board-...</td>\n",
       "      <td>&lt;!DOCTYPE html public \"-//W3C//DTD HTML 4.01 T...</td>\n",
       "    </tr>\n",
       "    <tr>\n",
       "      <th>190</th>\n",
       "      <td>https://newsroom.ibm.com/2021-01-26-Latin-Amer...</td>\n",
       "      <td>&lt;!DOCTYPE html public \"-//W3C//DTD HTML 4.01 T...</td>\n",
       "    </tr>\n",
       "  </tbody>\n",
       "</table>\n",
       "<p>191 rows × 2 columns</p>\n",
       "</div>"
      ],
      "text/plain": [
       "                                                   url  \\\n",
       "0    https://newsroom.ibm.com/2020-02-04-The-Avril-...   \n",
       "1    https://newsroom.ibm.com/2020-02-11-IBM-X-Forc...   \n",
       "2    https://newsroom.ibm.com/2020-02-18-IBM-Study-...   \n",
       "3    https://newsroom.ibm.com/2020-02-19-IBM-Power-...   \n",
       "4    https://newsroom.ibm.com/2020-02-20-Centotrent...   \n",
       "..                                                 ...   \n",
       "186  https://newsroom.ibm.com/2021-01-25-OVHcloud-t...   \n",
       "187  https://newsroom.ibm.com/2021-01-26-Luminor-Ba...   \n",
       "188  https://newsroom.ibm.com/2021-01-26-DIA-Levera...   \n",
       "189  https://newsroom.ibm.com/2021-01-26-IBM-Board-...   \n",
       "190  https://newsroom.ibm.com/2021-01-26-Latin-Amer...   \n",
       "\n",
       "                                                  html  \n",
       "0    <!DOCTYPE html public \"-//W3C//DTD HTML 4.01 T...  \n",
       "1    <!DOCTYPE html public \"-//W3C//DTD HTML 4.01 T...  \n",
       "2    <!DOCTYPE html public \"-//W3C//DTD HTML 4.01 T...  \n",
       "3    <!DOCTYPE html public \"-//W3C//DTD HTML 4.01 T...  \n",
       "4    <!DOCTYPE html public \"-//W3C//DTD HTML 4.01 T...  \n",
       "..                                                 ...  \n",
       "186  <!DOCTYPE html public \"-//W3C//DTD HTML 4.01 T...  \n",
       "187  <!DOCTYPE html public \"-//W3C//DTD HTML 4.01 T...  \n",
       "188  <!DOCTYPE html public \"-//W3C//DTD HTML 4.01 T...  \n",
       "189  <!DOCTYPE html public \"-//W3C//DTD HTML 4.01 T...  \n",
       "190  <!DOCTYPE html public \"-//W3C//DTD HTML 4.01 T...  \n",
       "\n",
       "[191 rows x 2 columns]"
      ]
     },
     "execution_count": 2,
     "metadata": {},
     "output_type": "execute_result"
    }
   ],
   "source": [
    "import market_intelligence as mi\n",
    "articles = mi.maybe_download_articles()\n",
    "articles"
   ]
  },
  {
   "cell_type": "markdown",
   "metadata": {},
   "source": [
    "## Baseline: Process documents with a simple `for` loop."
   ]
  },
  {
   "cell_type": "markdown",
   "metadata": {},
   "source": [
    "At the end of Part 3, we showed how to run our pipeline with a simple `for` loop."
   ]
  },
  {
   "cell_type": "code",
   "execution_count": 3,
   "metadata": {},
   "outputs": [
    {
     "name": "stdout",
     "output_type": "stream",
     "text": [
      "CPU times: user 1min 30s, sys: 1.26 s, total: 1min 31s\n",
      "Wall time: 4min 34s\n"
     ]
    },
    {
     "data": {
      "text/html": [
       "<div>\n",
       "<style scoped>\n",
       "    .dataframe tbody tr th:only-of-type {\n",
       "        vertical-align: middle;\n",
       "    }\n",
       "\n",
       "    .dataframe tbody tr th {\n",
       "        vertical-align: top;\n",
       "    }\n",
       "\n",
       "    .dataframe thead th {\n",
       "        text-align: right;\n",
       "    }\n",
       "</style>\n",
       "<table border=\"1\" class=\"dataframe\">\n",
       "  <thead>\n",
       "    <tr style=\"text-align: right;\">\n",
       "      <th></th>\n",
       "      <th>person</th>\n",
       "      <th>title</th>\n",
       "    </tr>\n",
       "  </thead>\n",
       "  <tbody>\n",
       "    <tr>\n",
       "      <th>0</th>\n",
       "      <td>[1977, 1991): 'Wendi Whitmore'</td>\n",
       "      <td>[1993, 2040): 'Vice President, IBM X-Force Thr...</td>\n",
       "    </tr>\n",
       "    <tr>\n",
       "      <th>0</th>\n",
       "      <td>[1281, 1292): 'Rob DiCicco'</td>\n",
       "      <td>[1294, 1348): 'PharmD, Deputy Chief Health Off...</td>\n",
       "    </tr>\n",
       "    <tr>\n",
       "      <th>0</th>\n",
       "      <td>[1213, 1229): 'Christoph Herman'</td>\n",
       "      <td>[1231, 1281): 'SVP and Head of SAP HANA Enterp...</td>\n",
       "    </tr>\n",
       "    <tr>\n",
       "      <th>1</th>\n",
       "      <td>[2227, 2242): 'Stephen Leonard'</td>\n",
       "      <td>[2244, 2282): 'General Manager, IBM Cognitive ...</td>\n",
       "    </tr>\n",
       "    <tr>\n",
       "      <th>0</th>\n",
       "      <td>[2290, 2298): 'Bob Lord'</td>\n",
       "      <td>[2300, 2376): 'IBM Senior Vice President of Co...</td>\n",
       "    </tr>\n",
       "    <tr>\n",
       "      <th>...</th>\n",
       "      <td>...</td>\n",
       "      <td>...</td>\n",
       "    </tr>\n",
       "    <tr>\n",
       "      <th>1</th>\n",
       "      <td>[2119, 2134): 'James Kavanaugh'</td>\n",
       "      <td>[2136, 2189): 'IBM senior vice president and c...</td>\n",
       "    </tr>\n",
       "    <tr>\n",
       "      <th>0</th>\n",
       "      <td>[3113, 3123): 'Mike Doran'</td>\n",
       "      <td>[3125, 3156): 'Worldwide Sales Director at IBM'</td>\n",
       "    </tr>\n",
       "    <tr>\n",
       "      <th>0</th>\n",
       "      <td>[3156, 3170): 'Howard Boville'</td>\n",
       "      <td>[3172, 3211): 'Senior Vice President, IBM Hybr...</td>\n",
       "    </tr>\n",
       "    <tr>\n",
       "      <th>0</th>\n",
       "      <td>[3511, 3525): 'Hillery Hunter'</td>\n",
       "      <td>[3527, 3558): 'IBM Fellow, VP &amp; CTO, IBM Cloud'</td>\n",
       "    </tr>\n",
       "    <tr>\n",
       "      <th>0</th>\n",
       "      <td>[1488, 1498): 'Ana Zamper'</td>\n",
       "      <td>[1500, 1535): 'Ecosystem Leader, IBM Latin Ame...</td>\n",
       "    </tr>\n",
       "  </tbody>\n",
       "</table>\n",
       "<p>257 rows × 2 columns</p>\n",
       "</div>"
      ],
      "text/plain": [
       "                              person  \\\n",
       "0     [1977, 1991): 'Wendi Whitmore'   \n",
       "0        [1281, 1292): 'Rob DiCicco'   \n",
       "0   [1213, 1229): 'Christoph Herman'   \n",
       "1    [2227, 2242): 'Stephen Leonard'   \n",
       "0           [2290, 2298): 'Bob Lord'   \n",
       "..                               ...   \n",
       "1    [2119, 2134): 'James Kavanaugh'   \n",
       "0         [3113, 3123): 'Mike Doran'   \n",
       "0     [3156, 3170): 'Howard Boville'   \n",
       "0     [3511, 3525): 'Hillery Hunter'   \n",
       "0         [1488, 1498): 'Ana Zamper'   \n",
       "\n",
       "                                                title  \n",
       "0   [1993, 2040): 'Vice President, IBM X-Force Thr...  \n",
       "0   [1294, 1348): 'PharmD, Deputy Chief Health Off...  \n",
       "0   [1231, 1281): 'SVP and Head of SAP HANA Enterp...  \n",
       "1   [2244, 2282): 'General Manager, IBM Cognitive ...  \n",
       "0   [2300, 2376): 'IBM Senior Vice President of Co...  \n",
       "..                                                ...  \n",
       "1   [2136, 2189): 'IBM senior vice president and c...  \n",
       "0     [3125, 3156): 'Worldwide Sales Director at IBM'  \n",
       "0   [3172, 3211): 'Senior Vice President, IBM Hybr...  \n",
       "0     [3527, 3558): 'IBM Fellow, VP & CTO, IBM Cloud'  \n",
       "0   [1500, 1535): 'Ecosystem Leader, IBM Latin Ame...  \n",
       "\n",
       "[257 rows x 2 columns]"
      ]
     },
     "execution_count": 3,
     "metadata": {},
     "output_type": "execute_result"
    }
   ],
   "source": [
    "%%time\n",
    "\n",
    "spacy_language_model = spacy.load(\"en_core_web_trf\")\n",
    "nlu_api = ibm_watson.NaturalLanguageUnderstandingV1(version=\"2021-01-01\", \n",
    "            authenticator=ibm_cloud_sdk_core.authenticators.IAMAuthenticator(api_key))\n",
    "nlu_api.set_service_url(service_url)\n",
    "\n",
    "def steps_1_through_4(doc_html: str) -> pd.DataFrame:\n",
    "    step_1_results = mi.extract_named_entities_and_semantic_roles(doc_html, nlu_api)\n",
    "    step_2_results = mi.identify_persons_quoted_by_name(step_1_results)   \n",
    "    step_3_results = mi.perform_targeted_dependency_parsing(\n",
    "                                                   step_2_results[\"person\"],\n",
    "                                                   spacy_language_model)\n",
    "    step_4_results = mi.extract_titles_of_persons(step_2_results, step_3_results)\n",
    "    return step_4_results\n",
    "\n",
    "# Repeat steps 1-4 on every document\n",
    "dataframes_to_stack = [\n",
    "    steps_1_through_4(doc_html) for doc_html in articles[\"html\"]\n",
    "]\n",
    "\n",
    "# Step 5: Merge the results across documents\n",
    "step_5_results = pd.concat(dataframes_to_stack)\n",
    "step_5_results"
   ]
  },
  {
   "cell_type": "markdown",
   "metadata": {},
   "source": [
    "This code ran in about 4 1/2 minutes, a 3x improvement from the start of Part 3.\n",
    "\n",
    "Now it's time to deploy parallel processing and improve that performance some more."
   ]
  },
  {
   "cell_type": "markdown",
   "metadata": {},
   "source": [
    "## First version: Wrap the entire processing pipeline in a `@ray.remote` decorator."
   ]
  },
  {
   "cell_type": "markdown",
   "metadata": {},
   "source": [
    "Let's use [Ray](https://ray.io) to parallelize our document processing steps.\n",
    "\n",
    "TODO: Intro to Ray\n",
    "\n",
    "as you tune the accuracy of an NLP application, you'll move between different scales\n",
    "\n",
    "from examining results on individual documents on your laptop\n",
    "\n",
    "to processing dozens of documents on your laptop\n",
    "\n",
    "to processing thousands of documents on a server\n",
    "\n",
    "to processing millions of documents on a cluster\n",
    "\n",
    "and back again to your laptop for the next round of tuning\n",
    "\n",
    "Ray lets you code up your processing pipeline once and have it work well across this wide variety of scales.\n",
    "\n",
    "\n",
    "The first step is to start up a Ray cluster by calling `ray.init()`."
   ]
  },
  {
   "cell_type": "code",
   "execution_count": 4,
   "metadata": {},
   "outputs": [
    {
     "name": "stderr",
     "output_type": "stream",
     "text": [
      "2021-05-18 17:03:31,861\tINFO services.py:1174 -- View the Ray dashboard at \u001b[1m\u001b[32mhttp://127.0.0.1:8265\u001b[39m\u001b[22m\n"
     ]
    }
   ],
   "source": [
    "def reboot_ray():\n",
    "    if ray.is_initialized():\n",
    "        ray.shutdown()\n",
    "    ray.init()\n",
    "    \n",
    "reboot_ray()"
   ]
  },
  {
   "cell_type": "markdown",
   "metadata": {},
   "source": [
    "Now let's try the simplest approach possible: Wrap our document processing code in a Ray remote function. To create a remote function, we just need to define a Python function and add the `@ray.remote` decorator to the function:"
   ]
  },
  {
   "cell_type": "code",
   "execution_count": 5,
   "metadata": {
    "scrolled": true
   },
   "outputs": [],
   "source": [
    "# NOTE: The blog version of this cell should show this code side-by-side with the \n",
    "#  original code and highlight the changes.\n",
    "\n",
    "spacy_language_model = spacy.load(\"en_core_web_trf\")\n",
    "nlu_api = ibm_watson.NaturalLanguageUnderstandingV1(version=\"2021-01-01\", \n",
    "            authenticator=ibm_cloud_sdk_core.authenticators.IAMAuthenticator(api_key))\n",
    "nlu_api.set_service_url(service_url)\n",
    "\n",
    "# @ray.remote decorator defines a Ray task\n",
    "@ray.remote\n",
    "def steps_1_through_4(doc_html: str) -> pd.DataFrame:\n",
    "    step_1_results = mi.extract_named_entities_and_semantic_roles(doc_html, nlu_api)\n",
    "    step_2_results = mi.identify_persons_quoted_by_name(step_1_results)   \n",
    "    step_3_results = mi.perform_targeted_dependency_parsing(\n",
    "                                                   step_2_results[\"person\"],\n",
    "                                                   spacy_language_model)\n",
    "    step_4_results = mi.extract_titles_of_persons(step_2_results, step_3_results)\n",
    "    return step_4_results\n",
    "\n"
   ]
  },
  {
   "cell_type": "markdown",
   "metadata": {},
   "source": [
    "Now we can push the processing of a document to the Ray cluster by spawning a copy of the remote function. To spawn a copy of the function, we call the remote function's `remote()` method, which starts running the function in the background and returns a *future* -- a placeholder for the result that the function will produce when it completes.\n",
    "\n",
    "If we pass the future to `ray.get()`, then Ray will block until the function has completed, download the result to the calling process, and return the result:"
   ]
  },
  {
   "cell_type": "code",
   "execution_count": 6,
   "metadata": {},
   "outputs": [
    {
     "ename": "TypeError",
     "evalue": "can't pickle _thread.RLock objects",
     "output_type": "error",
     "traceback": [
      "\u001b[0;31m---------------------------------------------------------------------------\u001b[0m",
      "\u001b[0;31mTypeError\u001b[0m                                 Traceback (most recent call last)",
      "\u001b[0;32m<ipython-input-6-2819049ba94d>\u001b[0m in \u001b[0;36m<module>\u001b[0;34m\u001b[0m\n\u001b[1;32m      1\u001b[0m \u001b[0mdoc_html\u001b[0m \u001b[0;34m=\u001b[0m \u001b[0marticles\u001b[0m\u001b[0;34m.\u001b[0m\u001b[0miloc\u001b[0m\u001b[0;34m[\u001b[0m\u001b[0;36m1\u001b[0m\u001b[0;34m]\u001b[0m\u001b[0;34m[\u001b[0m\u001b[0;34m\"html\"\u001b[0m\u001b[0;34m]\u001b[0m\u001b[0;34m\u001b[0m\u001b[0;34m\u001b[0m\u001b[0m\n\u001b[1;32m      2\u001b[0m \u001b[0;34m\u001b[0m\u001b[0m\n\u001b[0;32m----> 3\u001b[0;31m \u001b[0mfuture\u001b[0m \u001b[0;34m=\u001b[0m \u001b[0msteps_1_through_4\u001b[0m\u001b[0;34m.\u001b[0m\u001b[0mremote\u001b[0m\u001b[0;34m(\u001b[0m\u001b[0mdoc_html\u001b[0m\u001b[0;34m)\u001b[0m\u001b[0;34m\u001b[0m\u001b[0;34m\u001b[0m\u001b[0m\n\u001b[0m\u001b[1;32m      4\u001b[0m \u001b[0mstep_4_results\u001b[0m \u001b[0;34m=\u001b[0m \u001b[0mray\u001b[0m\u001b[0;34m.\u001b[0m\u001b[0mget\u001b[0m\u001b[0;34m(\u001b[0m\u001b[0mfuture\u001b[0m\u001b[0;34m)\u001b[0m\u001b[0;34m\u001b[0m\u001b[0;34m\u001b[0m\u001b[0m\n",
      "\u001b[0;32m~/opt/miniconda3/envs/pd/lib/python3.7/site-packages/ray/remote_function.py\u001b[0m in \u001b[0;36m_remote_proxy\u001b[0;34m(*args, **kwargs)\u001b[0m\n\u001b[1;32m     99\u001b[0m         \u001b[0;34m@\u001b[0m\u001b[0mwraps\u001b[0m\u001b[0;34m(\u001b[0m\u001b[0mfunction\u001b[0m\u001b[0;34m)\u001b[0m\u001b[0;34m\u001b[0m\u001b[0;34m\u001b[0m\u001b[0m\n\u001b[1;32m    100\u001b[0m         \u001b[0;32mdef\u001b[0m \u001b[0m_remote_proxy\u001b[0m\u001b[0;34m(\u001b[0m\u001b[0;34m*\u001b[0m\u001b[0margs\u001b[0m\u001b[0;34m,\u001b[0m \u001b[0;34m**\u001b[0m\u001b[0mkwargs\u001b[0m\u001b[0;34m)\u001b[0m\u001b[0;34m:\u001b[0m\u001b[0;34m\u001b[0m\u001b[0;34m\u001b[0m\u001b[0m\n\u001b[0;32m--> 101\u001b[0;31m             \u001b[0;32mreturn\u001b[0m \u001b[0mself\u001b[0m\u001b[0;34m.\u001b[0m\u001b[0m_remote\u001b[0m\u001b[0;34m(\u001b[0m\u001b[0margs\u001b[0m\u001b[0;34m=\u001b[0m\u001b[0margs\u001b[0m\u001b[0;34m,\u001b[0m \u001b[0mkwargs\u001b[0m\u001b[0;34m=\u001b[0m\u001b[0mkwargs\u001b[0m\u001b[0;34m)\u001b[0m\u001b[0;34m\u001b[0m\u001b[0;34m\u001b[0m\u001b[0m\n\u001b[0m\u001b[1;32m    102\u001b[0m \u001b[0;34m\u001b[0m\u001b[0m\n\u001b[1;32m    103\u001b[0m         \u001b[0mself\u001b[0m\u001b[0;34m.\u001b[0m\u001b[0mremote\u001b[0m \u001b[0;34m=\u001b[0m \u001b[0m_remote_proxy\u001b[0m\u001b[0;34m\u001b[0m\u001b[0;34m\u001b[0m\u001b[0m\n",
      "\u001b[0;32m~/opt/miniconda3/envs/pd/lib/python3.7/site-packages/ray/remote_function.py\u001b[0m in \u001b[0;36m_remote\u001b[0;34m(self, args, kwargs, num_returns, num_cpus, num_gpus, memory, object_store_memory, accelerator_type, resources, max_retries, placement_group, placement_group_bundle_index, placement_group_capture_child_tasks, override_environment_variables, name)\u001b[0m\n\u001b[1;32m    199\u001b[0m             \u001b[0;31m# first driver. This is an argument for repickling the function,\u001b[0m\u001b[0;34m\u001b[0m\u001b[0;34m\u001b[0m\u001b[0;34m\u001b[0m\u001b[0m\n\u001b[1;32m    200\u001b[0m             \u001b[0;31m# which we do here.\u001b[0m\u001b[0;34m\u001b[0m\u001b[0;34m\u001b[0m\u001b[0;34m\u001b[0m\u001b[0m\n\u001b[0;32m--> 201\u001b[0;31m             \u001b[0mself\u001b[0m\u001b[0;34m.\u001b[0m\u001b[0m_pickled_function\u001b[0m \u001b[0;34m=\u001b[0m \u001b[0mpickle\u001b[0m\u001b[0;34m.\u001b[0m\u001b[0mdumps\u001b[0m\u001b[0;34m(\u001b[0m\u001b[0mself\u001b[0m\u001b[0;34m.\u001b[0m\u001b[0m_function\u001b[0m\u001b[0;34m)\u001b[0m\u001b[0;34m\u001b[0m\u001b[0;34m\u001b[0m\u001b[0m\n\u001b[0m\u001b[1;32m    202\u001b[0m \u001b[0;34m\u001b[0m\u001b[0m\n\u001b[1;32m    203\u001b[0m             self._function_descriptor = PythonFunctionDescriptor.from_function(\n",
      "\u001b[0;32m~/opt/miniconda3/envs/pd/lib/python3.7/site-packages/ray/cloudpickle/cloudpickle_fast.py\u001b[0m in \u001b[0;36mdumps\u001b[0;34m(obj, protocol, buffer_callback)\u001b[0m\n\u001b[1;32m     71\u001b[0m                 \u001b[0mfile\u001b[0m\u001b[0;34m,\u001b[0m \u001b[0mprotocol\u001b[0m\u001b[0;34m=\u001b[0m\u001b[0mprotocol\u001b[0m\u001b[0;34m,\u001b[0m \u001b[0mbuffer_callback\u001b[0m\u001b[0;34m=\u001b[0m\u001b[0mbuffer_callback\u001b[0m\u001b[0;34m\u001b[0m\u001b[0;34m\u001b[0m\u001b[0m\n\u001b[1;32m     72\u001b[0m             )\n\u001b[0;32m---> 73\u001b[0;31m             \u001b[0mcp\u001b[0m\u001b[0;34m.\u001b[0m\u001b[0mdump\u001b[0m\u001b[0;34m(\u001b[0m\u001b[0mobj\u001b[0m\u001b[0;34m)\u001b[0m\u001b[0;34m\u001b[0m\u001b[0;34m\u001b[0m\u001b[0m\n\u001b[0m\u001b[1;32m     74\u001b[0m             \u001b[0;32mreturn\u001b[0m \u001b[0mfile\u001b[0m\u001b[0;34m.\u001b[0m\u001b[0mgetvalue\u001b[0m\u001b[0;34m(\u001b[0m\u001b[0;34m)\u001b[0m\u001b[0;34m\u001b[0m\u001b[0;34m\u001b[0m\u001b[0m\n\u001b[1;32m     75\u001b[0m \u001b[0;34m\u001b[0m\u001b[0m\n",
      "\u001b[0;32m~/opt/miniconda3/envs/pd/lib/python3.7/site-packages/ray/cloudpickle/cloudpickle_fast.py\u001b[0m in \u001b[0;36mdump\u001b[0;34m(self, obj)\u001b[0m\n\u001b[1;32m    572\u001b[0m     \u001b[0;32mdef\u001b[0m \u001b[0mdump\u001b[0m\u001b[0;34m(\u001b[0m\u001b[0mself\u001b[0m\u001b[0;34m,\u001b[0m \u001b[0mobj\u001b[0m\u001b[0;34m)\u001b[0m\u001b[0;34m:\u001b[0m\u001b[0;34m\u001b[0m\u001b[0;34m\u001b[0m\u001b[0m\n\u001b[1;32m    573\u001b[0m         \u001b[0;32mtry\u001b[0m\u001b[0;34m:\u001b[0m\u001b[0;34m\u001b[0m\u001b[0;34m\u001b[0m\u001b[0m\n\u001b[0;32m--> 574\u001b[0;31m             \u001b[0;32mreturn\u001b[0m \u001b[0mPickler\u001b[0m\u001b[0;34m.\u001b[0m\u001b[0mdump\u001b[0m\u001b[0;34m(\u001b[0m\u001b[0mself\u001b[0m\u001b[0;34m,\u001b[0m \u001b[0mobj\u001b[0m\u001b[0;34m)\u001b[0m\u001b[0;34m\u001b[0m\u001b[0;34m\u001b[0m\u001b[0m\n\u001b[0m\u001b[1;32m    575\u001b[0m         \u001b[0;32mexcept\u001b[0m \u001b[0mRuntimeError\u001b[0m \u001b[0;32mas\u001b[0m \u001b[0me\u001b[0m\u001b[0;34m:\u001b[0m\u001b[0;34m\u001b[0m\u001b[0;34m\u001b[0m\u001b[0m\n\u001b[1;32m    576\u001b[0m             \u001b[0;32mif\u001b[0m \u001b[0;34m\"recursion\"\u001b[0m \u001b[0;32min\u001b[0m \u001b[0me\u001b[0m\u001b[0;34m.\u001b[0m\u001b[0margs\u001b[0m\u001b[0;34m[\u001b[0m\u001b[0;36m0\u001b[0m\u001b[0;34m]\u001b[0m\u001b[0;34m:\u001b[0m\u001b[0;34m\u001b[0m\u001b[0;34m\u001b[0m\u001b[0m\n",
      "\u001b[0;31mTypeError\u001b[0m: can't pickle _thread.RLock objects"
     ]
    }
   ],
   "source": [
    "doc_html = articles.iloc[1][\"html\"]\n",
    "\n",
    "future = steps_1_through_4.remote(doc_html)\n",
    "step_4_results = ray.get(future)"
   ]
  },
  {
   "cell_type": "markdown",
   "metadata": {},
   "source": [
    "oops, can't pickle a connection to Watson NLU -- it has open sockets and lock objects\n",
    "\n",
    "also can't pickle the language model inside the SpaCy dependency parser\n",
    "(as of SpaCy version 3.0).\n",
    "and even if you could, it's a 500 megabyte model.\n",
    "\n",
    "To make this work, we'll need to pull the initialization code inside the Ray task:"
   ]
  },
  {
   "cell_type": "code",
   "execution_count": 7,
   "metadata": {},
   "outputs": [],
   "source": [
    "@ray.remote\n",
    "def steps_1_through_4(doc_html: str) -> pd.DataFrame:\n",
    "    spacy_language_model = spacy.load(\"en_core_web_trf\")\n",
    "    nlu_api = ibm_watson.NaturalLanguageUnderstandingV1(version=\"2021-01-01\", \n",
    "            authenticator=ibm_cloud_sdk_core.authenticators.IAMAuthenticator(api_key))\n",
    "    nlu_api.set_service_url(service_url)\n",
    "    \n",
    "    step_1_results = mi.extract_named_entities_and_semantic_roles(doc_html, nlu_api)\n",
    "    step_2_results = mi.identify_persons_quoted_by_name(step_1_results)   \n",
    "    step_3_results = mi.perform_targeted_dependency_parsing(\n",
    "                                                   step_2_results[\"person\"],\n",
    "                                                   spacy_language_model)\n",
    "    step_4_results = mi.extract_titles_of_persons(step_2_results, step_3_results)\n",
    "    return step_4_results\n"
   ]
  },
  {
   "cell_type": "markdown",
   "metadata": {},
   "source": [
    "Now our Ray task works on a single document:"
   ]
  },
  {
   "cell_type": "code",
   "execution_count": 8,
   "metadata": {},
   "outputs": [
    {
     "data": {
      "text/html": [
       "<div>\n",
       "<style scoped>\n",
       "    .dataframe tbody tr th:only-of-type {\n",
       "        vertical-align: middle;\n",
       "    }\n",
       "\n",
       "    .dataframe tbody tr th {\n",
       "        vertical-align: top;\n",
       "    }\n",
       "\n",
       "    .dataframe thead th {\n",
       "        text-align: right;\n",
       "    }\n",
       "</style>\n",
       "<table border=\"1\" class=\"dataframe\">\n",
       "  <thead>\n",
       "    <tr style=\"text-align: right;\">\n",
       "      <th></th>\n",
       "      <th>person</th>\n",
       "      <th>title</th>\n",
       "    </tr>\n",
       "  </thead>\n",
       "  <tbody>\n",
       "    <tr>\n",
       "      <th>0</th>\n",
       "      <td>[1977, 1991): 'Wendi Whitmore'</td>\n",
       "      <td>[1993, 2040): 'Vice President, IBM X-Force Thr...</td>\n",
       "    </tr>\n",
       "  </tbody>\n",
       "</table>\n",
       "</div>"
      ],
      "text/plain": [
       "                           person  \\\n",
       "0  [1977, 1991): 'Wendi Whitmore'   \n",
       "\n",
       "                                               title  \n",
       "0  [1993, 2040): 'Vice President, IBM X-Force Thr...  "
      ]
     },
     "execution_count": 8,
     "metadata": {},
     "output_type": "execute_result"
    }
   ],
   "source": [
    "step_4_results = ray.get(steps_1_through_4.remote(doc_html))\n",
    "step_4_results"
   ]
  },
  {
   "cell_type": "markdown",
   "metadata": {},
   "source": [
    "To process our entire collection of documents, we modify our `for` loop so that it spawns background tasks for each of the documents instead of processing the documents locally. Then we wrap the `for` loop in a call to `ray.get()`, which tells Ray to wait until all the background tasks have completed and collect the results:"
   ]
  },
  {
   "cell_type": "code",
   "execution_count": 9,
   "metadata": {},
   "outputs": [
    {
     "name": "stderr",
     "output_type": "stream",
     "text": [
      "2021-05-18 17:28:20,508\tINFO services.py:1174 -- View the Ray dashboard at \u001b[1m\u001b[32mhttp://127.0.0.1:8265\u001b[39m\u001b[22m\n"
     ]
    }
   ],
   "source": [
    "reboot_ray()"
   ]
  },
  {
   "cell_type": "code",
   "execution_count": 10,
   "metadata": {},
   "outputs": [
    {
     "name": "stdout",
     "output_type": "stream",
     "text": [
      "\u001b[2m\u001b[36m(pid=17001)\u001b[0m Request failed 1 times; retrying in 1 sec\n",
      "\u001b[2m\u001b[36m(pid=17001)\u001b[0m Request failed 1 times; retrying in 1 sec\n",
      "\u001b[2m\u001b[36m(pid=17000)\u001b[0m Request failed 1 times; retrying in 1 sec\n",
      "\u001b[2m\u001b[36m(pid=17000)\u001b[0m Request failed 1 times; retrying in 1 sec\n",
      "\u001b[2m\u001b[36m(pid=16999)\u001b[0m Request failed 1 times; retrying in 1 sec\n",
      "\u001b[2m\u001b[36m(pid=16999)\u001b[0m Request failed 1 times; retrying in 1 sec\n",
      "\u001b[2m\u001b[36m(pid=16991)\u001b[0m Request failed 1 times; retrying in 1 sec\n",
      "\u001b[2m\u001b[36m(pid=16991)\u001b[0m Request failed 1 times; retrying in 1 sec\n",
      "\u001b[2m\u001b[36m(pid=17000)\u001b[0m Request failed 1 times; retrying in 1 sec\n",
      "\u001b[2m\u001b[36m(pid=17000)\u001b[0m Request failed 1 times; retrying in 1 sec\n",
      "CPU times: user 4.65 s, sys: 1.44 s, total: 6.09 s\n",
      "Wall time: 2min 20s\n"
     ]
    },
    {
     "data": {
      "text/html": [
       "<div>\n",
       "<style scoped>\n",
       "    .dataframe tbody tr th:only-of-type {\n",
       "        vertical-align: middle;\n",
       "    }\n",
       "\n",
       "    .dataframe tbody tr th {\n",
       "        vertical-align: top;\n",
       "    }\n",
       "\n",
       "    .dataframe thead th {\n",
       "        text-align: right;\n",
       "    }\n",
       "</style>\n",
       "<table border=\"1\" class=\"dataframe\">\n",
       "  <thead>\n",
       "    <tr style=\"text-align: right;\">\n",
       "      <th></th>\n",
       "      <th>person</th>\n",
       "      <th>title</th>\n",
       "    </tr>\n",
       "  </thead>\n",
       "  <tbody>\n",
       "    <tr>\n",
       "      <th>0</th>\n",
       "      <td>[1977, 1991): 'Wendi Whitmore'</td>\n",
       "      <td>[1993, 2040): 'Vice President, IBM X-Force Thr...</td>\n",
       "    </tr>\n",
       "    <tr>\n",
       "      <th>0</th>\n",
       "      <td>[1281, 1292): 'Rob DiCicco'</td>\n",
       "      <td>[1294, 1348): 'PharmD, Deputy Chief Health Off...</td>\n",
       "    </tr>\n",
       "    <tr>\n",
       "      <th>0</th>\n",
       "      <td>[1213, 1229): 'Christoph Herman'</td>\n",
       "      <td>[1231, 1281): 'SVP and Head of SAP HANA Enterp...</td>\n",
       "    </tr>\n",
       "    <tr>\n",
       "      <th>1</th>\n",
       "      <td>[2227, 2242): 'Stephen Leonard'</td>\n",
       "      <td>[2244, 2282): 'General Manager, IBM Cognitive ...</td>\n",
       "    </tr>\n",
       "    <tr>\n",
       "      <th>0</th>\n",
       "      <td>[2290, 2298): 'Bob Lord'</td>\n",
       "      <td>[2300, 2376): 'IBM Senior Vice President of Co...</td>\n",
       "    </tr>\n",
       "    <tr>\n",
       "      <th>...</th>\n",
       "      <td>...</td>\n",
       "      <td>...</td>\n",
       "    </tr>\n",
       "    <tr>\n",
       "      <th>1</th>\n",
       "      <td>[2119, 2134): 'James Kavanaugh'</td>\n",
       "      <td>[2136, 2189): 'IBM senior vice president and c...</td>\n",
       "    </tr>\n",
       "    <tr>\n",
       "      <th>0</th>\n",
       "      <td>[3113, 3123): 'Mike Doran'</td>\n",
       "      <td>[3125, 3156): 'Worldwide Sales Director at IBM'</td>\n",
       "    </tr>\n",
       "    <tr>\n",
       "      <th>0</th>\n",
       "      <td>[3156, 3170): 'Howard Boville'</td>\n",
       "      <td>[3172, 3211): 'Senior Vice President, IBM Hybr...</td>\n",
       "    </tr>\n",
       "    <tr>\n",
       "      <th>0</th>\n",
       "      <td>[3511, 3525): 'Hillery Hunter'</td>\n",
       "      <td>[3527, 3558): 'IBM Fellow, VP &amp; CTO, IBM Cloud'</td>\n",
       "    </tr>\n",
       "    <tr>\n",
       "      <th>0</th>\n",
       "      <td>[1488, 1498): 'Ana Zamper'</td>\n",
       "      <td>[1500, 1535): 'Ecosystem Leader, IBM Latin Ame...</td>\n",
       "    </tr>\n",
       "  </tbody>\n",
       "</table>\n",
       "<p>257 rows × 2 columns</p>\n",
       "</div>"
      ],
      "text/plain": [
       "                              person  \\\n",
       "0     [1977, 1991): 'Wendi Whitmore'   \n",
       "0        [1281, 1292): 'Rob DiCicco'   \n",
       "0   [1213, 1229): 'Christoph Herman'   \n",
       "1    [2227, 2242): 'Stephen Leonard'   \n",
       "0           [2290, 2298): 'Bob Lord'   \n",
       "..                               ...   \n",
       "1    [2119, 2134): 'James Kavanaugh'   \n",
       "0         [3113, 3123): 'Mike Doran'   \n",
       "0     [3156, 3170): 'Howard Boville'   \n",
       "0     [3511, 3525): 'Hillery Hunter'   \n",
       "0         [1488, 1498): 'Ana Zamper'   \n",
       "\n",
       "                                                title  \n",
       "0   [1993, 2040): 'Vice President, IBM X-Force Thr...  \n",
       "0   [1294, 1348): 'PharmD, Deputy Chief Health Off...  \n",
       "0   [1231, 1281): 'SVP and Head of SAP HANA Enterp...  \n",
       "1   [2244, 2282): 'General Manager, IBM Cognitive ...  \n",
       "0   [2300, 2376): 'IBM Senior Vice President of Co...  \n",
       "..                                                ...  \n",
       "1   [2136, 2189): 'IBM senior vice president and c...  \n",
       "0     [3125, 3156): 'Worldwide Sales Director at IBM'  \n",
       "0   [3172, 3211): 'Senior Vice President, IBM Hybr...  \n",
       "0     [3527, 3558): 'IBM Fellow, VP & CTO, IBM Cloud'  \n",
       "0   [1500, 1535): 'Ecosystem Leader, IBM Latin Ame...  \n",
       "\n",
       "[257 rows x 2 columns]"
      ]
     },
     "execution_count": 10,
     "metadata": {},
     "output_type": "execute_result"
    }
   ],
   "source": [
    "%%time\n",
    "\n",
    "# NOTE: The blog version of this listing should highlight what has changed \n",
    "#  relative to the original code.\n",
    "\n",
    "@ray.remote\n",
    "def steps_1_through_4(doc_html: str) -> pd.DataFrame:\n",
    "    nlu_api = ibm_watson.NaturalLanguageUnderstandingV1(version=\"2021-01-01\", \n",
    "            authenticator=ibm_cloud_sdk_core.authenticators.IAMAuthenticator(api_key))\n",
    "    nlu_api.set_service_url(service_url)\n",
    "    spacy_language_model = spacy.load(\"en_core_web_trf\")\n",
    "    \n",
    "    step_1_results = mi.extract_named_entities_and_semantic_roles(doc_html, nlu_api)\n",
    "    step_2_results = mi.identify_persons_quoted_by_name(step_1_results)   \n",
    "    step_3_results = mi.perform_targeted_dependency_parsing(\n",
    "                                                   step_2_results[\"person\"],\n",
    "                                                   spacy_language_model)\n",
    "    step_4_results = mi.extract_titles_of_persons(step_2_results, step_3_results)\n",
    "    return step_4_results\n",
    "\n",
    "# Repeat steps 1-4 on every document, at the same time\n",
    "dataframes_to_stack = ray.get([\n",
    "    steps_1_through_4.remote(doc_html) for doc_html in articles[\"html\"]\n",
    "])\n",
    "\n",
    "# Step 5: Merge the results across documents\n",
    "step_5_results = pd.concat(dataframes_to_stack)\n",
    "step_5_results"
   ]
  },
  {
   "cell_type": "markdown",
   "metadata": {},
   "source": [
    "This version actually works, and it runs in 1:35 on an 8-core laptop -- an additional performance improvement of almost 3x on top of the 3x improvement from Part 3.\n",
    "\n",
    "But there's room for two kinds of additional improvement:\n",
    "* This code loads a 500 megabyte model for every document, which incurs a signficant additional cost. The 8 cores on our test machine are fully occupied, but we only see a speedup of 3. So we're using more than twice as many CPU cycles per document.\n",
    "* This code produces several screens of scary log messages like: \n",
    "  ```\n",
    "  (pid=8210) ERROR:root:Too Many Requests\n",
    "  (pid=8210) Traceback (most recent call last):\n",
    "  (pid=8210)   File \"/Users/freiss/pd/blogs-market/env/lib/python3.7/site-packages/ibm_cloud_sdk_core/base_service.py\", line 225, in send\n",
    "  (pid=8210)     response.status_code, http_response=response)\n",
    "  (pid=8210) ibm_cloud_sdk_core.api_exception.ApiException: Error: Too Many Requests, Code: 429 , X-global-transaction-id: ded4dd39-a617-4ce2-9d54-26aa7a82ab95\n",
    "  (pid=8210) Request failed 2 times; retrying in 2 sec\n",
    "  ```\n",
    "  because we're exceeding the request rate limit of our free Lite instance of Watson Natural Language Understanding. The limit for a Lite instance is 5 requests per second.\n",
    "  We should be able to finish our 190 documents in 38 seconds while staying below the limit.\n",
    "  But instead we're taking twice as long while continually bumping up against the limit and having to retry requests.\n",
    "  \n",
    "We can use Ray *actors* to address both of these problems."
   ]
  },
  {
   "cell_type": "markdown",
   "metadata": {},
   "source": [
    "## Using actors to avoid repeated model startup"
   ]
  },
  {
   "cell_type": "markdown",
   "metadata": {},
   "source": [
    "A Ray *actor* is persistent Python or Java object that lives in a Ray worker process. Actors can maintain arbitrary amounts of state, both mutable and immutable. If we attach the SpaCy language model to an actor, then the model will be initialized once in the actor's constructor instead of being loaded each time we process a document.\n",
    "\n",
    "Turning our `steps_1_through_4()` function into a Ray Actor is a simple matter of restructuring the code slightly.\n",
    "\n",
    "Here's the code before using actor:\n",
    "```python\n",
    "@ray.remote\n",
    "def steps_1_through_4(doc_html: str) -> pd.DataFrame:\n",
    "    spacy_language_model = spacy.load(\"en_core_web_trf\")\n",
    "    nlu_api = ibm_watson.NaturalLanguageUnderstandingV1(version=\"2021-01-01\", \n",
    "            authenticator=ibm_cloud_sdk_core.authenticators.IAMAuthenticator(api_key))\n",
    "    nlu_api.set_service_url(service_url)\n",
    "    \n",
    "    step_1_results = mi.extract_named_entities_and_semantic_roles(doc_html, nlu_api)\n",
    "    step_2_results = mi.identify_persons_quoted_by_name(step_1_results)   \n",
    "    step_3_results = mi.perform_targeted_dependency_parsing(\n",
    "                                                   step_1_results[\"analyzed_text\"],\n",
    "                                                   spacy_language_model)\n",
    "    step_4_results = mi.extract_titles_of_persons(step_2_results, step_3_results)\n",
    "    return step_4_results\n",
    "```\n",
    "\n",
    "And here's a version that uses an actor:"
   ]
  },
  {
   "cell_type": "code",
   "execution_count": 11,
   "metadata": {},
   "outputs": [],
   "source": [
    "@ray.remote\n",
    "class ParserModelActor(object):\n",
    "    def __init__(self, spacy_model_name: str):\n",
    "        self._language_model = spacy.load(spacy_model_name)\n",
    "        self._nlu_api = ibm_watson.NaturalLanguageUnderstandingV1(version=\"2021-01-01\", \n",
    "                authenticator=ibm_cloud_sdk_core.authenticators.IAMAuthenticator(api_key))\n",
    "        self._nlu_api.set_service_url(service_url)\n",
    "\n",
    "    def steps_1_through_4(self, doc_html: str) -> pd.DataFrame:\n",
    "        step_1_results = mi.extract_named_entities_and_semantic_roles(doc_html, \n",
    "                                                                      self._nlu_api)\n",
    "        step_2_results = mi.identify_persons_quoted_by_name(step_1_results)   \n",
    "        step_3_results = mi.perform_targeted_dependency_parsing(\n",
    "                                                       step_2_results[\"person\"],\n",
    "                                                       self._language_model)\n",
    "        step_4_results = mi.extract_titles_of_persons(step_2_results, step_3_results)\n",
    "        return step_4_results\n"
   ]
  },
  {
   "cell_type": "markdown",
   "metadata": {},
   "source": [
    "Compared with the previous Ray task, this version makes two important changes:\n",
    "* The model initializaiton in first line of `steps_1_through_4` moves to the class's constructor.\n",
    "* We use the actor's local copy, `self._language_model`, as the input to the processing for step 3.\n",
    "\n",
    "Invoking a Ray actor is a two-step process. First, you create an instance of the actor. Then you tell that instance to perform tasks.\n",
    "\n",
    "Here's some code that creates an instance of the `ParserModelActor` Actor, invokes the actor's `steps_1_through_4` task, blocks until the task completes, and returns the results:"
   ]
  },
  {
   "cell_type": "code",
   "execution_count": 12,
   "metadata": {},
   "outputs": [
    {
     "name": "stderr",
     "output_type": "stream",
     "text": [
      "2021-05-18 17:30:47,242\tINFO services.py:1174 -- View the Ray dashboard at \u001b[1m\u001b[32mhttp://127.0.0.1:8265\u001b[39m\u001b[22m\n"
     ]
    }
   ],
   "source": [
    "reboot_ray()"
   ]
  },
  {
   "cell_type": "code",
   "execution_count": 13,
   "metadata": {},
   "outputs": [
    {
     "data": {
      "text/html": [
       "<div>\n",
       "<style scoped>\n",
       "    .dataframe tbody tr th:only-of-type {\n",
       "        vertical-align: middle;\n",
       "    }\n",
       "\n",
       "    .dataframe tbody tr th {\n",
       "        vertical-align: top;\n",
       "    }\n",
       "\n",
       "    .dataframe thead th {\n",
       "        text-align: right;\n",
       "    }\n",
       "</style>\n",
       "<table border=\"1\" class=\"dataframe\">\n",
       "  <thead>\n",
       "    <tr style=\"text-align: right;\">\n",
       "      <th></th>\n",
       "      <th>person</th>\n",
       "      <th>title</th>\n",
       "    </tr>\n",
       "  </thead>\n",
       "  <tbody>\n",
       "    <tr>\n",
       "      <th>0</th>\n",
       "      <td>[1977, 1991): 'Wendi Whitmore'</td>\n",
       "      <td>[1993, 2040): 'Vice President, IBM X-Force Thr...</td>\n",
       "    </tr>\n",
       "  </tbody>\n",
       "</table>\n",
       "</div>"
      ],
      "text/plain": [
       "                           person  \\\n",
       "0  [1977, 1991): 'Wendi Whitmore'   \n",
       "\n",
       "                                               title  \n",
       "0  [1993, 2040): 'Vice President, IBM X-Force Thr...  "
      ]
     },
     "execution_count": 13,
     "metadata": {},
     "output_type": "execute_result"
    }
   ],
   "source": [
    "actor = ParserModelActor.remote(\"en_core_web_trf\")\n",
    "future = actor.steps_1_through_4.remote(doc_html)\n",
    "step_4_results = ray.get(future)\n",
    "step_4_results"
   ]
  },
  {
   "cell_type": "markdown",
   "metadata": {},
   "source": [
    "This code runs, performs the computation in the background, and produces the correct result. And the actor will remain active as long as the Python variable `actor` is still in scope. We can pass additional documents to the `steps_1_through_4` task without incurring the overhead of loading a language model each time.\n"
   ]
  },
  {
   "cell_type": "code",
   "execution_count": 14,
   "metadata": {},
   "outputs": [
    {
     "name": "stderr",
     "output_type": "stream",
     "text": [
      "2021-05-18 17:31:03,743\tINFO services.py:1174 -- View the Ray dashboard at \u001b[1m\u001b[32mhttp://127.0.0.1:8265\u001b[39m\u001b[22m\n"
     ]
    }
   ],
   "source": [
    "reboot_ray()"
   ]
  },
  {
   "cell_type": "code",
   "execution_count": 15,
   "metadata": {
    "tags": []
   },
   "outputs": [
    {
     "name": "stdout",
     "output_type": "stream",
     "text": [
      "\u001b[2m\u001b[36m(pid=17182)\u001b[0m Request failed 1 times; retrying in 1 sec\n",
      "\u001b[2m\u001b[36m(pid=17182)\u001b[0m Request failed 1 times; retrying in 1 sec\n",
      "\u001b[2m\u001b[36m(pid=17182)\u001b[0m Request failed 1 times; retrying in 1 sec\n",
      "\u001b[2m\u001b[36m(pid=17182)\u001b[0m Request failed 1 times; retrying in 1 sec\n",
      "\u001b[2m\u001b[36m(pid=17193)\u001b[0m Request failed 1 times; retrying in 1 sec\n",
      "\u001b[2m\u001b[36m(pid=17193)\u001b[0m Request failed 1 times; retrying in 1 sec\n",
      "\u001b[2m\u001b[36m(pid=17193)\u001b[0m Request failed 1 times; retrying in 1 sec\n",
      "\u001b[2m\u001b[36m(pid=17193)\u001b[0m Request failed 1 times; retrying in 1 sec\n",
      "\u001b[2m\u001b[36m(pid=17189)\u001b[0m Request failed 1 times; retrying in 1 sec\n",
      "\u001b[2m\u001b[36m(pid=17189)\u001b[0m Request failed 1 times; retrying in 1 sec\n",
      "\u001b[2m\u001b[36m(pid=17189)\u001b[0m Request failed 1 times; retrying in 1 sec\n",
      "\u001b[2m\u001b[36m(pid=17189)\u001b[0m Request failed 1 times; retrying in 1 sec\n",
      "\u001b[2m\u001b[36m(pid=17192)\u001b[0m Request failed 1 times; retrying in 1 sec\n",
      "\u001b[2m\u001b[36m(pid=17192)\u001b[0m Request failed 1 times; retrying in 1 sec\n",
      "\u001b[2m\u001b[36m(pid=17192)\u001b[0m Request failed 1 times; retrying in 1 sec\n",
      "\u001b[2m\u001b[36m(pid=17192)\u001b[0m Request failed 1 times; retrying in 1 sec\n",
      "\u001b[2m\u001b[36m(pid=17190)\u001b[0m Request failed 1 times; retrying in 1 sec\n",
      "\u001b[2m\u001b[36m(pid=17190)\u001b[0m Request failed 1 times; retrying in 1 sec\n",
      "\u001b[2m\u001b[36m(pid=17190)\u001b[0m Request failed 1 times; retrying in 1 sec\n",
      "\u001b[2m\u001b[36m(pid=17190)\u001b[0m Request failed 1 times; retrying in 1 sec\n",
      "\u001b[2m\u001b[36m(pid=17188)\u001b[0m Request failed 1 times; retrying in 1 sec\n",
      "\u001b[2m\u001b[36m(pid=17188)\u001b[0m Request failed 1 times; retrying in 1 sec\n",
      "\u001b[2m\u001b[36m(pid=17188)\u001b[0m Request failed 1 times; retrying in 1 sec\n",
      "\u001b[2m\u001b[36m(pid=17188)\u001b[0m Request failed 1 times; retrying in 1 sec\n",
      "\u001b[2m\u001b[36m(pid=17191)\u001b[0m Request failed 1 times; retrying in 1 sec\n",
      "\u001b[2m\u001b[36m(pid=17191)\u001b[0m Request failed 1 times; retrying in 1 sec\n",
      "\u001b[2m\u001b[36m(pid=17191)\u001b[0m Request failed 1 times; retrying in 1 sec\n",
      "\u001b[2m\u001b[36m(pid=17191)\u001b[0m Request failed 1 times; retrying in 1 sec\n",
      "\u001b[2m\u001b[36m(pid=17188)\u001b[0m Request failed 2 times; retrying in 2 sec\n",
      "\u001b[2m\u001b[36m(pid=17188)\u001b[0m Request failed 2 times; retrying in 2 sec\n",
      "\u001b[2m\u001b[36m(pid=17188)\u001b[0m Request failed 2 times; retrying in 2 sec\n",
      "\u001b[2m\u001b[36m(pid=17188)\u001b[0m Request failed 2 times; retrying in 2 sec\n",
      "\u001b[2m\u001b[36m(pid=17182)\u001b[0m Request failed 1 times; retrying in 1 sec\n",
      "\u001b[2m\u001b[36m(pid=17182)\u001b[0m Request failed 1 times; retrying in 1 sec\n",
      "\u001b[2m\u001b[36m(pid=17182)\u001b[0m Request failed 1 times; retrying in 1 sec\n",
      "\u001b[2m\u001b[36m(pid=17182)\u001b[0m Request failed 1 times; retrying in 1 sec\n",
      "\u001b[2m\u001b[36m(pid=17193)\u001b[0m Request failed 1 times; retrying in 1 sec\n",
      "\u001b[2m\u001b[36m(pid=17193)\u001b[0m Request failed 1 times; retrying in 1 sec\n",
      "\u001b[2m\u001b[36m(pid=17193)\u001b[0m Request failed 1 times; retrying in 1 sec\n",
      "\u001b[2m\u001b[36m(pid=17193)\u001b[0m Request failed 1 times; retrying in 1 sec\n",
      "\u001b[2m\u001b[36m(pid=17190)\u001b[0m Request failed 1 times; retrying in 1 sec\n",
      "\u001b[2m\u001b[36m(pid=17190)\u001b[0m Request failed 1 times; retrying in 1 sec\n",
      "\u001b[2m\u001b[36m(pid=17190)\u001b[0m Request failed 1 times; retrying in 1 sec\n",
      "\u001b[2m\u001b[36m(pid=17190)\u001b[0m Request failed 1 times; retrying in 1 sec\n",
      "\u001b[2m\u001b[36m(pid=17189)\u001b[0m Request failed 1 times; retrying in 1 sec\n",
      "\u001b[2m\u001b[36m(pid=17189)\u001b[0m Request failed 1 times; retrying in 1 sec\n",
      "\u001b[2m\u001b[36m(pid=17189)\u001b[0m Request failed 1 times; retrying in 1 sec\n",
      "\u001b[2m\u001b[36m(pid=17189)\u001b[0m Request failed 1 times; retrying in 1 sec\n",
      "\u001b[2m\u001b[36m(pid=17187)\u001b[0m Request failed 1 times; retrying in 1 sec\n",
      "\u001b[2m\u001b[36m(pid=17187)\u001b[0m Request failed 1 times; retrying in 1 sec\n",
      "\u001b[2m\u001b[36m(pid=17187)\u001b[0m Request failed 1 times; retrying in 1 sec\n",
      "\u001b[2m\u001b[36m(pid=17187)\u001b[0m Request failed 1 times; retrying in 1 sec\n",
      "\u001b[2m\u001b[36m(pid=17192)\u001b[0m Request failed 1 times; retrying in 1 sec\n",
      "\u001b[2m\u001b[36m(pid=17192)\u001b[0m Request failed 1 times; retrying in 1 sec\n",
      "\u001b[2m\u001b[36m(pid=17192)\u001b[0m Request failed 1 times; retrying in 1 sec\n",
      "\u001b[2m\u001b[36m(pid=17192)\u001b[0m Request failed 1 times; retrying in 1 sec\n",
      "\u001b[2m\u001b[36m(pid=17192)\u001b[0m Request failed 2 times; retrying in 2 sec\n",
      "\u001b[2m\u001b[36m(pid=17192)\u001b[0m Request failed 2 times; retrying in 2 sec\n",
      "\u001b[2m\u001b[36m(pid=17192)\u001b[0m Request failed 2 times; retrying in 2 sec\n",
      "\u001b[2m\u001b[36m(pid=17192)\u001b[0m Request failed 2 times; retrying in 2 sec\n",
      "\u001b[2m\u001b[36m(pid=17189)\u001b[0m Request failed 1 times; retrying in 1 sec\n",
      "\u001b[2m\u001b[36m(pid=17189)\u001b[0m Request failed 1 times; retrying in 1 sec\n",
      "\u001b[2m\u001b[36m(pid=17189)\u001b[0m Request failed 1 times; retrying in 1 sec\n",
      "\u001b[2m\u001b[36m(pid=17189)\u001b[0m Request failed 1 times; retrying in 1 sec\n",
      "\u001b[2m\u001b[36m(pid=17192)\u001b[0m Request failed 3 times; retrying in 4 sec\n",
      "\u001b[2m\u001b[36m(pid=17192)\u001b[0m Request failed 3 times; retrying in 4 sec\n",
      "\u001b[2m\u001b[36m(pid=17192)\u001b[0m Request failed 3 times; retrying in 4 sec\n",
      "\u001b[2m\u001b[36m(pid=17192)\u001b[0m Request failed 3 times; retrying in 4 sec\n",
      "\u001b[2m\u001b[36m(pid=17182)\u001b[0m Request failed 1 times; retrying in 1 sec\n",
      "\u001b[2m\u001b[36m(pid=17182)\u001b[0m Request failed 1 times; retrying in 1 sec\n",
      "\u001b[2m\u001b[36m(pid=17182)\u001b[0m Request failed 1 times; retrying in 1 sec\n",
      "\u001b[2m\u001b[36m(pid=17182)\u001b[0m Request failed 1 times; retrying in 1 sec\n",
      "\u001b[2m\u001b[36m(pid=17187)\u001b[0m Request failed 1 times; retrying in 1 sec\n",
      "\u001b[2m\u001b[36m(pid=17187)\u001b[0m Request failed 1 times; retrying in 1 sec\n",
      "\u001b[2m\u001b[36m(pid=17187)\u001b[0m Request failed 1 times; retrying in 1 sec\n",
      "\u001b[2m\u001b[36m(pid=17187)\u001b[0m Request failed 1 times; retrying in 1 sec\n",
      "\u001b[2m\u001b[36m(pid=17191)\u001b[0m Request failed 1 times; retrying in 1 sec\n",
      "\u001b[2m\u001b[36m(pid=17191)\u001b[0m Request failed 1 times; retrying in 1 sec\n",
      "\u001b[2m\u001b[36m(pid=17191)\u001b[0m Request failed 1 times; retrying in 1 sec\n",
      "\u001b[2m\u001b[36m(pid=17191)\u001b[0m Request failed 1 times; retrying in 1 sec\n",
      "\u001b[2m\u001b[36m(pid=17189)\u001b[0m Request failed 1 times; retrying in 1 sec\n",
      "\u001b[2m\u001b[36m(pid=17189)\u001b[0m Request failed 1 times; retrying in 1 sec\n",
      "\u001b[2m\u001b[36m(pid=17189)\u001b[0m Request failed 1 times; retrying in 1 sec\n",
      "\u001b[2m\u001b[36m(pid=17189)\u001b[0m Request failed 1 times; retrying in 1 sec\n",
      "\u001b[2m\u001b[36m(pid=17182)\u001b[0m Request failed 1 times; retrying in 1 sec\n",
      "\u001b[2m\u001b[36m(pid=17182)\u001b[0m Request failed 1 times; retrying in 1 sec\n",
      "\u001b[2m\u001b[36m(pid=17182)\u001b[0m Request failed 1 times; retrying in 1 sec\n",
      "\u001b[2m\u001b[36m(pid=17182)\u001b[0m Request failed 1 times; retrying in 1 sec\n",
      "\u001b[2m\u001b[36m(pid=17188)\u001b[0m Request failed 1 times; retrying in 1 sec\n",
      "\u001b[2m\u001b[36m(pid=17188)\u001b[0m Request failed 1 times; retrying in 1 sec\n",
      "\u001b[2m\u001b[36m(pid=17188)\u001b[0m Request failed 1 times; retrying in 1 sec\n",
      "\u001b[2m\u001b[36m(pid=17188)\u001b[0m Request failed 1 times; retrying in 1 sec\n",
      "\u001b[2m\u001b[36m(pid=17193)\u001b[0m Request failed 1 times; retrying in 1 sec\n",
      "\u001b[2m\u001b[36m(pid=17193)\u001b[0m Request failed 1 times; retrying in 1 sec\n",
      "\u001b[2m\u001b[36m(pid=17193)\u001b[0m Request failed 1 times; retrying in 1 sec\n",
      "\u001b[2m\u001b[36m(pid=17193)\u001b[0m Request failed 1 times; retrying in 1 sec\n",
      "\u001b[2m\u001b[36m(pid=17182)\u001b[0m Request failed 1 times; retrying in 1 sec\n",
      "\u001b[2m\u001b[36m(pid=17182)\u001b[0m Request failed 1 times; retrying in 1 sec\n",
      "\u001b[2m\u001b[36m(pid=17182)\u001b[0m Request failed 1 times; retrying in 1 sec\n",
      "\u001b[2m\u001b[36m(pid=17182)\u001b[0m Request failed 1 times; retrying in 1 sec\n",
      "\u001b[2m\u001b[36m(pid=17192)\u001b[0m Request failed 1 times; retrying in 1 sec\n",
      "\u001b[2m\u001b[36m(pid=17192)\u001b[0m Request failed 1 times; retrying in 1 sec\n",
      "\u001b[2m\u001b[36m(pid=17192)\u001b[0m Request failed 1 times; retrying in 1 sec\n",
      "\u001b[2m\u001b[36m(pid=17192)\u001b[0m Request failed 1 times; retrying in 1 sec\n",
      "\u001b[2m\u001b[36m(pid=17182)\u001b[0m Request failed 2 times; retrying in 2 sec\n",
      "\u001b[2m\u001b[36m(pid=17182)\u001b[0m Request failed 2 times; retrying in 2 sec\n",
      "\u001b[2m\u001b[36m(pid=17182)\u001b[0m Request failed 2 times; retrying in 2 sec\n",
      "\u001b[2m\u001b[36m(pid=17182)\u001b[0m Request failed 2 times; retrying in 2 sec\n",
      "\u001b[2m\u001b[36m(pid=17188)\u001b[0m Request failed 1 times; retrying in 1 sec\n",
      "\u001b[2m\u001b[36m(pid=17188)\u001b[0m Request failed 1 times; retrying in 1 sec\n",
      "\u001b[2m\u001b[36m(pid=17188)\u001b[0m Request failed 1 times; retrying in 1 sec\n",
      "\u001b[2m\u001b[36m(pid=17188)\u001b[0m Request failed 1 times; retrying in 1 sec\n",
      "\u001b[2m\u001b[36m(pid=17182)\u001b[0m Request failed 3 times; retrying in 4 sec\n",
      "\u001b[2m\u001b[36m(pid=17182)\u001b[0m Request failed 3 times; retrying in 4 sec\n",
      "\u001b[2m\u001b[36m(pid=17182)\u001b[0m Request failed 3 times; retrying in 4 sec\n",
      "\u001b[2m\u001b[36m(pid=17182)\u001b[0m Request failed 3 times; retrying in 4 sec\n",
      "CPU times: user 1.71 s, sys: 643 ms, total: 2.35 s\n",
      "Wall time: 57.6 s\n"
     ]
    },
    {
     "data": {
      "text/html": [
       "<div>\n",
       "<style scoped>\n",
       "    .dataframe tbody tr th:only-of-type {\n",
       "        vertical-align: middle;\n",
       "    }\n",
       "\n",
       "    .dataframe tbody tr th {\n",
       "        vertical-align: top;\n",
       "    }\n",
       "\n",
       "    .dataframe thead th {\n",
       "        text-align: right;\n",
       "    }\n",
       "</style>\n",
       "<table border=\"1\" class=\"dataframe\">\n",
       "  <thead>\n",
       "    <tr style=\"text-align: right;\">\n",
       "      <th></th>\n",
       "      <th>person</th>\n",
       "      <th>title</th>\n",
       "    </tr>\n",
       "  </thead>\n",
       "  <tbody>\n",
       "    <tr>\n",
       "      <th>0</th>\n",
       "      <td>[1281, 1292): 'Rob DiCicco'</td>\n",
       "      <td>[1294, 1348): 'PharmD, Deputy Chief Health Off...</td>\n",
       "    </tr>\n",
       "    <tr>\n",
       "      <th>0</th>\n",
       "      <td>[1597, 1605): 'Bob Lord'</td>\n",
       "      <td>[1607, 1673): 'Senior Vice President, Cognitiv...</td>\n",
       "    </tr>\n",
       "    <tr>\n",
       "      <th>0</th>\n",
       "      <td>[1213, 1229): 'Christoph Herman'</td>\n",
       "      <td>[1231, 1281): 'SVP and Head of SAP HANA Enterp...</td>\n",
       "    </tr>\n",
       "    <tr>\n",
       "      <th>1</th>\n",
       "      <td>[2227, 2242): 'Stephen Leonard'</td>\n",
       "      <td>[2244, 2282): 'General Manager, IBM Cognitive ...</td>\n",
       "    </tr>\n",
       "    <tr>\n",
       "      <th>0</th>\n",
       "      <td>[1289, 1303): 'Wendi Whitmore'</td>\n",
       "      <td>[1305, 1344): 'VP of Threat Intelligence, IBM ...</td>\n",
       "    </tr>\n",
       "    <tr>\n",
       "      <th>...</th>\n",
       "      <td>...</td>\n",
       "      <td>...</td>\n",
       "    </tr>\n",
       "    <tr>\n",
       "      <th>0</th>\n",
       "      <td>[315, 329): 'Arvind Krishna'</td>\n",
       "      <td>[331, 371): 'IBM chairman and chief executive ...</td>\n",
       "    </tr>\n",
       "    <tr>\n",
       "      <th>1</th>\n",
       "      <td>[2119, 2134): 'James Kavanaugh'</td>\n",
       "      <td>[2136, 2189): 'IBM senior vice president and c...</td>\n",
       "    </tr>\n",
       "    <tr>\n",
       "      <th>0</th>\n",
       "      <td>[3511, 3525): 'Hillery Hunter'</td>\n",
       "      <td>[3527, 3558): 'IBM Fellow, VP &amp; CTO, IBM Cloud'</td>\n",
       "    </tr>\n",
       "    <tr>\n",
       "      <th>0</th>\n",
       "      <td>[3113, 3123): 'Mike Doran'</td>\n",
       "      <td>[3125, 3156): 'Worldwide Sales Director at IBM'</td>\n",
       "    </tr>\n",
       "    <tr>\n",
       "      <th>0</th>\n",
       "      <td>[1488, 1498): 'Ana Zamper'</td>\n",
       "      <td>[1500, 1535): 'Ecosystem Leader, IBM Latin Ame...</td>\n",
       "    </tr>\n",
       "  </tbody>\n",
       "</table>\n",
       "<p>257 rows × 2 columns</p>\n",
       "</div>"
      ],
      "text/plain": [
       "                              person  \\\n",
       "0        [1281, 1292): 'Rob DiCicco'   \n",
       "0           [1597, 1605): 'Bob Lord'   \n",
       "0   [1213, 1229): 'Christoph Herman'   \n",
       "1    [2227, 2242): 'Stephen Leonard'   \n",
       "0     [1289, 1303): 'Wendi Whitmore'   \n",
       "..                               ...   \n",
       "0       [315, 329): 'Arvind Krishna'   \n",
       "1    [2119, 2134): 'James Kavanaugh'   \n",
       "0     [3511, 3525): 'Hillery Hunter'   \n",
       "0         [3113, 3123): 'Mike Doran'   \n",
       "0         [1488, 1498): 'Ana Zamper'   \n",
       "\n",
       "                                                title  \n",
       "0   [1294, 1348): 'PharmD, Deputy Chief Health Off...  \n",
       "0   [1607, 1673): 'Senior Vice President, Cognitiv...  \n",
       "0   [1231, 1281): 'SVP and Head of SAP HANA Enterp...  \n",
       "1   [2244, 2282): 'General Manager, IBM Cognitive ...  \n",
       "0   [1305, 1344): 'VP of Threat Intelligence, IBM ...  \n",
       "..                                                ...  \n",
       "0   [331, 371): 'IBM chairman and chief executive ...  \n",
       "1   [2136, 2189): 'IBM senior vice president and c...  \n",
       "0     [3527, 3558): 'IBM Fellow, VP & CTO, IBM Cloud'  \n",
       "0     [3125, 3156): 'Worldwide Sales Director at IBM'  \n",
       "0   [1500, 1535): 'Ecosystem Leader, IBM Latin Ame...  \n",
       "\n",
       "[257 rows x 2 columns]"
      ]
     },
     "execution_count": 15,
     "metadata": {},
     "output_type": "execute_result"
    }
   ],
   "source": [
    "%%time\n",
    "\n",
    "# This listing should NOT appear in the blog version.\n",
    "# Run a pool with the actor defined above over the entire document collection, just\n",
    "# to make sure it works and to determine the running time.\n",
    "\n",
    "num_cpus = multiprocessing.cpu_count() // 2\n",
    "\n",
    "actors = ray.util.ActorPool([ParserModelActor.remote(\"en_core_web_trf\")\n",
    "                             for i in range(num_cpus)])\n",
    "\n",
    "# Repeat steps 1-4 on every document\n",
    "dataframes_to_stack = actors.map_unordered(\n",
    "    lambda actor, value: actor.steps_1_through_4.remote(value), articles[\"html\"]\n",
    ")\n",
    "\n",
    "# Step 5: Merge the results across documents\n",
    "step_5_results = pd.concat(dataframes_to_stack)\n",
    "step_5_results"
   ]
  },
  {
   "cell_type": "markdown",
   "metadata": {},
   "source": [
    "## Using actors to manage request rate\n",
    "\n",
    "The large model that we attached to our `ParserModelActor` actor is an example of *immutable* actor state. Ray actors can also have *mutable* state that changes in response to tasks that the actor performs.\n",
    "\n",
    "We can use mutable actor state to track of how quickly our application is sending requests to the Watson Natural Language Understanding web service. One simple way to track the request rate is to remember the how much time has elapsed since the most recent request. With that information in hand, our actor can throttle new requests if they would exceed the rate limit.\n",
    "\n",
    "We put the logic for managing this state into an abstract base class, `RateLimitedActor`, the code for which can be found in `market_intelligence.py`. With that base class in place, we can define a Ray actor that sends documents to the Watson Natural Language Understanding web service while respecting a request rate limit. Because the Python API for Watson Natural Language Understanding is thread-safe, we can use a multithreaded Python actor to track multiple simulataneous requests."
   ]
  },
  {
   "cell_type": "code",
   "execution_count": 16,
   "metadata": {},
   "outputs": [],
   "source": [
    "import importlib\n",
    "mi = importlib.reload(mi)"
   ]
  },
  {
   "cell_type": "code",
   "execution_count": 17,
   "metadata": {},
   "outputs": [],
   "source": [
    "@ray.remote\n",
    "class NLUClientActor(mi.RateLimitedActor):\n",
    "    \"\"\"\n",
    "    Threaded actor to handle multiple simulatenous requests to the IBM Watson\n",
    "    Natural Language Understanding service while respecting an upper bound on the\n",
    "    number of requests per second.\n",
    "    \"\"\"\n",
    "    def __init__(self, requests_per_sec: float, \n",
    "                 api_key: str, service_url: str):\n",
    "        super().__init__(requests_per_sec)\n",
    "        # One instance of the Python API for all threads\n",
    "        self._nlu_api = ibm_watson.NaturalLanguageUnderstandingV1(\n",
    "            version=\"2021-01-01\", \n",
    "            authenticator=ibm_cloud_sdk_core.authenticators.IAMAuthenticator(api_key))\n",
    "        self._nlu_api.set_service_url(service_url)\n",
    "    \n",
    "    def process_internal(self, doc_html: str) -> Any:\n",
    "        return mi.extract_named_entities_and_semantic_roles(doc_html, self._nlu_api)"
   ]
  },
  {
   "cell_type": "code",
   "execution_count": 18,
   "metadata": {},
   "outputs": [],
   "source": [
    "@ray.remote\n",
    "class ParserModelActor(object):\n",
    "    def __init__(self, spacy_model_name: str, nlu_client: NLUClientActor):\n",
    "        self._language_model = spacy.load(spacy_model_name)\n",
    "        self._nlu_client = nlu_client\n",
    "\n",
    "    def steps_1_through_4(self, doc_html: str) -> pd.DataFrame:\n",
    "        step_1_results = ray.get(self._nlu_client.process.remote(doc_html))\n",
    "        step_2_results = mi.identify_persons_quoted_by_name(step_1_results)   \n",
    "        step_3_results = mi.perform_targeted_dependency_parsing(\n",
    "                                                       step_2_results[\"person\"],\n",
    "                                                       self._language_model)\n",
    "        step_4_results = mi.extract_titles_of_persons(step_2_results, step_3_results)\n",
    "        return step_4_results\n"
   ]
  },
  {
   "cell_type": "code",
   "execution_count": 19,
   "metadata": {},
   "outputs": [
    {
     "name": "stderr",
     "output_type": "stream",
     "text": [
      "2021-05-18 17:32:06,050\tINFO services.py:1174 -- View the Ray dashboard at \u001b[1m\u001b[32mhttp://127.0.0.1:8265\u001b[39m\u001b[22m\n"
     ]
    }
   ],
   "source": [
    "reboot_ray()"
   ]
  },
  {
   "cell_type": "code",
   "execution_count": 20,
   "metadata": {},
   "outputs": [
    {
     "name": "stdout",
     "output_type": "stream",
     "text": [
      "CPU times: user 1.59 s, sys: 575 ms, total: 2.16 s\n",
      "Wall time: 55.1 s\n"
     ]
    },
    {
     "data": {
      "text/html": [
       "<div>\n",
       "<style scoped>\n",
       "    .dataframe tbody tr th:only-of-type {\n",
       "        vertical-align: middle;\n",
       "    }\n",
       "\n",
       "    .dataframe tbody tr th {\n",
       "        vertical-align: top;\n",
       "    }\n",
       "\n",
       "    .dataframe thead th {\n",
       "        text-align: right;\n",
       "    }\n",
       "</style>\n",
       "<table border=\"1\" class=\"dataframe\">\n",
       "  <thead>\n",
       "    <tr style=\"text-align: right;\">\n",
       "      <th></th>\n",
       "      <th>person</th>\n",
       "      <th>title</th>\n",
       "    </tr>\n",
       "  </thead>\n",
       "  <tbody>\n",
       "    <tr>\n",
       "      <th>0</th>\n",
       "      <td>[1213, 1229): 'Christoph Herman'</td>\n",
       "      <td>[1231, 1281): 'SVP and Head of SAP HANA Enterp...</td>\n",
       "    </tr>\n",
       "    <tr>\n",
       "      <th>1</th>\n",
       "      <td>[2227, 2242): 'Stephen Leonard'</td>\n",
       "      <td>[2244, 2282): 'General Manager, IBM Cognitive ...</td>\n",
       "    </tr>\n",
       "    <tr>\n",
       "      <th>0</th>\n",
       "      <td>[1281, 1292): 'Rob DiCicco'</td>\n",
       "      <td>[1294, 1348): 'PharmD, Deputy Chief Health Off...</td>\n",
       "    </tr>\n",
       "    <tr>\n",
       "      <th>0</th>\n",
       "      <td>[1977, 1991): 'Wendi Whitmore'</td>\n",
       "      <td>[1993, 2040): 'Vice President, IBM X-Force Thr...</td>\n",
       "    </tr>\n",
       "    <tr>\n",
       "      <th>0</th>\n",
       "      <td>[1289, 1303): 'Wendi Whitmore'</td>\n",
       "      <td>[1305, 1344): 'VP of Threat Intelligence, IBM ...</td>\n",
       "    </tr>\n",
       "    <tr>\n",
       "      <th>...</th>\n",
       "      <td>...</td>\n",
       "      <td>...</td>\n",
       "    </tr>\n",
       "    <tr>\n",
       "      <th>0</th>\n",
       "      <td>[3156, 3170): 'Howard Boville'</td>\n",
       "      <td>[3172, 3211): 'Senior Vice President, IBM Hybr...</td>\n",
       "    </tr>\n",
       "    <tr>\n",
       "      <th>0</th>\n",
       "      <td>[315, 329): 'Arvind Krishna'</td>\n",
       "      <td>[331, 371): 'IBM chairman and chief executive ...</td>\n",
       "    </tr>\n",
       "    <tr>\n",
       "      <th>1</th>\n",
       "      <td>[2119, 2134): 'James Kavanaugh'</td>\n",
       "      <td>[2136, 2189): 'IBM senior vice president and c...</td>\n",
       "    </tr>\n",
       "    <tr>\n",
       "      <th>0</th>\n",
       "      <td>[3511, 3525): 'Hillery Hunter'</td>\n",
       "      <td>[3527, 3558): 'IBM Fellow, VP &amp; CTO, IBM Cloud'</td>\n",
       "    </tr>\n",
       "    <tr>\n",
       "      <th>0</th>\n",
       "      <td>[1488, 1498): 'Ana Zamper'</td>\n",
       "      <td>[1500, 1535): 'Ecosystem Leader, IBM Latin Ame...</td>\n",
       "    </tr>\n",
       "  </tbody>\n",
       "</table>\n",
       "<p>257 rows × 2 columns</p>\n",
       "</div>"
      ],
      "text/plain": [
       "                              person  \\\n",
       "0   [1213, 1229): 'Christoph Herman'   \n",
       "1    [2227, 2242): 'Stephen Leonard'   \n",
       "0        [1281, 1292): 'Rob DiCicco'   \n",
       "0     [1977, 1991): 'Wendi Whitmore'   \n",
       "0     [1289, 1303): 'Wendi Whitmore'   \n",
       "..                               ...   \n",
       "0     [3156, 3170): 'Howard Boville'   \n",
       "0       [315, 329): 'Arvind Krishna'   \n",
       "1    [2119, 2134): 'James Kavanaugh'   \n",
       "0     [3511, 3525): 'Hillery Hunter'   \n",
       "0         [1488, 1498): 'Ana Zamper'   \n",
       "\n",
       "                                                title  \n",
       "0   [1231, 1281): 'SVP and Head of SAP HANA Enterp...  \n",
       "1   [2244, 2282): 'General Manager, IBM Cognitive ...  \n",
       "0   [1294, 1348): 'PharmD, Deputy Chief Health Off...  \n",
       "0   [1993, 2040): 'Vice President, IBM X-Force Thr...  \n",
       "0   [1305, 1344): 'VP of Threat Intelligence, IBM ...  \n",
       "..                                                ...  \n",
       "0   [3172, 3211): 'Senior Vice President, IBM Hybr...  \n",
       "0   [331, 371): 'IBM chairman and chief executive ...  \n",
       "1   [2136, 2189): 'IBM senior vice president and c...  \n",
       "0     [3527, 3558): 'IBM Fellow, VP & CTO, IBM Cloud'  \n",
       "0   [1500, 1535): 'Ecosystem Leader, IBM Latin Ame...  \n",
       "\n",
       "[257 rows x 2 columns]"
      ]
     },
     "execution_count": 20,
     "metadata": {},
     "output_type": "execute_result"
    }
   ],
   "source": [
    "%%time\n",
    "\n",
    "num_cpus = multiprocessing.cpu_count() // 2\n",
    "\n",
    "nlu_client = NLUClientActor.options(max_concurrency=5).remote(5.0, api_key, service_url)\n",
    "actors = ray.util.ActorPool([ParserModelActor.remote(\"en_core_web_trf\", nlu_client)\n",
    "                             for i in range(num_cpus)])\n",
    "\n",
    "dataframes_to_stack = actors.map_unordered(\n",
    "    lambda actor, value: actor.steps_1_through_4.remote(value), \n",
    "    articles[\"html\"]\n",
    ")\n",
    "\n",
    "step_5_results = pd.concat(dataframes_to_stack)\n",
    "step_5_results"
   ]
  },
  {
   "cell_type": "markdown",
   "metadata": {},
   "source": [
    "Now we run in about 45 seconds without hitting the rate limit.\n",
    "\n",
    "And now the 5 documents per second rate limit of our Lite instance the chief bottleneck.\n",
    "\n",
    "We can remove that bottleneck by switching to a Standard instance of Watson Natural Languague Understanding with a simple one-line change."
   ]
  },
  {
   "cell_type": "code",
   "execution_count": 21,
   "metadata": {},
   "outputs": [],
   "source": [
    "# Don't show this cell in the blog version\n",
    "standard_api_key = os.environ.get(\"STANDARD_API_KEY\")\n",
    "standard_service_url = os.environ.get(\"STANDARD_SERVICE_URL\")  "
   ]
  },
  {
   "cell_type": "code",
   "execution_count": 22,
   "metadata": {},
   "outputs": [
    {
     "name": "stderr",
     "output_type": "stream",
     "text": [
      "2021-05-18 17:33:05,861\tINFO services.py:1174 -- View the Ray dashboard at \u001b[1m\u001b[32mhttp://127.0.0.1:8265\u001b[39m\u001b[22m\n"
     ]
    }
   ],
   "source": [
    "reboot_ray()"
   ]
  },
  {
   "cell_type": "code",
   "execution_count": 23,
   "metadata": {},
   "outputs": [
    {
     "name": "stdout",
     "output_type": "stream",
     "text": [
      "CPU times: user 2.02 s, sys: 629 ms, total: 2.65 s\n",
      "Wall time: 50 s\n"
     ]
    },
    {
     "data": {
      "text/html": [
       "<div>\n",
       "<style scoped>\n",
       "    .dataframe tbody tr th:only-of-type {\n",
       "        vertical-align: middle;\n",
       "    }\n",
       "\n",
       "    .dataframe tbody tr th {\n",
       "        vertical-align: top;\n",
       "    }\n",
       "\n",
       "    .dataframe thead th {\n",
       "        text-align: right;\n",
       "    }\n",
       "</style>\n",
       "<table border=\"1\" class=\"dataframe\">\n",
       "  <thead>\n",
       "    <tr style=\"text-align: right;\">\n",
       "      <th></th>\n",
       "      <th>person</th>\n",
       "      <th>title</th>\n",
       "    </tr>\n",
       "  </thead>\n",
       "  <tbody>\n",
       "    <tr>\n",
       "      <th>0</th>\n",
       "      <td>[1289, 1303): 'Wendi Whitmore'</td>\n",
       "      <td>[1305, 1344): 'VP of Threat Intelligence, IBM ...</td>\n",
       "    </tr>\n",
       "    <tr>\n",
       "      <th>0</th>\n",
       "      <td>[876, 891): 'Cameron Clayton'</td>\n",
       "      <td>[893, 937): 'general manager of IBM's The Weat...</td>\n",
       "    </tr>\n",
       "    <tr>\n",
       "      <th>0</th>\n",
       "      <td>[1505, 1515): 'Rob Thomas'</td>\n",
       "      <td>[1517, 1549): 'General Manager, IBM Data and AI'</td>\n",
       "    </tr>\n",
       "    <tr>\n",
       "      <th>0</th>\n",
       "      <td>[1213, 1229): 'Christoph Herman'</td>\n",
       "      <td>[1231, 1281): 'SVP and Head of SAP HANA Enterp...</td>\n",
       "    </tr>\n",
       "    <tr>\n",
       "      <th>1</th>\n",
       "      <td>[2227, 2242): 'Stephen Leonard'</td>\n",
       "      <td>[2244, 2282): 'General Manager, IBM Cognitive ...</td>\n",
       "    </tr>\n",
       "    <tr>\n",
       "      <th>...</th>\n",
       "      <td>...</td>\n",
       "      <td>...</td>\n",
       "    </tr>\n",
       "    <tr>\n",
       "      <th>1</th>\n",
       "      <td>[2723, 2731): 'Bob Lord'</td>\n",
       "      <td>[2733, 2779): 'SVP Cognitive Applications and ...</td>\n",
       "    </tr>\n",
       "    <tr>\n",
       "      <th>0</th>\n",
       "      <td>[3511, 3525): 'Hillery Hunter'</td>\n",
       "      <td>[3527, 3558): 'IBM Fellow, VP &amp; CTO, IBM Cloud'</td>\n",
       "    </tr>\n",
       "    <tr>\n",
       "      <th>0</th>\n",
       "      <td>[315, 329): 'Arvind Krishna'</td>\n",
       "      <td>[331, 371): 'IBM chairman and chief executive ...</td>\n",
       "    </tr>\n",
       "    <tr>\n",
       "      <th>1</th>\n",
       "      <td>[2119, 2134): 'James Kavanaugh'</td>\n",
       "      <td>[2136, 2189): 'IBM senior vice president and c...</td>\n",
       "    </tr>\n",
       "    <tr>\n",
       "      <th>0</th>\n",
       "      <td>[1488, 1498): 'Ana Zamper'</td>\n",
       "      <td>[1500, 1535): 'Ecosystem Leader, IBM Latin Ame...</td>\n",
       "    </tr>\n",
       "  </tbody>\n",
       "</table>\n",
       "<p>257 rows × 2 columns</p>\n",
       "</div>"
      ],
      "text/plain": [
       "                              person  \\\n",
       "0     [1289, 1303): 'Wendi Whitmore'   \n",
       "0      [876, 891): 'Cameron Clayton'   \n",
       "0         [1505, 1515): 'Rob Thomas'   \n",
       "0   [1213, 1229): 'Christoph Herman'   \n",
       "1    [2227, 2242): 'Stephen Leonard'   \n",
       "..                               ...   \n",
       "1           [2723, 2731): 'Bob Lord'   \n",
       "0     [3511, 3525): 'Hillery Hunter'   \n",
       "0       [315, 329): 'Arvind Krishna'   \n",
       "1    [2119, 2134): 'James Kavanaugh'   \n",
       "0         [1488, 1498): 'Ana Zamper'   \n",
       "\n",
       "                                                title  \n",
       "0   [1305, 1344): 'VP of Threat Intelligence, IBM ...  \n",
       "0   [893, 937): 'general manager of IBM's The Weat...  \n",
       "0    [1517, 1549): 'General Manager, IBM Data and AI'  \n",
       "0   [1231, 1281): 'SVP and Head of SAP HANA Enterp...  \n",
       "1   [2244, 2282): 'General Manager, IBM Cognitive ...  \n",
       "..                                                ...  \n",
       "1   [2733, 2779): 'SVP Cognitive Applications and ...  \n",
       "0     [3527, 3558): 'IBM Fellow, VP & CTO, IBM Cloud'  \n",
       "0   [331, 371): 'IBM chairman and chief executive ...  \n",
       "1   [2136, 2189): 'IBM senior vice president and c...  \n",
       "0   [1500, 1535): 'Ecosystem Leader, IBM Latin Ame...  \n",
       "\n",
       "[257 rows x 2 columns]"
      ]
     },
     "execution_count": 23,
     "metadata": {},
     "output_type": "execute_result"
    }
   ],
   "source": [
    "%%time\n",
    "\n",
    "num_cpus = multiprocessing.cpu_count()\n",
    "\n",
    "# The blog version of this code listing should only show how the next line changes.\n",
    "nlu_client = NLUClientActor.options(max_concurrency=num_cpus).remote(\n",
    "    80.0, standard_api_key, standard_service_url)\n",
    "\n",
    "\n",
    "# Note that this call to remote() will start asynchronously loading the language models.\n",
    "actors = ray.util.ActorPool([ParserModelActor.remote(\"en_core_web_trf\", nlu_client)\n",
    "                             for i in range(num_cpus)])\n",
    "\n",
    "dataframes_to_stack = actors.map_unordered(\n",
    "    lambda actor, value: actor.steps_1_through_4.remote(value), \n",
    "    articles[\"html\"]\n",
    ")\n",
    "\n",
    "step_5_results = pd.concat(dataframes_to_stack)\n",
    "step_5_results"
   ]
  },
  {
   "cell_type": "markdown",
   "metadata": {},
   "source": [
    "Now our running time is down to 31 seconds, from our original running time of 852 seconds.\n",
    "\n",
    "That's a performance improvement of 27x!\n",
    "\n",
    "And with the \n",
    "\n",
    "our 8-core laptop is now the bottleneck.\n",
    "\n",
    "we can further improve running time by switching to a larger machine or a cluster of machines, with no code changes.\n",
    "\n",
    "On a larger machine from the IBM cloud, we can process these documents in 15 seconds."
   ]
  },
  {
   "cell_type": "markdown",
   "metadata": {},
   "source": [
    "## Running time comparison\n",
    "\n",
    "Let's compare the running times across the different ways of performing our task."
   ]
  },
  {
   "cell_type": "code",
   "execution_count": 24,
   "metadata": {},
   "outputs": [
    {
     "data": {
      "image/png": "[encoded data removed]",
      "text/plain": [
       "<Figure size 432x288 with 1 Axes>"
      ]
     },
     "metadata": {
      "needs_background": "light"
     },
     "output_type": "display_data"
    }
   ],
   "source": [
    "import matplotlib.pyplot as plt\n",
    "time_data = {\n",
    "    # All times in seconds\n",
    "    \"for loop\": 852,\n",
    "    \"Pandas optimizations\": 283,\n",
    "    \"+Ray task\": 90,\n",
    "    \"+Ray actors\": 45, \n",
    "    \"+standard\\nNLU\\ninstance\": 30,   \n",
    "    # Separate run on iRIS machine with 56 cores.\n",
    "    \"+cloud VM\": 15,\n",
    "}\n",
    "\n",
    "plt.bar(time_data.keys(), time_data.values())\n",
    "plt.ylabel(\"Running time (sec)\")\n",
    "plt.show()"
   ]
  },
  {
   "cell_type": "code",
   "execution_count": 25,
   "metadata": {},
   "outputs": [
    {
     "data": {
      "image/png": "[encoded data removed]",
      "text/plain": [
       "<Figure size 432x288 with 1 Axes>"
      ]
     },
     "metadata": {
      "needs_background": "light"
     },
     "output_type": "display_data"
    }
   ],
   "source": [
    "num_docs = len(articles.index)\n",
    "docs_per_sec = {\n",
    "    k: num_docs/v for k, v in time_data.items()\n",
    "}\n",
    "plt.bar(docs_per_sec.keys(), docs_per_sec.values())\n",
    "plt.ylabel(\"Documents per second\")\n",
    "plt.show()"
   ]
  },
  {
   "cell_type": "code",
   "execution_count": null,
   "metadata": {},
   "outputs": [],
   "source": []
  },
  {
   "cell_type": "code",
   "execution_count": null,
   "metadata": {},
   "outputs": [],
   "source": [
    "\n"
   ]
  },
  {
   "cell_type": "code",
   "execution_count": null,
   "metadata": {},
   "outputs": [],
   "source": []
  },
  {
   "cell_type": "code",
   "execution_count": null,
   "metadata": {},
   "outputs": [],
   "source": []
  }
 ],
 "metadata": {
  "kernelspec": {
   "display_name": "Python 3",
   "language": "python",
   "name": "python3"
  },
  "language_info": {
   "codemirror_mode": {
    "name": "ipython",
    "version": 3
   },
   "file_extension": ".py",
   "mimetype": "text/x-python",
   "name": "python",
   "nbconvert_exporter": "python",
   "pygments_lexer": "ipython3",
   "version": "3.7.10"
  }
 },
 "nbformat": 4,
 "nbformat_minor": 4
}
