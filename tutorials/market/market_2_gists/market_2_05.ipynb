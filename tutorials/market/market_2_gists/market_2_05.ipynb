{
 "cells": [
  {
   "cell_type": "code",
   "execution_count": 12,
   "metadata": {},
   "outputs": [
    {
     "data": {
      "text/html": [
       "<div>\n",
       "<style scoped>\n",
       "    .dataframe tbody tr th:only-of-type {\n",
       "        vertical-align: middle;\n",
       "    }\n",
       "\n",
       "    .dataframe tbody tr th {\n",
       "        vertical-align: top;\n",
       "    }\n",
       "\n",
       "    .dataframe thead th {\n",
       "        text-align: right;\n",
       "    }\n",
       "</style>\n",
       "<table border=\"1\" class=\"dataframe\">\n",
       "  <thead>\n",
       "    <tr style=\"text-align: right;\">\n",
       "      <th></th>\n",
       "      <th>person</th>\n",
       "      <th>id</th>\n",
       "      <th>span</th>\n",
       "    </tr>\n",
       "  </thead>\n",
       "  <tbody>\n",
       "    <tr>\n",
       "      <th>0</th>\n",
       "      <td>[1288, 1304): 'Daniel Hernandez'</td>\n",
       "      <td>237</td>\n",
       "      <td>[1314, 1321): 'manager'</td>\n",
       "    </tr>\n",
       "    <tr>\n",
       "      <th>1</th>\n",
       "      <td>[1838, 1849): 'Curren Katz'</td>\n",
       "      <td>338</td>\n",
       "      <td>[1851, 1859): 'Director'</td>\n",
       "    </tr>\n",
       "    <tr>\n",
       "      <th>2</th>\n",
       "      <td>[2476, 2486): 'Ritu Jyoti'</td>\n",
       "      <td>467</td>\n",
       "      <td>[2501, 2510): 'president'</td>\n",
       "    </tr>\n",
       "  </tbody>\n",
       "</table>\n",
       "</div>"
      ],
      "text/plain": [
       "                             person   id                       span\n",
       "0  [1288, 1304): 'Daniel Hernandez'  237    [1314, 1321): 'manager'\n",
       "1       [1838, 1849): 'Curren Katz'  338   [1851, 1859): 'Director'\n",
       "2        [2476, 2486): 'Ritu Jyoti'  467  [2501, 2510): 'president'"
      ]
     },
     "execution_count": 12,
     "metadata": {},
     "output_type": "execute_result"
    }
   ],
   "source": [
    "appos_targets = \\\n",
    "    traverse_edges_once(person_nodes, \n",
    "                        edges[edges[\"dep\"] == \"appos\"])\n",
    "appos_targets"
   ]
  }
 ],
 "metadata": {
  "kernelspec": {
   "display_name": "Python 3",
   "language": "python",
   "name": "python3"
  },
  "language_info": {
   "codemirror_mode": {
    "name": "ipython",
    "version": 3
   },
   "file_extension": ".py",
   "mimetype": "text/x-python",
   "name": "python",
   "nbconvert_exporter": "python",
   "pygments_lexer": "ipython3",
   "version": "3.7.10"
  }
 },
 "nbformat": 4,
 "nbformat_minor": 4
}
