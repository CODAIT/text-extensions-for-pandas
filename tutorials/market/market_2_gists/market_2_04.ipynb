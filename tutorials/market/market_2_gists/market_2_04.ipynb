{
 "cells": [
  {
   "cell_type": "code",
   "execution_count": 10,
   "metadata": {},
   "outputs": [
    {
     "data": {
      "text/html": [
       "<div>\n",
       "<style scoped>\n",
       "    .dataframe tbody tr th:only-of-type {\n",
       "        vertical-align: middle;\n",
       "    }\n",
       "\n",
       "    .dataframe tbody tr th {\n",
       "        vertical-align: top;\n",
       "    }\n",
       "\n",
       "    .dataframe thead th {\n",
       "        text-align: right;\n",
       "    }\n",
       "</style>\n",
       "<table border=\"1\" class=\"dataframe\">\n",
       "  <thead>\n",
       "    <tr style=\"text-align: right;\">\n",
       "      <th></th>\n",
       "      <th>person</th>\n",
       "      <th>span</th>\n",
       "      <th>id</th>\n",
       "    </tr>\n",
       "  </thead>\n",
       "  <tbody>\n",
       "    <tr>\n",
       "      <th>0</th>\n",
       "      <td>[1288, 1304): 'Daniel Hernandez'</td>\n",
       "      <td>[1288, 1294): 'Daniel'</td>\n",
       "      <td>233</td>\n",
       "    </tr>\n",
       "    <tr>\n",
       "      <th>1</th>\n",
       "      <td>[1288, 1304): 'Daniel Hernandez'</td>\n",
       "      <td>[1295, 1304): 'Hernandez'</td>\n",
       "      <td>234</td>\n",
       "    </tr>\n",
       "    <tr>\n",
       "      <th>2</th>\n",
       "      <td>[1838, 1849): 'Curren Katz'</td>\n",
       "      <td>[1838, 1844): 'Curren'</td>\n",
       "      <td>335</td>\n",
       "    </tr>\n",
       "    <tr>\n",
       "      <th>3</th>\n",
       "      <td>[1838, 1849): 'Curren Katz'</td>\n",
       "      <td>[1845, 1849): 'Katz'</td>\n",
       "      <td>336</td>\n",
       "    </tr>\n",
       "    <tr>\n",
       "      <th>4</th>\n",
       "      <td>[2476, 2486): 'Ritu Jyoti'</td>\n",
       "      <td>[2476, 2480): 'Ritu'</td>\n",
       "      <td>462</td>\n",
       "    </tr>\n",
       "    <tr>\n",
       "      <th>5</th>\n",
       "      <td>[2476, 2486): 'Ritu Jyoti'</td>\n",
       "      <td>[2481, 2486): 'Jyoti'</td>\n",
       "      <td>463</td>\n",
       "    </tr>\n",
       "  </tbody>\n",
       "</table>\n",
       "</div>"
      ],
      "text/plain": [
       "                             person                       span   id\n",
       "0  [1288, 1304): 'Daniel Hernandez'     [1288, 1294): 'Daniel'  233\n",
       "1  [1288, 1304): 'Daniel Hernandez'  [1295, 1304): 'Hernandez'  234\n",
       "2       [1838, 1849): 'Curren Katz'     [1838, 1844): 'Curren'  335\n",
       "3       [1838, 1849): 'Curren Katz'       [1845, 1849): 'Katz'  336\n",
       "4        [2476, 2486): 'Ritu Jyoti'       [2476, 2480): 'Ritu'  462\n",
       "5        [2476, 2486): 'Ritu Jyoti'      [2481, 2486): 'Jyoti'  463"
      ]
     },
     "execution_count": 10,
     "metadata": {},
     "output_type": "execute_result"
    }
   ],
   "source": [
    "person_nodes = (\n",
    "    tp.spanner.overlap_join(persons[\"person\"], nodes[\"span\"],\n",
    "                            \"person\", \"span\")\n",
    "    .merge(nodes)\n",
    ")\n",
    "person_nodes"
   ]
  }
 ],
 "metadata": {
  "kernelspec": {
   "display_name": "Python 3",
   "language": "python",
   "name": "python3"
  },
  "language_info": {
   "codemirror_mode": {
    "name": "ipython",
    "version": 3
   },
   "file_extension": ".py",
   "mimetype": "text/x-python",
   "name": "python",
   "nbconvert_exporter": "python",
   "pygments_lexer": "ipython3",
   "version": "3.7.10"
  }
 },
 "nbformat": 4,
 "nbformat_minor": 4
}
