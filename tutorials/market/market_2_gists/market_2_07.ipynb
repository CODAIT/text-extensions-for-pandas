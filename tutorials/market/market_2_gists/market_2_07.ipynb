{
 "cells": [
  {
   "cell_type": "code",
   "execution_count": 14,
   "metadata": {},
   "outputs": [
    {
     "data": {
      "text/html": [
       "<div>\n",
       "<style scoped>\n",
       "    .dataframe tbody tr th:only-of-type {\n",
       "        vertical-align: middle;\n",
       "    }\n",
       "\n",
       "    .dataframe tbody tr th {\n",
       "        vertical-align: top;\n",
       "    }\n",
       "\n",
       "    .dataframe thead th {\n",
       "        text-align: right;\n",
       "    }\n",
       "</style>\n",
       "<table border=\"1\" class=\"dataframe\">\n",
       "  <thead>\n",
       "    <tr style=\"text-align: right;\">\n",
       "      <th></th>\n",
       "      <th>person</th>\n",
       "      <th>title</th>\n",
       "    </tr>\n",
       "  </thead>\n",
       "  <tbody>\n",
       "    <tr>\n",
       "      <th>0</th>\n",
       "      <td>[1288, 1304): 'Daniel Hernandez'</td>\n",
       "      <td>[1306, 1339): 'general manager, Data and AI, IBM'</td>\n",
       "    </tr>\n",
       "    <tr>\n",
       "      <th>1</th>\n",
       "      <td>[1838, 1849): 'Curren Katz'</td>\n",
       "      <td>[1851, 1896): 'Director of Data Science R&amp;D, H...</td>\n",
       "    </tr>\n",
       "    <tr>\n",
       "      <th>2</th>\n",
       "      <td>[2476, 2486): 'Ritu Jyoti'</td>\n",
       "      <td>[2488, 2581): 'program vice president, AI rese...</td>\n",
       "    </tr>\n",
       "  </tbody>\n",
       "</table>\n",
       "</div>"
      ],
      "text/plain": [
       "                             person  \\\n",
       "0  [1288, 1304): 'Daniel Hernandez'   \n",
       "1       [1838, 1849): 'Curren Katz'   \n",
       "2        [2476, 2486): 'Ritu Jyoti'   \n",
       "\n",
       "                                               title  \n",
       "0  [1306, 1339): 'general manager, Data and AI, IBM'  \n",
       "1  [1851, 1896): 'Director of Data Science R&D, H...  \n",
       "2  [2488, 2581): 'program vice president, AI rese...  "
      ]
     },
     "execution_count": 14,
     "metadata": {},
     "output_type": "execute_result"
    }
   ],
   "source": [
    "# Aggregate the nodes of each title to find the span of the \n",
    "# entire title.\n",
    "titles = (\n",
    "    selected_nodes\n",
    "    .groupby(\"person\")\n",
    "    .aggregate({\"span\": \"sum\"})\n",
    "    .reset_index()\n",
    "    .rename(columns={\"span\": \"title\"})\n",
    ")\n",
    "titles"
   ]
  }
 ],
 "metadata": {
  "kernelspec": {
   "display_name": "Python 3",
   "language": "python",
   "name": "python3"
  },
  "language_info": {
   "codemirror_mode": {
    "name": "ipython",
    "version": 3
   },
   "file_extension": ".py",
   "mimetype": "text/x-python",
   "name": "python",
   "nbconvert_exporter": "python",
   "pygments_lexer": "ipython3",
   "version": "3.7.10"
  }
 },
 "nbformat": 4,
 "nbformat_minor": 4
}
