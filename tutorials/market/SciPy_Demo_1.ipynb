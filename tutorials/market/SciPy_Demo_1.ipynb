{
 "cells": [
  {
   "cell_type": "markdown",
   "metadata": {},
   "source": [
    "## Demo for SciPy 2021, part 1: \n",
    "# \"Without Pandas\"\n",
    "\n",
    "Based on `Market_Intelligence_Part1.ipynb`."
   ]
  },
  {
   "cell_type": "code",
   "execution_count": 1,
   "metadata": {
    "tags": []
   },
   "outputs": [],
   "source": [
    "# Load some model outputs we've precomputed offline\n",
    "import json\n",
    "\n",
    "data_dir = \"./scipy_demo_data\"\n",
    "with open(f\"{data_dir}/person_mentions.json\") as f:\n",
    "    person_mentions = json.load(f)\n",
    "with open(f\"{data_dir}/someone_said_something.json\") as f:\n",
    "    someone_said_something = json.load(f)\n",
    "with open(f\"{data_dir}/person_mentions_watson.json\") as f:\n",
    "    person_mentions_watson = json.load(f)"
   ]
  },
  {
   "cell_type": "code",
   "execution_count": 2,
   "metadata": {
    "tags": []
   },
   "outputs": [
    {
     "data": {
      "text/plain": [
       "[{'subject': {'text': 'Christoph Herman, SVP and Head of SAP HANA Enterprise Cloud Delivery',\n",
       "   'begin': 1213,\n",
       "   'end': 1281},\n",
       "  'sentence': ' \"SAP HANA Enterprise Cloud on IBM Power Systems will help clients unlock the full value of SAP HANA in the cloud, with the possibility of enhancing the scalability and availability of mission critical SAP applications while moving workloads to SAP HANA and lowering TCO,\" said Christoph Herman, SVP and Head of SAP HANA Enterprise Cloud Delivery.',\n",
       "  'object': {'text': 'SAP HANA Enterprise Cloud on IBM Power Systems will help clients unlock the full value of SAP HANA in the cloud, with the possibility of enhancing the scalability and availability of mission critical SAP applications while moving workloads to SAP HANA and lowering TCO'},\n",
       "  'action': {'verb': {'text': 'say', 'tense': 'past'},\n",
       "   'text': 'said',\n",
       "   'normalized': 'say'}},\n",
       " {'subject': {'text': 'Stephen Leonard, General Manager, IBM Cognitive Systems, \"With the addition of IBM Power Systems in SAP HANA Enterprise Cloud, we\\'re giving our clients more choices and greater flexibility to run their workloads where they want to across the hybrid cloud and accelerate digital transformation',\n",
       "   'begin': 2227,\n",
       "   'end': 2519},\n",
       "  'sentence': ' \"In June, IBM announced the availability of POWER9 in the IBM Cloud, taking the first step toward our goal of bringing IBM Cognitive Systems technology to our clients, no matter where they are,\" said Stephen Leonard, General Manager, IBM Cognitive Systems, \"With the addition of IBM Power Systems in SAP HANA Enterprise Cloud, we\\'re giving our clients more choices and greater flexibility to run their workloads where they want to across the hybrid cloud and accelerate digital transformation.\"',\n",
       "  'object': {'text': 'In June, IBM announced the availability of POWER9 in the IBM Cloud, taking the first step toward our goal of bringing IBM Cognitive Systems technology to our clients, no matter where they are'},\n",
       "  'action': {'verb': {'text': 'say', 'tense': 'past'},\n",
       "   'text': 'said',\n",
       "   'normalized': 'say'}}]"
      ]
     },
     "execution_count": 2,
     "metadata": {},
     "output_type": "execute_result"
    }
   ],
   "source": [
    "someone_said_something"
   ]
  },
  {
   "cell_type": "code",
   "execution_count": 3,
   "metadata": {
    "tags": []
   },
   "outputs": [
    {
     "data": {
      "text/plain": [
       "[{'entity_group': 'PER',\n",
       "  'score': 0.9996308088302612,\n",
       "  'word': 'Christoph Herman',\n",
       "  'start': 1213,\n",
       "  'end': 1229}]"
      ]
     },
     "execution_count": 3,
     "metadata": {},
     "output_type": "execute_result"
    }
   ],
   "source": [
    "person_mentions"
   ]
  },
  {
   "cell_type": "code",
   "execution_count": 4,
   "metadata": {
    "tags": []
   },
   "outputs": [
    {
     "data": {
      "text/plain": [
       "[{'person': {'entity_group': 'PER',\n",
       "   'score': 0.9996308088302612,\n",
       "   'word': 'Christoph Herman',\n",
       "   'start': 1213,\n",
       "   'end': 1229},\n",
       "  'subject': {'text': 'Christoph Herman, SVP and Head of SAP HANA Enterprise Cloud Delivery',\n",
       "   'begin': 1213,\n",
       "   'end': 1281}}]"
      ]
     },
     "execution_count": 4,
     "metadata": {},
     "output_type": "execute_result"
    }
   ],
   "source": [
    "def persons_in_subjects(person_mentions, someone_said_something):\n",
    "    # Adjust chunk length so every span fits in exactly 1 or 2 chunks\n",
    "    lengths = [s[\"subject\"][\"end\"] - s[\"subject\"][\"begin\"] for s in someone_said_something]\n",
    "    chunk_len = max(lengths) + 1\n",
    "    \n",
    "    # Build a lookup table.\n",
    "    # Key is (offset // chunk len).\n",
    "    # Value is index into someone_said_something\n",
    "    chunk_to_srl_ix = {}\n",
    "    for i in range(len(someone_said_something)):\n",
    "        s = someone_said_something[i]\n",
    "        chunk_indices = set(\n",
    "            [s[\"subject\"][\"begin\"] // chunk_len, s[\"subject\"][\"end\"] // chunk_len]\n",
    "        )\n",
    "        for chunk_ix in chunk_indices:\n",
    "            entry = chunk_to_srl_ix.get(chunk_ix, [])\n",
    "            entry.append(i)\n",
    "            chunk_to_srl_ix[chunk_ix] = entry\n",
    "            \n",
    "    # Probe into the lookup table and compare pairs of spans\n",
    "    ix_pairs = []\n",
    "    for i in range(len(person_mentions)):\n",
    "        p = person_mentions[i]\n",
    "        chunk_indices = set([p[\"start\"] // chunk_len, p[\"end\"] // chunk_len])\n",
    "        ix_to_compare = []\n",
    "        for chunk_ix in chunk_indices:\n",
    "            for srl_ix in chunk_to_srl_ix[chunk_ix]:\n",
    "                srl = someone_said_something[srl_ix]\n",
    "                if srl[\"subject\"][\"begin\"] <= p[\"start\"] and srl[\"subject\"][\"end\"] >= p[\"end\"]:\n",
    "                    ix_pairs.append((i, srl_ix))\n",
    "            \n",
    "    # Drop duplicates\n",
    "    unique_ix_pairs = set(ix_pairs)\n",
    "    \n",
    "    # Construct result records\n",
    "    return [\n",
    "        {\"person\": person_mentions[t[0]],\n",
    "         \"subject\": someone_said_something[t[1]][\"subject\"]}\n",
    "        for t in unique_ix_pairs\n",
    "    ]\n",
    "\n",
    "persons_in_subjects(person_mentions, someone_said_something)"
   ]
  },
  {
   "cell_type": "code",
   "execution_count": 5,
   "metadata": {
    "tags": []
   },
   "outputs": [
    {
     "data": {
      "text/plain": [
       "[{'type': 'Person',\n",
       "  'text': 'Christoph Herman',\n",
       "  'relevance': 0.217154,\n",
       "  'mentions': [{'text': 'Christoph Herman',\n",
       "    'location': [1213, 1229],\n",
       "    'confidence': 0.94435}],\n",
       "  'count': 1,\n",
       "  'confidence': 0.94435},\n",
       " {'type': 'Person',\n",
       "  'text': 'Stephen Leonard',\n",
       "  'relevance': 0.136166,\n",
       "  'mentions': [{'text': 'Stephen Leonard',\n",
       "    'location': [2227, 2242],\n",
       "    'confidence': 0.989177}],\n",
       "  'disambiguation': {'name': 'Steve_Leonard',\n",
       "   'dbpedia_resource': 'http://dbpedia.org/resource/Steve_Leonard'},\n",
       "  'count': 1,\n",
       "  'confidence': 0.989177},\n",
       " {'type': 'Person',\n",
       "  'text': 'Sam Ponedal',\n",
       "  'relevance': 0.020711,\n",
       "  'mentions': [{'text': 'Sam Ponedal',\n",
       "    'location': [3574, 3585],\n",
       "    'confidence': 0.894298}],\n",
       "  'count': 1,\n",
       "  'confidence': 0.894298}]"
      ]
     },
     "execution_count": 5,
     "metadata": {},
     "output_type": "execute_result"
    }
   ],
   "source": [
    "person_mentions_watson"
   ]
  },
  {
   "cell_type": "code",
   "execution_count": 6,
   "metadata": {
    "tags": []
   },
   "outputs": [
    {
     "ename": "KeyError",
     "evalue": "'start'",
     "output_type": "error",
     "traceback": [
      "\u001b[0;31m---------------------------------------------------------------------------\u001b[0m",
      "\u001b[0;31mKeyError\u001b[0m                                  Traceback (most recent call last)",
      "\u001b[0;32m<ipython-input-6-b1afb2f43d38>\u001b[0m in \u001b[0;36m<module>\u001b[0;34m\u001b[0m\n\u001b[0;32m----> 1\u001b[0;31m \u001b[0mpersons_in_subjects\u001b[0m\u001b[0;34m(\u001b[0m\u001b[0mperson_mentions_watson\u001b[0m\u001b[0;34m,\u001b[0m \u001b[0msomeone_said_something\u001b[0m\u001b[0;34m)\u001b[0m\u001b[0;34m\u001b[0m\u001b[0;34m\u001b[0m\u001b[0m\n\u001b[0m",
      "\u001b[0;32m<ipython-input-4-c1ef862288e2>\u001b[0m in \u001b[0;36mpersons_in_subjects\u001b[0;34m(person_mentions, someone_said_something)\u001b[0m\n\u001b[1;32m     22\u001b[0m     \u001b[0;32mfor\u001b[0m \u001b[0mi\u001b[0m \u001b[0;32min\u001b[0m \u001b[0mrange\u001b[0m\u001b[0;34m(\u001b[0m\u001b[0mlen\u001b[0m\u001b[0;34m(\u001b[0m\u001b[0mperson_mentions\u001b[0m\u001b[0;34m)\u001b[0m\u001b[0;34m)\u001b[0m\u001b[0;34m:\u001b[0m\u001b[0;34m\u001b[0m\u001b[0;34m\u001b[0m\u001b[0m\n\u001b[1;32m     23\u001b[0m         \u001b[0mp\u001b[0m \u001b[0;34m=\u001b[0m \u001b[0mperson_mentions\u001b[0m\u001b[0;34m[\u001b[0m\u001b[0mi\u001b[0m\u001b[0;34m]\u001b[0m\u001b[0;34m\u001b[0m\u001b[0;34m\u001b[0m\u001b[0m\n\u001b[0;32m---> 24\u001b[0;31m         \u001b[0mchunk_indices\u001b[0m \u001b[0;34m=\u001b[0m \u001b[0mset\u001b[0m\u001b[0;34m(\u001b[0m\u001b[0;34m[\u001b[0m\u001b[0mp\u001b[0m\u001b[0;34m[\u001b[0m\u001b[0;34m\"start\"\u001b[0m\u001b[0;34m]\u001b[0m \u001b[0;34m//\u001b[0m \u001b[0mchunk_len\u001b[0m\u001b[0;34m,\u001b[0m \u001b[0mp\u001b[0m\u001b[0;34m[\u001b[0m\u001b[0;34m\"end\"\u001b[0m\u001b[0;34m]\u001b[0m \u001b[0;34m//\u001b[0m \u001b[0mchunk_len\u001b[0m\u001b[0;34m]\u001b[0m\u001b[0;34m)\u001b[0m\u001b[0;34m\u001b[0m\u001b[0;34m\u001b[0m\u001b[0m\n\u001b[0m\u001b[1;32m     25\u001b[0m         \u001b[0mix_to_compare\u001b[0m \u001b[0;34m=\u001b[0m \u001b[0;34m[\u001b[0m\u001b[0;34m]\u001b[0m\u001b[0;34m\u001b[0m\u001b[0;34m\u001b[0m\u001b[0m\n\u001b[1;32m     26\u001b[0m         \u001b[0;32mfor\u001b[0m \u001b[0mchunk_ix\u001b[0m \u001b[0;32min\u001b[0m \u001b[0mchunk_indices\u001b[0m\u001b[0;34m:\u001b[0m\u001b[0;34m\u001b[0m\u001b[0;34m\u001b[0m\u001b[0m\n",
      "\u001b[0;31mKeyError\u001b[0m: 'start'"
     ]
    }
   ],
   "source": [
    "persons_in_subjects(person_mentions_watson, someone_said_something)"
   ]
  },
  {
   "cell_type": "code",
   "execution_count": null,
   "metadata": {},
   "outputs": [],
   "source": []
  }
 ],
 "metadata": {
  "kernelspec": {
   "display_name": "Python 3",
   "language": "python",
   "name": "python3"
  },
  "language_info": {
   "codemirror_mode": {
    "name": "ipython",
    "version": 3
   },
   "file_extension": ".py",
   "mimetype": "text/x-python",
   "name": "python",
   "nbconvert_exporter": "python",
   "pygments_lexer": "ipython3",
   "version": "3.8.10"
  }
 },
 "nbformat": 4,
 "nbformat_minor": 4
}
