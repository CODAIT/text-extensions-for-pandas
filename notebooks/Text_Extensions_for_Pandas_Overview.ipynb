{
 "cells": [
  {
   "cell_type": "markdown",
   "metadata": {},
   "source": [
    "<font size=6>\n",
    "    <b>Text_Extensions_for_Pandas_Overview.ipynb:</b>\n",
    "    <p>Overview of the basic functionality and usage of Text Extensions for Pandas.</p>\n",
    "</font>"
   ]
  },
  {
   "cell_type": "markdown",
   "metadata": {},
   "source": [
    "## Text Extensions for Pandas\n",
    "\n",
    "[Text Extensions for Pandas](https://github.com/CODAIT/text-extensions-for-pandas) is a library that provides natural language processing support for Pandas DataFrames. It includes [Pandas](https://pandas.pydata.org) extension arrays that help with natural language processing, and integrates with other popular NLP libraries to provide a workflow centered around the easy to use and powerful Pandas [DataFrame](https://pandas.pydata.org/pandas-docs/stable/reference/api/pandas.DataFrame.html).\n",
    "\n",
    "This notebook gives an overview of the basic functionality of Text Extensions for Pandas, and serves as a jumping off point to more in-depth examples of specific functionality. See the following notebooks that use Text Extensions for Pandas for data analysis, NLP, and model training:\n",
    "\n",
    "- [Analyze_Model_Outputs](./Analyze_Model_Outputs.ipynb) - analyze the outputs of a NLP model on a target corpus\n",
    "- [Analyze_Text](./Analyze_Text.ipynb) - usage with the IBM Watson cloud API\n",
    "- [Integrate_NLP_Libraries](./Integrate_NLP_Libraries.ipynb) - integration with SpaCy and IBM Watson\n",
    "- [Model_Training_with_BERT](./Model_Training_with_BERT.ipynb) - model training for NER with BERT tokenization and embeddings\n",
    "- [Understand_Tables](./Understand_Tables.ipynb) - integration with IBM Watson Discovery for understanding of tables in PDFs and documents\n",
    "\n",
    "API reference can be found at https://text-extensions-for-pandas.readthedocs.io/en/latest/"
   ]
  },
  {
   "cell_type": "markdown",
   "metadata": {},
   "source": [
    "## Environment Setup\n",
    "\n",
    "This notebook requires a Python 3.6 or later environment with NumPy, and Pandas. \n",
    "\n",
    "The notebook also requires the  `text_extensions_for_pandas` library. You can satisfy this dependency in two ways:\n",
    "\n",
    "* Run `pip install text_extensions_for_pandas` before running this notebook. This command adds the library to your Python environment.\n",
    "* Run this notebook out of your local copy of the Text Extensions for Pandas project's [source tree](https://github.com/CODAIT/text-extensions-for-pandas). In this case, the notebook will use the version of Text Extensions for Pandas in your local source tree **if the package is not installed in your Python environment**."
   ]
  },
  {
   "cell_type": "code",
   "execution_count": 1,
   "metadata": {},
   "outputs": [],
   "source": [
    "import os\n",
    "import regex\n",
    "import sys\n",
    "import numpy as np\n",
    "import pandas as pd\n",
    "\n",
    "# And of course we need the text_extensions_for_pandas library itself.\n",
    "try:\n",
    "    import text_extensions_for_pandas as tp\n",
    "except ModuleNotFoundError as e:\n",
    "    # If we're running from within the project source tree and the parent Python\n",
    "    # environment doesn't have the text_extensions_for_pandas package, use the\n",
    "    # version in the local source tree.\n",
    "    if not os.getcwd().endswith(\"notebooks\"):\n",
    "        raise e\n",
    "    if \"..\" not in sys.path:\n",
    "        sys.path.insert(0, \"..\")\n",
    "    import text_extensions_for_pandas as tp"
   ]
  },
  {
   "cell_type": "markdown",
   "metadata": {},
   "source": [
    "## Pandas Extension Arrays\n",
    "\n",
    "Text Extensions for Pandas provides several Pandas extension arrays on which much of the functionality is built on top of. This section will introduce and show basic usage of these extension arrays."
   ]
  },
  {
   "cell_type": "markdown",
   "metadata": {},
   "source": [
    "### SpanArray\n",
    "\n",
    "A `SpanArray` represents a column of character-based spans over a single target text. It is backed by 2 child arrays of integers that are the begin and end offsets of each span item from the target text. Spans can use any offset within the target text and can also overlap with each other. A `SpanArray` can efficiently represent the tokenized result of text because each token is not copied, only offsets are stored. Equality of spans is determined by the text and offset values, so each token will be unique within the text.\n",
    "\n",
    "The `SpanArray` is a Pandas extension type, so it can be wrapped as a series and included in a DataFrame to make use of standard Pandas functionality. The values of a `SpanArray` are also designed to render nicely as HTML, for easy display of the span offsets, text and highlighted target text.\n",
    "\n",
    "We will show some basic operations of the `SpanArray` by tokenizing a small example piece of text."
   ]
  },
  {
   "cell_type": "code",
   "execution_count": 2,
   "metadata": {},
   "outputs": [],
   "source": [
    "# Sample text input.\n",
    "text = \"\"\"\\\n",
    "In AD 932, King Arthur and his squire, Patsy, travel throughout Britain \\\n",
    "searching for men to join the Knights of the Round Table. Along the way, \\\n",
    "he recruits Sir Bedevere the Wise, Sir Lancelot the Brave, Sir Galahad \\\n",
    "the Pure, Sir Robin the Not-Quite-So-Brave-as-Sir-Lancelot, and Sir \\\n",
    "Not-Appearing-in-this-Film, along with their squires and Robin's troubadours.\\\n",
    "\"\"\""
   ]
  },
  {
   "cell_type": "code",
   "execution_count": 3,
   "metadata": {},
   "outputs": [],
   "source": [
    "# Define a crude tokenizer to split by words, for example use only.\n",
    "def tokenize_with_offsets(text):\n",
    "    \"\"\"Return offsets of tokens from given `text`\"\"\"\n",
    "    splits = text.split(\" \")\n",
    "    begins = np.cumsum([0] + [len(s) + 1 for s in splits[:-1]])\n",
    "    ends = begins + [len(s.strip(\",.\")) for s in splits]\n",
    "    return begins, ends"
   ]
  },
  {
   "cell_type": "code",
   "execution_count": 4,
   "metadata": {},
   "outputs": [
    {
     "data": {
      "text/html": [
       "\n",
       "        <div id=\"spanArray\">\n",
       "            <div id=\"spans\" \n",
       "             style=\"background-color:#F0F0F0; border: 1px solid #E0E0E0; float:left; padding:10px;\">\n",
       "                <table border=\"1\" class=\"dataframe\">\n",
       "  <thead>\n",
       "    <tr style=\"text-align: right;\">\n",
       "      <th></th>\n",
       "      <th>begin</th>\n",
       "      <th>end</th>\n",
       "      <th>covered_text</th>\n",
       "    </tr>\n",
       "  </thead>\n",
       "  <tbody>\n",
       "    <tr>\n",
       "      <th>0</th>\n",
       "      <td>0</td>\n",
       "      <td>2</td>\n",
       "      <td>In</td>\n",
       "    </tr>\n",
       "    <tr>\n",
       "      <th>1</th>\n",
       "      <td>3</td>\n",
       "      <td>5</td>\n",
       "      <td>AD</td>\n",
       "    </tr>\n",
       "    <tr>\n",
       "      <th>2</th>\n",
       "      <td>6</td>\n",
       "      <td>9</td>\n",
       "      <td>932</td>\n",
       "    </tr>\n",
       "    <tr>\n",
       "      <th>3</th>\n",
       "      <td>11</td>\n",
       "      <td>15</td>\n",
       "      <td>King</td>\n",
       "    </tr>\n",
       "    <tr>\n",
       "      <th>4</th>\n",
       "      <td>16</td>\n",
       "      <td>22</td>\n",
       "      <td>Arthur</td>\n",
       "    </tr>\n",
       "    <tr>\n",
       "      <th>5</th>\n",
       "      <td>23</td>\n",
       "      <td>26</td>\n",
       "      <td>and</td>\n",
       "    </tr>\n",
       "    <tr>\n",
       "      <th>6</th>\n",
       "      <td>27</td>\n",
       "      <td>30</td>\n",
       "      <td>his</td>\n",
       "    </tr>\n",
       "    <tr>\n",
       "      <th>7</th>\n",
       "      <td>31</td>\n",
       "      <td>37</td>\n",
       "      <td>squire</td>\n",
       "    </tr>\n",
       "    <tr>\n",
       "      <th>8</th>\n",
       "      <td>39</td>\n",
       "      <td>44</td>\n",
       "      <td>Patsy</td>\n",
       "    </tr>\n",
       "    <tr>\n",
       "      <th>9</th>\n",
       "      <td>46</td>\n",
       "      <td>52</td>\n",
       "      <td>travel</td>\n",
       "    </tr>\n",
       "    <tr>\n",
       "      <th>10</th>\n",
       "      <td>53</td>\n",
       "      <td>63</td>\n",
       "      <td>throughout</td>\n",
       "    </tr>\n",
       "    <tr>\n",
       "      <th>11</th>\n",
       "      <td>64</td>\n",
       "      <td>71</td>\n",
       "      <td>Britain</td>\n",
       "    </tr>\n",
       "    <tr>\n",
       "      <th>12</th>\n",
       "      <td>72</td>\n",
       "      <td>81</td>\n",
       "      <td>searching</td>\n",
       "    </tr>\n",
       "    <tr>\n",
       "      <th>13</th>\n",
       "      <td>82</td>\n",
       "      <td>85</td>\n",
       "      <td>for</td>\n",
       "    </tr>\n",
       "    <tr>\n",
       "      <th>14</th>\n",
       "      <td>86</td>\n",
       "      <td>89</td>\n",
       "      <td>men</td>\n",
       "    </tr>\n",
       "    <tr>\n",
       "      <th>15</th>\n",
       "      <td>90</td>\n",
       "      <td>92</td>\n",
       "      <td>to</td>\n",
       "    </tr>\n",
       "    <tr>\n",
       "      <th>16</th>\n",
       "      <td>93</td>\n",
       "      <td>97</td>\n",
       "      <td>join</td>\n",
       "    </tr>\n",
       "    <tr>\n",
       "      <th>17</th>\n",
       "      <td>98</td>\n",
       "      <td>101</td>\n",
       "      <td>the</td>\n",
       "    </tr>\n",
       "    <tr>\n",
       "      <th>18</th>\n",
       "      <td>102</td>\n",
       "      <td>109</td>\n",
       "      <td>Knights</td>\n",
       "    </tr>\n",
       "    <tr>\n",
       "      <th>19</th>\n",
       "      <td>110</td>\n",
       "      <td>112</td>\n",
       "      <td>of</td>\n",
       "    </tr>\n",
       "    <tr>\n",
       "      <th>20</th>\n",
       "      <td>113</td>\n",
       "      <td>116</td>\n",
       "      <td>the</td>\n",
       "    </tr>\n",
       "    <tr>\n",
       "      <th>21</th>\n",
       "      <td>117</td>\n",
       "      <td>122</td>\n",
       "      <td>Round</td>\n",
       "    </tr>\n",
       "    <tr>\n",
       "      <th>22</th>\n",
       "      <td>123</td>\n",
       "      <td>128</td>\n",
       "      <td>Table</td>\n",
       "    </tr>\n",
       "    <tr>\n",
       "      <th>23</th>\n",
       "      <td>130</td>\n",
       "      <td>135</td>\n",
       "      <td>Along</td>\n",
       "    </tr>\n",
       "    <tr>\n",
       "      <th>24</th>\n",
       "      <td>136</td>\n",
       "      <td>139</td>\n",
       "      <td>the</td>\n",
       "    </tr>\n",
       "    <tr>\n",
       "      <th>25</th>\n",
       "      <td>140</td>\n",
       "      <td>143</td>\n",
       "      <td>way</td>\n",
       "    </tr>\n",
       "    <tr>\n",
       "      <th>26</th>\n",
       "      <td>145</td>\n",
       "      <td>147</td>\n",
       "      <td>he</td>\n",
       "    </tr>\n",
       "    <tr>\n",
       "      <th>27</th>\n",
       "      <td>148</td>\n",
       "      <td>156</td>\n",
       "      <td>recruits</td>\n",
       "    </tr>\n",
       "    <tr>\n",
       "      <th>28</th>\n",
       "      <td>157</td>\n",
       "      <td>160</td>\n",
       "      <td>Sir</td>\n",
       "    </tr>\n",
       "    <tr>\n",
       "      <th>29</th>\n",
       "      <td>161</td>\n",
       "      <td>169</td>\n",
       "      <td>Bedevere</td>\n",
       "    </tr>\n",
       "    <tr>\n",
       "      <th>30</th>\n",
       "      <td>170</td>\n",
       "      <td>173</td>\n",
       "      <td>the</td>\n",
       "    </tr>\n",
       "    <tr>\n",
       "      <th>31</th>\n",
       "      <td>174</td>\n",
       "      <td>178</td>\n",
       "      <td>Wise</td>\n",
       "    </tr>\n",
       "    <tr>\n",
       "      <th>32</th>\n",
       "      <td>180</td>\n",
       "      <td>183</td>\n",
       "      <td>Sir</td>\n",
       "    </tr>\n",
       "    <tr>\n",
       "      <th>33</th>\n",
       "      <td>184</td>\n",
       "      <td>192</td>\n",
       "      <td>Lancelot</td>\n",
       "    </tr>\n",
       "    <tr>\n",
       "      <th>34</th>\n",
       "      <td>193</td>\n",
       "      <td>196</td>\n",
       "      <td>the</td>\n",
       "    </tr>\n",
       "    <tr>\n",
       "      <th>35</th>\n",
       "      <td>197</td>\n",
       "      <td>202</td>\n",
       "      <td>Brave</td>\n",
       "    </tr>\n",
       "    <tr>\n",
       "      <th>36</th>\n",
       "      <td>204</td>\n",
       "      <td>207</td>\n",
       "      <td>Sir</td>\n",
       "    </tr>\n",
       "    <tr>\n",
       "      <th>37</th>\n",
       "      <td>208</td>\n",
       "      <td>215</td>\n",
       "      <td>Galahad</td>\n",
       "    </tr>\n",
       "    <tr>\n",
       "      <th>38</th>\n",
       "      <td>216</td>\n",
       "      <td>219</td>\n",
       "      <td>the</td>\n",
       "    </tr>\n",
       "    <tr>\n",
       "      <th>39</th>\n",
       "      <td>220</td>\n",
       "      <td>224</td>\n",
       "      <td>Pure</td>\n",
       "    </tr>\n",
       "    <tr>\n",
       "      <th>40</th>\n",
       "      <td>226</td>\n",
       "      <td>229</td>\n",
       "      <td>Sir</td>\n",
       "    </tr>\n",
       "    <tr>\n",
       "      <th>41</th>\n",
       "      <td>230</td>\n",
       "      <td>235</td>\n",
       "      <td>Robin</td>\n",
       "    </tr>\n",
       "    <tr>\n",
       "      <th>42</th>\n",
       "      <td>236</td>\n",
       "      <td>239</td>\n",
       "      <td>the</td>\n",
       "    </tr>\n",
       "    <tr>\n",
       "      <th>43</th>\n",
       "      <td>240</td>\n",
       "      <td>274</td>\n",
       "      <td>Not-Quite-So-Brave-as-Sir-Lancelot</td>\n",
       "    </tr>\n",
       "    <tr>\n",
       "      <th>44</th>\n",
       "      <td>276</td>\n",
       "      <td>279</td>\n",
       "      <td>and</td>\n",
       "    </tr>\n",
       "    <tr>\n",
       "      <th>45</th>\n",
       "      <td>280</td>\n",
       "      <td>283</td>\n",
       "      <td>Sir</td>\n",
       "    </tr>\n",
       "    <tr>\n",
       "      <th>46</th>\n",
       "      <td>284</td>\n",
       "      <td>310</td>\n",
       "      <td>Not-Appearing-in-this-Film</td>\n",
       "    </tr>\n",
       "    <tr>\n",
       "      <th>47</th>\n",
       "      <td>312</td>\n",
       "      <td>317</td>\n",
       "      <td>along</td>\n",
       "    </tr>\n",
       "    <tr>\n",
       "      <th>48</th>\n",
       "      <td>318</td>\n",
       "      <td>322</td>\n",
       "      <td>with</td>\n",
       "    </tr>\n",
       "    <tr>\n",
       "      <th>49</th>\n",
       "      <td>323</td>\n",
       "      <td>328</td>\n",
       "      <td>their</td>\n",
       "    </tr>\n",
       "    <tr>\n",
       "      <th>50</th>\n",
       "      <td>329</td>\n",
       "      <td>336</td>\n",
       "      <td>squires</td>\n",
       "    </tr>\n",
       "    <tr>\n",
       "      <th>51</th>\n",
       "      <td>337</td>\n",
       "      <td>340</td>\n",
       "      <td>and</td>\n",
       "    </tr>\n",
       "    <tr>\n",
       "      <th>52</th>\n",
       "      <td>341</td>\n",
       "      <td>348</td>\n",
       "      <td>Robin's</td>\n",
       "    </tr>\n",
       "    <tr>\n",
       "      <th>53</th>\n",
       "      <td>349</td>\n",
       "      <td>360</td>\n",
       "      <td>troubadours</td>\n",
       "    </tr>\n",
       "  </tbody>\n",
       "</table>\n",
       "            </div>\n",
       "            <div id=\"text\"\n",
       "             style=\"float:right; background-color:#F5F5F5; border: 1px solid #E0E0E0; width: 60%;\">\n",
       "                <div style=\"float:center; padding:10px\">\n",
       "                    <p style=\"font-family:monospace\">\n",
       "                        <span style=\"background-color:yellow\">In</span> <span style=\"background-color:yellow\">AD</span> <span style=\"background-color:yellow\">932</span>, <span style=\"background-color:yellow\">King</span> <span style=\"background-color:yellow\">Arthur</span> <span style=\"background-color:yellow\">and</span> <span style=\"background-color:yellow\">his</span> <span style=\"background-color:yellow\">squire</span>, <span style=\"background-color:yellow\">Patsy</span>, <span style=\"background-color:yellow\">travel</span> <span style=\"background-color:yellow\">throughout</span> <span style=\"background-color:yellow\">Britain</span> <span style=\"background-color:yellow\">searching</span> <span style=\"background-color:yellow\">for</span> <span style=\"background-color:yellow\">men</span> <span style=\"background-color:yellow\">to</span> <span style=\"background-color:yellow\">join</span> <span style=\"background-color:yellow\">the</span> <span style=\"background-color:yellow\">Knights</span> <span style=\"background-color:yellow\">of</span> <span style=\"background-color:yellow\">the</span> <span style=\"background-color:yellow\">Round</span> <span style=\"background-color:yellow\">Table</span>. <span style=\"background-color:yellow\">Along</span> <span style=\"background-color:yellow\">the</span> <span style=\"background-color:yellow\">way</span>, <span style=\"background-color:yellow\">he</span> <span style=\"background-color:yellow\">recruits</span> <span style=\"background-color:yellow\">Sir</span> <span style=\"background-color:yellow\">Bedevere</span> <span style=\"background-color:yellow\">the</span> <span style=\"background-color:yellow\">Wise</span>, <span style=\"background-color:yellow\">Sir</span> <span style=\"background-color:yellow\">Lancelot</span> <span style=\"background-color:yellow\">the</span> <span style=\"background-color:yellow\">Brave</span>, <span style=\"background-color:yellow\">Sir</span> <span style=\"background-color:yellow\">Galahad</span> <span style=\"background-color:yellow\">the</span> <span style=\"background-color:yellow\">Pure</span>, <span style=\"background-color:yellow\">Sir</span> <span style=\"background-color:yellow\">Robin</span> <span style=\"background-color:yellow\">the</span> <span style=\"background-color:yellow\">Not-Quite-So-Brave-as-Sir-Lancelot</span>, <span style=\"background-color:yellow\">and</span> <span style=\"background-color:yellow\">Sir</span> <span style=\"background-color:yellow\">Not-Appearing-in-this-Film</span>, <span style=\"background-color:yellow\">along</span> <span style=\"background-color:yellow\">with</span> <span style=\"background-color:yellow\">their</span> <span style=\"background-color:yellow\">squires</span> <span style=\"background-color:yellow\">and</span> <span style=\"background-color:yellow\">Robin&#39;s</span> <span style=\"background-color:yellow\">troubadours</span>.\n",
       "                    </p>\n",
       "                </div>\n",
       "            </div>\n",
       "        </div>\n",
       "        "
      ],
      "text/plain": [
       "<SpanArray>\n",
       "[                                    [0, 2): 'In',\n",
       "                                     [3, 5): 'AD',\n",
       "                                    [6, 9): '932',\n",
       "                                 [11, 15): 'King',\n",
       "                               [16, 22): 'Arthur',\n",
       "                                  [23, 26): 'and',\n",
       "                                  [27, 30): 'his',\n",
       "                               [31, 37): 'squire',\n",
       "                                [39, 44): 'Patsy',\n",
       "                               [46, 52): 'travel',\n",
       "                           [53, 63): 'throughout',\n",
       "                              [64, 71): 'Britain',\n",
       "                            [72, 81): 'searching',\n",
       "                                  [82, 85): 'for',\n",
       "                                  [86, 89): 'men',\n",
       "                                   [90, 92): 'to',\n",
       "                                 [93, 97): 'join',\n",
       "                                 [98, 101): 'the',\n",
       "                            [102, 109): 'Knights',\n",
       "                                 [110, 112): 'of',\n",
       "                                [113, 116): 'the',\n",
       "                              [117, 122): 'Round',\n",
       "                              [123, 128): 'Table',\n",
       "                              [130, 135): 'Along',\n",
       "                                [136, 139): 'the',\n",
       "                                [140, 143): 'way',\n",
       "                                 [145, 147): 'he',\n",
       "                           [148, 156): 'recruits',\n",
       "                                [157, 160): 'Sir',\n",
       "                           [161, 169): 'Bedevere',\n",
       "                                [170, 173): 'the',\n",
       "                               [174, 178): 'Wise',\n",
       "                                [180, 183): 'Sir',\n",
       "                           [184, 192): 'Lancelot',\n",
       "                                [193, 196): 'the',\n",
       "                              [197, 202): 'Brave',\n",
       "                                [204, 207): 'Sir',\n",
       "                            [208, 215): 'Galahad',\n",
       "                                [216, 219): 'the',\n",
       "                               [220, 224): 'Pure',\n",
       "                                [226, 229): 'Sir',\n",
       "                              [230, 235): 'Robin',\n",
       "                                [236, 239): 'the',\n",
       " [240, 274): 'Not-Quite-So-Brave-as-Sir-Lancelot',\n",
       "                                [276, 279): 'and',\n",
       "                                [280, 283): 'Sir',\n",
       "         [284, 310): 'Not-Appearing-in-this-Film',\n",
       "                              [312, 317): 'along',\n",
       "                               [318, 322): 'with',\n",
       "                              [323, 328): 'their',\n",
       "                            [329, 336): 'squires',\n",
       "                                [337, 340): 'and',\n",
       "                            [341, 348): 'Robin's',\n",
       "                        [349, 360): 'troubadours']\n",
       "Length: 54, dtype: SpanDtype"
      ]
     },
     "execution_count": 4,
     "metadata": {},
     "output_type": "execute_result"
    }
   ],
   "source": [
    "# Tokenize the text to get begin, end offsets and construct a `SpanArray`.\n",
    "begins, ends = tokenize_with_offsets(text)\n",
    "tokens = tp.SpanArray(text, begins, ends)\n",
    "\n",
    "# The array nicely renders in HTML to show offsets, text of the span,\n",
    "# and highlighted target text.\n",
    "tokens"
   ]
  },
  {
   "cell_type": "code",
   "execution_count": 5,
   "metadata": {},
   "outputs": [
    {
     "data": {
      "text/plain": [
       "[240, 274): 'Not-Quite-So-Brave-as-Sir-Lancelot'"
      ]
     },
     "execution_count": 5,
     "metadata": {},
     "output_type": "execute_result"
    }
   ],
   "source": [
    "# Indexing the array with an integer will produce a `Span`, which is a single\n",
    "# element in the array.\n",
    "tok = tokens[43]\n",
    "tok"
   ]
  },
  {
   "cell_type": "code",
   "execution_count": 6,
   "metadata": {},
   "outputs": [
    {
     "data": {
      "text/html": [
       "\n",
       "        <div id=\"spanArray\">\n",
       "            <div id=\"spans\" \n",
       "             style=\"background-color:#F0F0F0; border: 1px solid #E0E0E0; float:left; padding:10px;\">\n",
       "                <table border=\"1\" class=\"dataframe\">\n",
       "  <thead>\n",
       "    <tr style=\"text-align: right;\">\n",
       "      <th></th>\n",
       "      <th>begin</th>\n",
       "      <th>end</th>\n",
       "      <th>covered_text</th>\n",
       "    </tr>\n",
       "  </thead>\n",
       "  <tbody>\n",
       "    <tr>\n",
       "      <th>0</th>\n",
       "      <td>226</td>\n",
       "      <td>229</td>\n",
       "      <td>Sir</td>\n",
       "    </tr>\n",
       "    <tr>\n",
       "      <th>1</th>\n",
       "      <td>230</td>\n",
       "      <td>235</td>\n",
       "      <td>Robin</td>\n",
       "    </tr>\n",
       "    <tr>\n",
       "      <th>2</th>\n",
       "      <td>236</td>\n",
       "      <td>239</td>\n",
       "      <td>the</td>\n",
       "    </tr>\n",
       "    <tr>\n",
       "      <th>3</th>\n",
       "      <td>240</td>\n",
       "      <td>274</td>\n",
       "      <td>Not-Quite-So-Brave-as-Sir-Lancelot</td>\n",
       "    </tr>\n",
       "  </tbody>\n",
       "</table>\n",
       "            </div>\n",
       "            <div id=\"text\"\n",
       "             style=\"float:right; background-color:#F5F5F5; border: 1px solid #E0E0E0; width: 60%;\">\n",
       "                <div style=\"float:center; padding:10px\">\n",
       "                    <p style=\"font-family:monospace\">\n",
       "                        In AD 932, King Arthur and his squire, Patsy, travel throughout Britain searching for men to join the Knights of the Round Table. Along the way, he recruits Sir Bedevere the Wise, Sir Lancelot the Brave, Sir Galahad the Pure, <span style=\"background-color:yellow\">Sir</span> <span style=\"background-color:yellow\">Robin</span> <span style=\"background-color:yellow\">the</span> <span style=\"background-color:yellow\">Not-Quite-So-Brave-as-Sir-Lancelot</span>, and Sir Not-Appearing-in-this-Film, along with their squires and Robin&#39;s troubadours.\n",
       "                    </p>\n",
       "                </div>\n",
       "            </div>\n",
       "        </div>\n",
       "        "
      ],
      "text/plain": [
       "<SpanArray>\n",
       "[                               [226, 229): 'Sir',\n",
       "                              [230, 235): 'Robin',\n",
       "                                [236, 239): 'the',\n",
       " [240, 274): 'Not-Quite-So-Brave-as-Sir-Lancelot']\n",
       "Length: 4, dtype: SpanDtype"
      ]
     },
     "execution_count": 6,
     "metadata": {},
     "output_type": "execute_result"
    }
   ],
   "source": [
    "# It can also be indexed with a slice, producing another `SpanArray`.\n",
    "toks = tokens[40:44]\n",
    "toks"
   ]
  },
  {
   "cell_type": "code",
   "execution_count": 7,
   "metadata": {},
   "outputs": [
    {
     "data": {
      "text/plain": [
       "[[226, 229): 'Sir',\n",
       " [230, 235): 'Robin',\n",
       " [236, 239): 'the',\n",
       " [240, 274): 'Not-Quite-So-Brave-as-Sir-Lancelot']"
      ]
     },
     "execution_count": 7,
     "metadata": {},
     "output_type": "execute_result"
    }
   ],
   "source": [
    "# Iterate over the array to get each `Span`.\n",
    "toks = [span for span in tokens[40:44]]\n",
    "toks"
   ]
  },
  {
   "cell_type": "code",
   "execution_count": 8,
   "metadata": {},
   "outputs": [
    {
     "data": {
      "text/plain": [
       "[226, 274): 'Sir Robin the Not-Quite-So-Brave-as-Sir-Lancelot'"
      ]
     },
     "execution_count": 8,
     "metadata": {},
     "output_type": "execute_result"
    }
   ],
   "source": [
    "# Addition of `Span`s or `SpanArray`s are supported,\n",
    "# the result is the minimum `Span` that covers both `Span`s.\n",
    "result = toks[0] + toks[-1]\n",
    "result"
   ]
  },
  {
   "cell_type": "code",
   "execution_count": 9,
   "metadata": {},
   "outputs": [
    {
     "data": {
      "text/plain": [
       "True"
      ]
     },
     "execution_count": 9,
     "metadata": {},
     "output_type": "execute_result"
    }
   ],
   "source": [
    "# You can check if one `Span` contains another.\n",
    "result.contains(toks[1])"
   ]
  },
  {
   "cell_type": "code",
   "execution_count": 10,
   "metadata": {},
   "outputs": [
    {
     "data": {
      "text/plain": [
       "True"
      ]
     },
     "execution_count": 10,
     "metadata": {},
     "output_type": "execute_result"
    }
   ],
   "source": [
    "# Also if two `Span`s overlap.\n",
    "a = toks[0] + toks[2]\n",
    "b = toks[2] + toks[3]\n",
    "a.overlaps(b)"
   ]
  },
  {
   "cell_type": "code",
   "execution_count": 11,
   "metadata": {},
   "outputs": [
    {
     "data": {
      "text/plain": [
       "([204, 207): 'Sir', [226, 229): 'Sir')"
      ]
     },
     "execution_count": 11,
     "metadata": {},
     "output_type": "execute_result"
    }
   ],
   "source": [
    "# Get 2 `Span`s to test equality.\n",
    "sir = tokens[36]\n",
    "other_sir = tokens[40]\n",
    "sir, other_sir"
   ]
  },
  {
   "cell_type": "code",
   "execution_count": 12,
   "metadata": {},
   "outputs": [
    {
     "data": {
      "text/plain": [
       "(False, True)"
      ]
     },
     "execution_count": 12,
     "metadata": {},
     "output_type": "execute_result"
    }
   ],
   "source": [
    "# Equality is determined by text and offset values, not just text.\n",
    "sir == other_sir, \\\n",
    "sir.covered_text == other_sir.covered_text"
   ]
  },
  {
   "cell_type": "code",
   "execution_count": 13,
   "metadata": {},
   "outputs": [
    {
     "data": {
      "text/plain": [
       "True"
      ]
     },
     "execution_count": 13,
     "metadata": {},
     "output_type": "execute_result"
    }
   ],
   "source": [
    "# Only a `Span` from the same target text with matching offsets is equal.\n",
    "sir == tp.Span(text, 204, 207)"
   ]
  },
  {
   "cell_type": "markdown",
   "metadata": {},
   "source": [
    "### TokenSpanArray\n",
    "\n",
    "A `TokenSpanArray` builds on a `SpanArray` with the ability to span text as indices of a `SpanArray` instead of character based offsets. This makes it convenient to use when doing analysis on the token level. Similar to `SpanArray`, a single item in a `TokenSpanArray` is a `TokenSpan`. For an example, let's define a single `TokenSpan` using the target text from above."
   ]
  },
  {
   "cell_type": "code",
   "execution_count": 14,
   "metadata": {},
   "outputs": [
    {
     "data": {
      "text/plain": [
       "[11, 22): 'King Arthur'"
      ]
     },
     "execution_count": 14,
     "metadata": {},
     "output_type": "execute_result"
    }
   ],
   "source": [
    "# Single `TokenSpan` to cover \"King Arthur\" - notice we begin with the third\n",
    "# token and end at the fifth.\n",
    "tp.TokenSpan(tokens, 3, 5)"
   ]
  },
  {
   "cell_type": "code",
   "execution_count": 15,
   "metadata": {},
   "outputs": [
    {
     "data": {
      "text/html": [
       "\n",
       "        <div id=\"spanArray\">\n",
       "            <div id=\"spans\" \n",
       "             style=\"background-color:#F0F0F0; border: 1px solid #E0E0E0; float:left; padding:10px;\">\n",
       "                <table border=\"1\" class=\"dataframe\">\n",
       "  <thead>\n",
       "    <tr style=\"text-align: right;\">\n",
       "      <th></th>\n",
       "      <th>begin</th>\n",
       "      <th>end</th>\n",
       "      <th>begin_token</th>\n",
       "      <th>end_token</th>\n",
       "      <th>covered_text</th>\n",
       "    </tr>\n",
       "  </thead>\n",
       "  <tbody>\n",
       "    <tr>\n",
       "      <th>0</th>\n",
       "      <td>11</td>\n",
       "      <td>22</td>\n",
       "      <td>3</td>\n",
       "      <td>5</td>\n",
       "      <td>King Arthur</td>\n",
       "    </tr>\n",
       "    <tr>\n",
       "      <th>1</th>\n",
       "      <td>39</td>\n",
       "      <td>44</td>\n",
       "      <td>8</td>\n",
       "      <td>9</td>\n",
       "      <td>Patsy</td>\n",
       "    </tr>\n",
       "    <tr>\n",
       "      <th>2</th>\n",
       "      <td>157</td>\n",
       "      <td>178</td>\n",
       "      <td>28</td>\n",
       "      <td>32</td>\n",
       "      <td>Sir Bedevere the Wise</td>\n",
       "    </tr>\n",
       "    <tr>\n",
       "      <th>3</th>\n",
       "      <td>180</td>\n",
       "      <td>202</td>\n",
       "      <td>32</td>\n",
       "      <td>36</td>\n",
       "      <td>Sir Lancelot the Brave</td>\n",
       "    </tr>\n",
       "    <tr>\n",
       "      <th>4</th>\n",
       "      <td>204</td>\n",
       "      <td>224</td>\n",
       "      <td>36</td>\n",
       "      <td>40</td>\n",
       "      <td>Sir Galahad the Pure</td>\n",
       "    </tr>\n",
       "    <tr>\n",
       "      <th>5</th>\n",
       "      <td>226</td>\n",
       "      <td>274</td>\n",
       "      <td>40</td>\n",
       "      <td>44</td>\n",
       "      <td>Sir Robin the Not-Quite-So-Brave-as-Sir-Lancelot</td>\n",
       "    </tr>\n",
       "    <tr>\n",
       "      <th>6</th>\n",
       "      <td>280</td>\n",
       "      <td>310</td>\n",
       "      <td>45</td>\n",
       "      <td>47</td>\n",
       "      <td>Sir Not-Appearing-in-this-Film</td>\n",
       "    </tr>\n",
       "    <tr>\n",
       "      <th>7</th>\n",
       "      <td>341</td>\n",
       "      <td>348</td>\n",
       "      <td>52</td>\n",
       "      <td>53</td>\n",
       "      <td>Robin's</td>\n",
       "    </tr>\n",
       "  </tbody>\n",
       "</table>\n",
       "            </div>\n",
       "            <div id=\"text\"\n",
       "             style=\"float:right; background-color:#F5F5F5; border: 1px solid #E0E0E0; width: 60%;\">\n",
       "                <div style=\"float:center; padding:10px\">\n",
       "                    <p style=\"font-family:monospace\">\n",
       "                        In AD 932, <span style=\"background-color:yellow\">King Arthur</span> and his squire, <span style=\"background-color:yellow\">Patsy</span>, travel throughout Britain searching for men to join the Knights of the Round Table. Along the way, he recruits <span style=\"background-color:yellow\">Sir Bedevere the Wise</span>, <span style=\"background-color:yellow\">Sir Lancelot the Brave</span>, <span style=\"background-color:yellow\">Sir Galahad the Pure</span>, <span style=\"background-color:yellow\">Sir Robin the Not-Quite-So-Brave-as-Sir-Lancelot</span>, and <span style=\"background-color:yellow\">Sir Not-Appearing-in-this-Film</span>, along with their squires and <span style=\"background-color:yellow\">Robin&#39;s</span> troubadours.\n",
       "                    </p>\n",
       "                </div>\n",
       "            </div>\n",
       "        </div>\n",
       "        "
      ],
      "text/plain": [
       "<TokenSpanArray>\n",
       "[                                       [11, 22): 'King Arthur',\n",
       "                                              [39, 44): 'Patsy',\n",
       "                            [157, 178): 'Sir Bedevere the Wise',\n",
       "                           [180, 202): 'Sir Lancelot the Brave',\n",
       "                             [204, 224): 'Sir Galahad the Pure',\n",
       " [226, 274): 'Sir Robin the Not-Quite-So-Brave-as-Sir-Lancelot',\n",
       "                   [280, 310): 'Sir Not-Appearing-in-this-Film',\n",
       "                                          [341, 348): 'Robin's']\n",
       "Length: 8, dtype: TokenSpanDtype"
      ]
     },
     "execution_count": 15,
     "metadata": {},
     "output_type": "execute_result"
    }
   ],
   "source": [
    "# We can also make a `TokenSpanArray` with a list of begin and end offsets of\n",
    "# measured in tokens. Here we make spans of the names within the target text.\n",
    "begin_tokens = [3, 8, 28, 32, 36, 40, 45, 52]\n",
    "end_tokens =   [5, 9, 32, 36, 40, 44, 47, 53]\n",
    "token_spans = tp.TokenSpanArray(tokens, begin_tokens, end_tokens)\n",
    "token_spans"
   ]
  },
  {
   "cell_type": "markdown",
   "metadata": {},
   "source": [
    "### Spanner\n",
    "\n",
    "The `spanner` module of Text Extensions for Pandas provides span-specific operations\n",
    "for Pandas DataFrames, based on the Document Spanners formalism, also known as\n",
    "spanner algebra.\n",
    "\n",
    "Spanner algebra is an extension of relational algebra with additional operations\n",
    "to cover NLP applications. See the paper [\"Document Spanners: A Formal Approach to\n",
    "Information Extraction\"](\n",
    "https://researcher.watson.ibm.com/researcher/files/us-fagin/jacm15.pdf) by Fagin et al.\n",
    "for more information.\n",
    "\n",
    "The available operations in `spanner` include: `consolidate()` to eliminate overlap in a span column, extract matching tokens with `extract_dict()` for dictionary matching or `extract_regex_tok()` for regular expression matching, joining series of spans with `adjacent_join()`, `contain_join()`, or `overlap_join()`, and projection on spans with `lemmatize()`.\n",
    "\n",
    "Here we will show how to extract tokens matching regular expressions and then join the results to a DataFrame."
   ]
  },
  {
   "cell_type": "code",
   "execution_count": 16,
   "metadata": {},
   "outputs": [
    {
     "data": {
      "text/html": [
       "<div>\n",
       "<style scoped>\n",
       "    .dataframe tbody tr th:only-of-type {\n",
       "        vertical-align: middle;\n",
       "    }\n",
       "\n",
       "    .dataframe tbody tr th {\n",
       "        vertical-align: top;\n",
       "    }\n",
       "\n",
       "    .dataframe thead th {\n",
       "        text-align: right;\n",
       "    }\n",
       "</style>\n",
       "<table border=\"1\" class=\"dataframe\">\n",
       "  <thead>\n",
       "    <tr style=\"text-align: right;\">\n",
       "      <th></th>\n",
       "      <th>match</th>\n",
       "    </tr>\n",
       "  </thead>\n",
       "  <tbody>\n",
       "    <tr>\n",
       "      <th>0</th>\n",
       "      <td>[157, 169): 'Sir Bedevere'</td>\n",
       "    </tr>\n",
       "    <tr>\n",
       "      <th>1</th>\n",
       "      <td>[180, 192): 'Sir Lancelot'</td>\n",
       "    </tr>\n",
       "    <tr>\n",
       "      <th>2</th>\n",
       "      <td>[204, 215): 'Sir Galahad'</td>\n",
       "    </tr>\n",
       "    <tr>\n",
       "      <th>3</th>\n",
       "      <td>[226, 235): 'Sir Robin'</td>\n",
       "    </tr>\n",
       "    <tr>\n",
       "      <th>4</th>\n",
       "      <td>[280, 310): 'Sir Not-Appearing-in-this-Film'</td>\n",
       "    </tr>\n",
       "  </tbody>\n",
       "</table>\n",
       "</div>"
      ],
      "text/plain": [
       "                                          match\n",
       "0                    [157, 169): 'Sir Bedevere'\n",
       "1                    [180, 192): 'Sir Lancelot'\n",
       "2                     [204, 215): 'Sir Galahad'\n",
       "3                       [226, 235): 'Sir Robin'\n",
       "4  [280, 310): 'Sir Not-Appearing-in-this-Film'"
      ]
     },
     "execution_count": 16,
     "metadata": {},
     "output_type": "execute_result"
    }
   ],
   "source": [
    "# Extract tokens using a regular expression, here we find all the knights.\n",
    "knights = tp.spanner.extract_regex_tok(tokens, regex.compile(r\"Sir.\\S+\"), max_len=2)\n",
    "knights"
   ]
  },
  {
   "cell_type": "code",
   "execution_count": 17,
   "metadata": {},
   "outputs": [
    {
     "data": {
      "text/html": [
       "<div>\n",
       "<style scoped>\n",
       "    .dataframe tbody tr th:only-of-type {\n",
       "        vertical-align: middle;\n",
       "    }\n",
       "\n",
       "    .dataframe tbody tr th {\n",
       "        vertical-align: top;\n",
       "    }\n",
       "\n",
       "    .dataframe thead th {\n",
       "        text-align: right;\n",
       "    }\n",
       "</style>\n",
       "<table border=\"1\" class=\"dataframe\">\n",
       "  <thead>\n",
       "    <tr style=\"text-align: right;\">\n",
       "      <th></th>\n",
       "      <th>match</th>\n",
       "    </tr>\n",
       "  </thead>\n",
       "  <tbody>\n",
       "    <tr>\n",
       "      <th>0</th>\n",
       "      <td>[323, 328): 'their'</td>\n",
       "    </tr>\n",
       "    <tr>\n",
       "      <th>0</th>\n",
       "      <td>[98, 109): 'the Knights'</td>\n",
       "    </tr>\n",
       "    <tr>\n",
       "      <th>1</th>\n",
       "      <td>[113, 122): 'the Round'</td>\n",
       "    </tr>\n",
       "    <tr>\n",
       "      <th>2</th>\n",
       "      <td>[136, 143): 'the way'</td>\n",
       "    </tr>\n",
       "    <tr>\n",
       "      <th>3</th>\n",
       "      <td>[170, 178): 'the Wise'</td>\n",
       "    </tr>\n",
       "    <tr>\n",
       "      <th>4</th>\n",
       "      <td>[193, 202): 'the Brave'</td>\n",
       "    </tr>\n",
       "    <tr>\n",
       "      <th>5</th>\n",
       "      <td>[216, 224): 'the Pure'</td>\n",
       "    </tr>\n",
       "    <tr>\n",
       "      <th>6</th>\n",
       "      <td>[236, 274): 'the Not-Quite-So-Brave-as-Sir-Lan...</td>\n",
       "    </tr>\n",
       "  </tbody>\n",
       "</table>\n",
       "</div>"
      ],
      "text/plain": [
       "                                               match\n",
       "0                                [323, 328): 'their'\n",
       "0                           [98, 109): 'the Knights'\n",
       "1                            [113, 122): 'the Round'\n",
       "2                              [136, 143): 'the way'\n",
       "3                             [170, 178): 'the Wise'\n",
       "4                            [193, 202): 'the Brave'\n",
       "5                             [216, 224): 'the Pure'\n",
       "6  [236, 274): 'the Not-Quite-So-Brave-as-Sir-Lan..."
      ]
     },
     "execution_count": 17,
     "metadata": {},
     "output_type": "execute_result"
    }
   ],
   "source": [
    "# Try to find all knight's virtues, not as easy and end up with other spans. \n",
    "virtues = tp.spanner.extract_regex_tok(tokens, regex.compile(r\"the.\\S+\"), max_len=2)\n",
    "virtues"
   ]
  },
  {
   "cell_type": "code",
   "execution_count": 18,
   "metadata": {},
   "outputs": [
    {
     "data": {
      "text/html": [
       "<div>\n",
       "<style scoped>\n",
       "    .dataframe tbody tr th:only-of-type {\n",
       "        vertical-align: middle;\n",
       "    }\n",
       "\n",
       "    .dataframe tbody tr th {\n",
       "        vertical-align: top;\n",
       "    }\n",
       "\n",
       "    .dataframe thead th {\n",
       "        text-align: right;\n",
       "    }\n",
       "</style>\n",
       "<table border=\"1\" class=\"dataframe\">\n",
       "  <thead>\n",
       "    <tr style=\"text-align: right;\">\n",
       "      <th></th>\n",
       "      <th>knight</th>\n",
       "      <th>virtue</th>\n",
       "    </tr>\n",
       "  </thead>\n",
       "  <tbody>\n",
       "    <tr>\n",
       "      <th>0</th>\n",
       "      <td>[157, 169): 'Sir Bedevere'</td>\n",
       "      <td>[170, 178): 'the Wise'</td>\n",
       "    </tr>\n",
       "    <tr>\n",
       "      <th>1</th>\n",
       "      <td>[180, 192): 'Sir Lancelot'</td>\n",
       "      <td>[193, 202): 'the Brave'</td>\n",
       "    </tr>\n",
       "    <tr>\n",
       "      <th>2</th>\n",
       "      <td>[204, 215): 'Sir Galahad'</td>\n",
       "      <td>[216, 224): 'the Pure'</td>\n",
       "    </tr>\n",
       "    <tr>\n",
       "      <th>3</th>\n",
       "      <td>[226, 235): 'Sir Robin'</td>\n",
       "      <td>[236, 274): 'the Not-Quite-So-Brave-as-Sir-Lan...</td>\n",
       "    </tr>\n",
       "  </tbody>\n",
       "</table>\n",
       "</div>"
      ],
      "text/plain": [
       "                       knight  \\\n",
       "0  [157, 169): 'Sir Bedevere'   \n",
       "1  [180, 192): 'Sir Lancelot'   \n",
       "2   [204, 215): 'Sir Galahad'   \n",
       "3     [226, 235): 'Sir Robin'   \n",
       "\n",
       "                                              virtue  \n",
       "0                             [170, 178): 'the Wise'  \n",
       "1                            [193, 202): 'the Brave'  \n",
       "2                             [216, 224): 'the Pure'  \n",
       "3  [236, 274): 'the Not-Quite-So-Brave-as-Sir-Lan...  "
      ]
     },
     "execution_count": 18,
     "metadata": {},
     "output_type": "execute_result"
    }
   ],
   "source": [
    "# Calling `tp.spanner.adjacent_join()` will join two span columns, where a pair\n",
    "# of spans match if they are adjacent in the text.\n",
    "\n",
    "# Now, easily join the 2 results and match each knight to their virtue.\n",
    "tp.spanner.adjacent_join(knights[\"match\"], virtues[\"match\"], first_name=\"knight\", second_name=\"virtue\")"
   ]
  },
  {
   "cell_type": "markdown",
   "metadata": {},
   "source": [
    "### TensorArray\n",
    "\n",
    "A `TensorArray` represents an array of [tensors](https://en.wikipedia.org/wiki/Tensor#As_multidimensional_arrays) where each element is an N-dimensional tensor of the same shape. If there are M tensor elements in the array, then the entire `TensorArray` will have a shape of M x N, where the outer dimension is the number of elements. Backing the `TensorArray` is a [numpy.ndarray](https://numpy.org/doc/stable/reference/generated/numpy.ndarray.html) with shape M x N. Tensors, or numpy.ndarrays, are often used as feature vectors for machine learning model training and inference results. In Text Extensions for Pandas, they are used to store BERT embeddings from `io.bert.add_embeddings()` that can then be used to train a NLU model.\n",
    "\n",
    "`TensorArray`s can be constructed with zero copy from a single `numpy.ndarray` or with a sequence of elements of similar shape. Conversion of a `TensorArray` to a `numpy.ndarray` can be done with zero copy by calling `TensorArray.to_numpy()` or using the provided numpy array interface, e.g. `numpy.asarray(TensorArray(...))`. The `TensorArray` is a Pandas extension type of type `TensorType` and can be wrapped in a `pandas.Series` or used as a column in a `pandas.DataFrame` and used in standard Pandas operations. A `NULL` or missing value in the `TensorArray` is represented as a N-dimensional `numpy.ndarray` where all items are `numpy.nan`. Standard arithmetic and comparison operations are supported and delegated to the backing `numpy.ndarray`. Taking a slice or multiple item selection will produce another `TensorArray`, while a single element selection will produce a `TensorElement` that also wraps a view of the `numpy.ndarray`, with similar operator support."
   ]
  },
  {
   "cell_type": "code",
   "execution_count": 19,
   "metadata": {},
   "outputs": [
    {
     "data": {
      "text/plain": [
       "(array([[0, 1],\n",
       "        [2, 3],\n",
       "        [4, 5],\n",
       "        [6, 7],\n",
       "        [8, 9]]),\n",
       " <text_extensions_for_pandas.array.tensor.TensorDtype at 0x7f1f1cb8b9d0>)"
      ]
     },
     "execution_count": 19,
     "metadata": {},
     "output_type": "execute_result"
    }
   ],
   "source": [
    "# Construct from a numpy.ndarray.\n",
    "arr = tp.TensorArray(np.arange(10).reshape(5, 2))\n",
    "arr, arr.dtype"
   ]
  },
  {
   "cell_type": "code",
   "execution_count": 20,
   "metadata": {},
   "outputs": [
    {
     "data": {
      "text/plain": [
       "0   [0 1]\n",
       "1   [2 3]\n",
       "2   [4 5]\n",
       "3   [6 7]\n",
       "4   [8 9]\n",
       "dtype: TensorDtype"
      ]
     },
     "execution_count": 20,
     "metadata": {},
     "output_type": "execute_result"
    }
   ],
   "source": [
    "# Wrap in a Pandas Series.\n",
    "s = pd.Series(arr)\n",
    "s"
   ]
  },
  {
   "cell_type": "code",
   "execution_count": 21,
   "metadata": {},
   "outputs": [
    {
     "data": {
      "text/plain": [
       "(array([[0, 1],\n",
       "        [2, 3],\n",
       "        [4, 5],\n",
       "        [6, 7],\n",
       "        [8, 9]]),\n",
       " dtype('int64'))"
      ]
     },
     "execution_count": 21,
     "metadata": {},
     "output_type": "execute_result"
    }
   ],
   "source": [
    "# Convert back to numpy using the provided array interface.\n",
    "np_arr = np.asarray(s)\n",
    "np_arr, np_arr.dtype"
   ]
  },
  {
   "cell_type": "code",
   "execution_count": 22,
   "metadata": {},
   "outputs": [
    {
     "data": {
      "text/plain": [
       "0    [False False]\n",
       "1    [False False]\n",
       "2    [False  True]\n",
       "3    [ True  True]\n",
       "4    [ True  True]\n",
       "dtype: TensorDtype"
      ]
     },
     "execution_count": 22,
     "metadata": {},
     "output_type": "execute_result"
    }
   ],
   "source": [
    "# Apply operations on the Series, result is another Series of type TensorType.\n",
    "thresh = s > 4\n",
    "thresh"
   ]
  },
  {
   "cell_type": "code",
   "execution_count": 23,
   "metadata": {},
   "outputs": [
    {
     "data": {
      "text/plain": [
       "3   [12 14]\n",
       "4   [16 18]\n",
       "dtype: TensorDtype"
      ]
     },
     "execution_count": 23,
     "metadata": {},
     "output_type": "execute_result"
    }
   ],
   "source": [
    "# Select items using a mix of numpy and pandas, use `.array` to get the Series\n",
    "# as a `TensorArray` which can be used on numpy operations.\n",
    "s[np.all(thresh.array, axis=1)] * 2"
   ]
  },
  {
   "cell_type": "code",
   "execution_count": 24,
   "metadata": {},
   "outputs": [
    {
     "data": {
      "text/html": [
       "<div>\n",
       "<style scoped>\n",
       "    .dataframe tbody tr th:only-of-type {\n",
       "        vertical-align: middle;\n",
       "    }\n",
       "\n",
       "    .dataframe tbody tr th {\n",
       "        vertical-align: top;\n",
       "    }\n",
       "\n",
       "    .dataframe thead th {\n",
       "        text-align: right;\n",
       "    }\n",
       "</style>\n",
       "<table border=\"1\" class=\"dataframe\">\n",
       "  <thead>\n",
       "    <tr style=\"text-align: right;\">\n",
       "      <th></th>\n",
       "      <th>time</th>\n",
       "      <th>features</th>\n",
       "    </tr>\n",
       "  </thead>\n",
       "  <tbody>\n",
       "    <tr>\n",
       "      <th>0</th>\n",
       "      <td>2018-01-01 00:00:00</td>\n",
       "      <td>[0 1]</td>\n",
       "    </tr>\n",
       "    <tr>\n",
       "      <th>1</th>\n",
       "      <td>2018-01-01 01:00:00</td>\n",
       "      <td>[2 3]</td>\n",
       "    </tr>\n",
       "    <tr>\n",
       "      <th>2</th>\n",
       "      <td>2018-01-01 02:00:00</td>\n",
       "      <td>[4 5]</td>\n",
       "    </tr>\n",
       "    <tr>\n",
       "      <th>3</th>\n",
       "      <td>2018-01-01 03:00:00</td>\n",
       "      <td>[6 7]</td>\n",
       "    </tr>\n",
       "    <tr>\n",
       "      <th>4</th>\n",
       "      <td>2018-01-01 04:00:00</td>\n",
       "      <td>[8 9]</td>\n",
       "    </tr>\n",
       "  </tbody>\n",
       "</table>\n",
       "</div>"
      ],
      "text/plain": [
       "                 time features\n",
       "0 2018-01-01 00:00:00    [0 1]\n",
       "1 2018-01-01 01:00:00    [2 3]\n",
       "2 2018-01-01 02:00:00    [4 5]\n",
       "3 2018-01-01 03:00:00    [6 7]\n",
       "4 2018-01-01 04:00:00    [8 9]"
      ]
     },
     "execution_count": 24,
     "metadata": {},
     "output_type": "execute_result"
    }
   ],
   "source": [
    "# TensorArray can also be added to a Pandas DataFrame.\n",
    "df = pd.DataFrame({\"time\": pd.date_range('2018-01-01', periods=5, freq='H'), \"features\": arr})\n",
    "df"
   ]
  },
  {
   "cell_type": "code",
   "execution_count": 25,
   "metadata": {},
   "outputs": [
    {
     "data": {
      "text/html": [
       "<div>\n",
       "<style scoped>\n",
       "    .dataframe tbody tr th:only-of-type {\n",
       "        vertical-align: middle;\n",
       "    }\n",
       "\n",
       "    .dataframe tbody tr th {\n",
       "        vertical-align: top;\n",
       "    }\n",
       "\n",
       "    .dataframe thead th {\n",
       "        text-align: right;\n",
       "    }\n",
       "</style>\n",
       "<table border=\"1\" class=\"dataframe\">\n",
       "  <thead>\n",
       "    <tr style=\"text-align: right;\">\n",
       "      <th></th>\n",
       "      <th>time</th>\n",
       "      <th>features</th>\n",
       "    </tr>\n",
       "  </thead>\n",
       "  <tbody>\n",
       "    <tr>\n",
       "      <th>4</th>\n",
       "      <td>2018-01-01 04:00:00</td>\n",
       "      <td>[8 9]</td>\n",
       "    </tr>\n",
       "    <tr>\n",
       "      <th>3</th>\n",
       "      <td>2018-01-01 03:00:00</td>\n",
       "      <td>[6 7]</td>\n",
       "    </tr>\n",
       "    <tr>\n",
       "      <th>2</th>\n",
       "      <td>2018-01-01 02:00:00</td>\n",
       "      <td>[4 5]</td>\n",
       "    </tr>\n",
       "    <tr>\n",
       "      <th>1</th>\n",
       "      <td>2018-01-01 01:00:00</td>\n",
       "      <td>[2 3]</td>\n",
       "    </tr>\n",
       "    <tr>\n",
       "      <th>0</th>\n",
       "      <td>2018-01-01 00:00:00</td>\n",
       "      <td>[0 1]</td>\n",
       "    </tr>\n",
       "  </tbody>\n",
       "</table>\n",
       "</div>"
      ],
      "text/plain": [
       "                 time features\n",
       "4 2018-01-01 04:00:00    [8 9]\n",
       "3 2018-01-01 03:00:00    [6 7]\n",
       "2 2018-01-01 02:00:00    [4 5]\n",
       "1 2018-01-01 01:00:00    [2 3]\n",
       "0 2018-01-01 00:00:00    [0 1]"
      ]
     },
     "execution_count": 25,
     "metadata": {},
     "output_type": "execute_result"
    }
   ],
   "source": [
    "# TensorArray supports many of the standard DataFrame operations.\n",
    "df.sort_values(by=\"time\", ascending=False)"
   ]
  },
  {
   "cell_type": "markdown",
   "metadata": {},
   "source": [
    "### Saving Pandas Extension Arrays to Disk\n",
    "\n",
    "Pandas supports several built-in I/O formats, but currently the only supported format for saving DataFrames with Text Extensions for Pandas arrays to disk is with [Feather](https://arrow.apache.org/docs/python/feather.html) files. Text Extensions for Pandas arrays can also be converted to Apache Arrow format, see https://arrow.apache.org/docs/python/pandas.html#dataframes for more information."
   ]
  },
  {
   "cell_type": "code",
   "execution_count": 26,
   "metadata": {},
   "outputs": [],
   "source": [
    "# Dummy function to create some features.\n",
    "def hasher(span, num_features=4):\n",
    "    arr = np.zeros(num_features, dtype=\"int8\")\n",
    "    arr[hash(span.covered_text) % 4] = 1\n",
    "    return arr"
   ]
  },
  {
   "cell_type": "code",
   "execution_count": 27,
   "metadata": {},
   "outputs": [
    {
     "data": {
      "text/plain": [
       "(54, 4)"
      ]
     },
     "execution_count": 27,
     "metadata": {},
     "output_type": "execute_result"
    }
   ],
   "source": [
    "# Create our feature vector.\n",
    "features = tp.TensorArray([hasher(span) for span in tokens])\n",
    "features.to_numpy().shape"
   ]
  },
  {
   "cell_type": "code",
   "execution_count": 28,
   "metadata": {},
   "outputs": [
    {
     "data": {
      "text/html": [
       "<div>\n",
       "<style scoped>\n",
       "    .dataframe tbody tr th:only-of-type {\n",
       "        vertical-align: middle;\n",
       "    }\n",
       "\n",
       "    .dataframe tbody tr th {\n",
       "        vertical-align: top;\n",
       "    }\n",
       "\n",
       "    .dataframe thead th {\n",
       "        text-align: right;\n",
       "    }\n",
       "</style>\n",
       "<table border=\"1\" class=\"dataframe\">\n",
       "  <thead>\n",
       "    <tr style=\"text-align: right;\">\n",
       "      <th></th>\n",
       "      <th>span</th>\n",
       "      <th>features</th>\n",
       "    </tr>\n",
       "  </thead>\n",
       "  <tbody>\n",
       "    <tr>\n",
       "      <th>0</th>\n",
       "      <td>[0, 2): 'In'</td>\n",
       "      <td>[0 1 0 0]</td>\n",
       "    </tr>\n",
       "    <tr>\n",
       "      <th>1</th>\n",
       "      <td>[3, 5): 'AD'</td>\n",
       "      <td>[0 0 0 1]</td>\n",
       "    </tr>\n",
       "    <tr>\n",
       "      <th>2</th>\n",
       "      <td>[6, 9): '932'</td>\n",
       "      <td>[0 1 0 0]</td>\n",
       "    </tr>\n",
       "    <tr>\n",
       "      <th>3</th>\n",
       "      <td>[11, 15): 'King'</td>\n",
       "      <td>[0 0 0 1]</td>\n",
       "    </tr>\n",
       "    <tr>\n",
       "      <th>4</th>\n",
       "      <td>[16, 22): 'Arthur'</td>\n",
       "      <td>[0 1 0 0]</td>\n",
       "    </tr>\n",
       "  </tbody>\n",
       "</table>\n",
       "</div>"
      ],
      "text/plain": [
       "                 span  features\n",
       "0        [0, 2): 'In' [0 1 0 0]\n",
       "1        [3, 5): 'AD' [0 0 0 1]\n",
       "2       [6, 9): '932' [0 1 0 0]\n",
       "3    [11, 15): 'King' [0 0 0 1]\n",
       "4  [16, 22): 'Arthur' [0 1 0 0]"
      ]
     },
     "execution_count": 28,
     "metadata": {},
     "output_type": "execute_result"
    }
   ],
   "source": [
    "# Add tokens and features to a DataFrame.\n",
    "df = pd.DataFrame({\"span\": tokens, \"features\": features})\n",
    "df.head()"
   ]
  },
  {
   "cell_type": "code",
   "execution_count": 29,
   "metadata": {},
   "outputs": [],
   "source": [
    "# Save DataFrame to a feather file.\n",
    "# Feather is a lightweight, fast binary columnar format, with basic\n",
    "# compression and support built into Pandas.\n",
    "df.to_feather(\"outputs/tp_overview.feather\")"
   ]
  },
  {
   "cell_type": "code",
   "execution_count": 30,
   "metadata": {},
   "outputs": [
    {
     "data": {
      "text/html": [
       "<div>\n",
       "<style scoped>\n",
       "    .dataframe tbody tr th:only-of-type {\n",
       "        vertical-align: middle;\n",
       "    }\n",
       "\n",
       "    .dataframe tbody tr th {\n",
       "        vertical-align: top;\n",
       "    }\n",
       "\n",
       "    .dataframe thead th {\n",
       "        text-align: right;\n",
       "    }\n",
       "</style>\n",
       "<table border=\"1\" class=\"dataframe\">\n",
       "  <thead>\n",
       "    <tr style=\"text-align: right;\">\n",
       "      <th></th>\n",
       "      <th>span</th>\n",
       "      <th>features</th>\n",
       "    </tr>\n",
       "  </thead>\n",
       "  <tbody>\n",
       "    <tr>\n",
       "      <th>0</th>\n",
       "      <td>[0, 2): 'In'</td>\n",
       "      <td>[0 1 0 0]</td>\n",
       "    </tr>\n",
       "    <tr>\n",
       "      <th>1</th>\n",
       "      <td>[3, 5): 'AD'</td>\n",
       "      <td>[0 0 0 1]</td>\n",
       "    </tr>\n",
       "    <tr>\n",
       "      <th>2</th>\n",
       "      <td>[6, 9): '932'</td>\n",
       "      <td>[0 1 0 0]</td>\n",
       "    </tr>\n",
       "    <tr>\n",
       "      <th>3</th>\n",
       "      <td>[11, 15): 'King'</td>\n",
       "      <td>[0 0 0 1]</td>\n",
       "    </tr>\n",
       "    <tr>\n",
       "      <th>4</th>\n",
       "      <td>[16, 22): 'Arthur'</td>\n",
       "      <td>[0 1 0 0]</td>\n",
       "    </tr>\n",
       "  </tbody>\n",
       "</table>\n",
       "</div>"
      ],
      "text/plain": [
       "                 span  features\n",
       "0        [0, 2): 'In' [0 1 0 0]\n",
       "1        [3, 5): 'AD' [0 0 0 1]\n",
       "2       [6, 9): '932' [0 1 0 0]\n",
       "3    [11, 15): 'King' [0 0 0 1]\n",
       "4  [16, 22): 'Arthur' [0 1 0 0]"
      ]
     },
     "execution_count": 30,
     "metadata": {},
     "output_type": "execute_result"
    }
   ],
   "source": [
    "# Read the file back into a new DataFrame.\n",
    "df_load = pd.read_feather(\"outputs/tp_overview.feather\")\n",
    "df_load.head()"
   ]
  },
  {
   "cell_type": "markdown",
   "metadata": {},
   "source": [
    "## NLP Library Input/Output Integration\n",
    "\n",
    "Text Extensions for Pandas also provides integration with other NLP libraries and datasets. It takes care of processing the inputs and outputs using Pandas DataFrame as a standard data structure and automatically producing the above extension arrays where applicable. Below is an overview of what each module provides along with more notebooks with example usage.\n",
    "\n",
    "### Watson\n",
    "\n",
    "The `io.watson` sub-package provides functions to process and help analyze responses the IBM Waton Cloud service APIs.\n",
    "\n",
    "In the module `io.watson.nlu` you can use Watson Natural Language Understanding to analyze text and then process the response into Pandas DataFrames containing `SpanArray`s for tokens, sentences and relations. See [getting started on Watson NLU](https://cloud.ibm.com/docs/natural-language-understanding?topic=natural-language-understanding-getting-started) for setting up the Watson NLU Cloud Service, and the notebook [Analyze_Text](./Analyze_Text.ipynb) for in-depth examples of using the `io.watson.nlu` module.\n",
    "\n",
    "In the module `io.watson.table` you can use Watson Discovery to extract and analyze tables within documents and web pages, and then process the response into Pandas DataFrames that make it easy to reconstruct and work with the extracted tables. See [Waston Discovery Installation](https://cloud.ibm.com/docs/discovery-data?topic=discovery-data-install) and [IBM Cloud Pak for Data](https://www.ibm.com/products/cloud-pak-for-data) for getting started with Watson Discovery, and the notebook [Understand_Tables](./Understand_Tables.ipynb) for an in-depth example of using the `watson.table` module.\n",
    "\n",
    "### SpaCy\n",
    "\n",
    "The `io.spacy` module contains functions to integrate with the popular NLP library [SpaCy](https://spacy.io/). This allows you to use a [SpaCy tokenizer](https://spacy.io/usage/spacy-101#annotations-token) on text and return the tokens as a `SpanArray` in a Pandas DataFrame with `io.spacy.make_tokens()` or with additional token features with `io.spacy.make_tokens_and_features()`. See the notebook [Integrate_NLP_Libraries](./Integrate_NLP_Libraries.ipynb) for more examples with the `io.spacy` module.\n",
    "\n",
    "### BERT\n",
    "\n",
    "The BERT model is originally from the paper [BERT: Pre-training of Deep Bidirectional Transformers for Language Understanding](https://arxiv.org/abs/1810.04805) by Jacob Devlin, Ming-Wei Chang, Kenton Lee, Kristina Toutanova. The model is pre-trained with masked language modeling and next sentence prediction objectives, which make it effective for masked token prediction and NLU.\n",
    "\n",
    "Text Extension for Pandas integrates with the [Huggingface Transformers](https://huggingface.co/transformers/index.html) library to process the result of BERT tokenization into a Pandas DataFrame with tokens as a`SpanArray` column and compute BERT embbeddings that can also be added to a DataFrame as a `TensorArray`. The embeddings can be used for model training in your NLP application. See the notebook [Model_Training_with_BERT](./Model_Training_with_BERT.ipynb) for an example of tokenizing text with BERT and computing embeddings for model training/scoring.\n",
    "\n",
    "### CoNLL\n",
    "\n",
    "[CoNLL](https://www.conll.org/), the SIGNLL Conference on Computational Natural Language Learning, is an annual academic conference for natural language processing researchers. Each year's conference features a competition involving a challenging NLP task. The task for the 2003 competition involved identifying mentions of [named entities](https://en.wikipedia.org/wiki/Named-entity_recognition) in English and German news articles from the late 1990's. The corpus for this 2003 competition is one of the most widely-used benchmarks for the performance of named entity recognition models.\n",
    "\n",
    "Text Extensions for Pandas contains the module `io.conll` that can help work with an analyze the CoNLL-2003 corpus. The provided functions can help convert between the [IOB2 format](https://en.wikipedia.org/wiki/Inside%E2%80%93outside%E2%80%93beginning_(tagging)) used in the corpus, and `SpanArray` with entity type for easier analysis. See the notebooks [Analyze_Model_Outputs](./Analyze_Model_Outputs.ipynb) for an in-depth analysis of the corpus and the 2003 competition results, and [Model_Training_with_BERT](./Model_Training_with_BERT.ipynb) for using the corpus to train a named entity recognition (NER) model."
   ]
  }
 ],
 "metadata": {
  "kernelspec": {
   "display_name": "Python [conda env:pdext-dev] *",
   "language": "python",
   "name": "conda-env-pdext-dev-py"
  },
  "language_info": {
   "codemirror_mode": {
    "name": "ipython",
    "version": 3
   },
   "file_extension": ".py",
   "mimetype": "text/x-python",
   "name": "python",
   "nbconvert_exporter": "python",
   "pygments_lexer": "ipython3",
   "version": "3.7.7"
  }
 },
 "nbformat": 4,
 "nbformat_minor": 4
}
