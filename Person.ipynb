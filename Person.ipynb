{
 "cells": [
  {
   "cell_type": "code",
   "execution_count": null,
   "metadata": {},
   "outputs": [],
   "source": [
    "# Dependencies go in this cell.\n",
    "# The script env.sh in this directory should create an Anaconda environment with\n",
    "# all these dependencies installed\n",
    "\n",
    "# Python built-in packages\n",
    "import functools\n",
    "import importlib\n",
    "from typing import *\n",
    "\n",
    "# Libraries\n",
    "import numpy as np\n",
    "import pandas as pd\n",
    "import regex\n",
    "import spacy\n",
    "from spacy.tokenizer import Tokenizer\n",
    "from spacy.lang.en import English\n",
    "\n",
    "# TEMPORARY until we can use Python 3.8 functools' built-in memoized property\n",
    "from memoized_property import memoized_property\n",
    "\n",
    "# [re]import our local library code\n",
    "import pandas_text as pt\n",
    "importlib.reload(pt)"
   ]
  },
  {
   "cell_type": "code",
   "execution_count": null,
   "metadata": {},
   "outputs": [],
   "source": [
    "#TEST_DOC_FILE = \"resources/example_doc.txt\"\n",
    "TEST_DOC_FILE = \"resources/short_example_doc.txt\"\n",
    "\n",
    "with open (TEST_DOC_FILE, \"r\") as f:\n",
    "    TEST_TEXT = f.read()\n"
   ]
  },
  {
   "cell_type": "code",
   "execution_count": null,
   "metadata": {},
   "outputs": [],
   "source": [
    "class Resources:\n",
    "    \"\"\"\n",
    "    Data structures that are loaded once, as opposed to recreated on\n",
    "    every document.\n",
    "    \n",
    "    This category includes tokenizers, dictionaries, and compiled regexes.\n",
    "    \n",
    "    Everything in this class is a cached property\n",
    "    \"\"\"\n",
    "    \n",
    "    def preload_all(self):\n",
    "        \"\"\"\n",
    "        Preload all cached values in this class so it won't be necessary to \n",
    "        load them lazily later on.\n",
    "        \"\"\"\n",
    "        for name in dir(self):\n",
    "            if name[0].isupper():\n",
    "                getattr(self, name)\n",
    "    \n",
    "    @memoized_property\n",
    "    def Tokenizer(self):\n",
    "        nlp = spacy.lang.en.English()\n",
    "        return nlp.Defaults.create_tokenizer(nlp)\n",
    "    \n",
    "    \n",
    "    ############################\n",
    "    # DICTIONARIES\n",
    "    \n",
    "    @memoized_property\n",
    "    def GlobalFirstNameDict(self):\n",
    "        # Use the \"pre-compiled\" Parquet version of the dictionary\n",
    "        #return pt.load_dict(\"resources/first_name.dict\", self.Tokenizer)\n",
    "        return pd.read_parquet(\"resources/first_name.dict.parquet\")\n",
    "    \n",
    "    @memoized_property\n",
    "    def GlobalLastNameDict(self):\n",
    "        # Use the \"pre-compiled\" Parquet version of the dictionary\n",
    "        #return pt.load_dict(\"resources/last_name.dict\", self.Tokenizer)\n",
    "        return pd.read_parquet(\"resources/last_name.dict.parquet\")\n",
    "    \n",
    "    ############################\n",
    "    # REGEXES\n",
    "    \n",
    "    @memoized_property\n",
    "    def CapsWordRegex(self):\n",
    "        return regex.compile(\"[A-Z][a-z]*\")\n",
    "    \n",
    "\n",
    "class Document:\n",
    "    \"\"\"\n",
    "    Rules that define the fields of the current document.\n",
    "    \n",
    "    In this case the document is a single string.\n",
    "    \"\"\"\n",
    "    def __init__(self, doc_text: str, resources: Resources):\n",
    "        self._text = doc_text\n",
    "        self._resources = resources\n",
    "        \n",
    "    @property\n",
    "    def Text(self):\n",
    "        return self._text\n",
    "    \n",
    "    @memoized_property\n",
    "    def Tokens(self):\n",
    "        return pt.make_tokens(self.Text, self._resources.Tokenizer)"
   ]
  },
  {
   "cell_type": "code",
   "execution_count": null,
   "metadata": {},
   "outputs": [],
   "source": [
    "class Dictionaries:\n",
    "    \"\"\"\n",
    "    Rules that evaluate dictionaries against the document's raw tokens.\n",
    "    \"\"\"\n",
    "    def __init__(self, d: Document, resources: Resources):\n",
    "        self._d = d\n",
    "        self._resources = resources\n",
    "    \n",
    "    @memoized_property\n",
    "    def GlobalFirstName(self):\n",
    "        return pt.extract_dict(self._d.Tokens, self._resources.GlobalFirstNameDict)\n",
    "    \n",
    "    @memoized_property\n",
    "    def GlobalLastName(self):\n",
    "        return pt.extract_dict(self._d.Tokens, self._resources.GlobalLastNameDict)\n",
    "\n",
    "class Regexes:\n",
    "    \"\"\"\n",
    "    Rules that evaluate regular expressions against the document's raw tokens.\n",
    "    \"\"\"\n",
    "    def __init__(self, d: Document, resources: Resources):\n",
    "        self._d = d\n",
    "        self._resources = resources\n",
    "    \n",
    "    @property\n",
    "    def CapsWord(self):\n",
    "        \"\"\"\n",
    "        A single token that starts with a capital letter, with subsequent letters not\n",
    "        capitalized.\n",
    "        \"\"\"\n",
    "        return pt.extract_regex_tok(\n",
    "            tokens = self._d.Tokens,\n",
    "            compiled_regex = self._resources.CapsWordRegex)\n",
    "    \n"
   ]
  },
  {
   "cell_type": "code",
   "execution_count": null,
   "metadata": {},
   "outputs": [],
   "source": [
    "class PersonName:\n",
    "    \"\"\"\n",
    "    Rules that extract potential person name entities.\n",
    "    \"\"\"\n",
    "    def __init__(self, doc: Document, dicts: Dictionaries, regexes: Regexes):\n",
    "        self._doc = doc\n",
    "        self._dicts = dicts\n",
    "        self._regexes = regexes\n",
    "    \n",
    "    @property\n",
    "    def Person1(self):\n",
    "        \"\"\"\n",
    "        <match of GlobalFirstName dict> <match of GlobalLastName dict>\n",
    "        \"\"\"\n",
    "        first = self._dicts.GlobalFirstName\n",
    "        last = self._dicts.GlobalLastName\n",
    "        ret = pt.adjacent_join(\n",
    "            first_series = first[\"matches\"],\n",
    "            second_series = last[\"matches\"],\n",
    "            first_name = \"first_name\",\n",
    "            second_name = \"last_name\",\n",
    "            min_gap = 0,\n",
    "            max_gap = 0)\n",
    "        ret[\"name\"] = pt.combine_spans(ret[\"first_name\"], ret[\"last_name\"])\n",
    "        return ret\n",
    "    \n",
    "    @property\n",
    "    def Person2(self):\n",
    "        \"\"\"\n",
    "        <match of GlobalFirstName dict> <capitalized word>\n",
    "        \"\"\"\n",
    "        first = self._dicts.GlobalFirstName\n",
    "        last = self._regexes.CapsWord\n",
    "        ret = pt.adjacent_join(\n",
    "            first_series = first[\"matches\"],\n",
    "            second_series = last[\"matches\"],\n",
    "            first_name = \"first_name\",\n",
    "            second_name = \"last_name\",\n",
    "            min_gap = 0,\n",
    "            max_gap = 0)\n",
    "        ret[\"name\"] = pt.combine_spans(ret[\"first_name\"], ret[\"last_name\"])\n",
    "        return ret\n",
    "\n"
   ]
  },
  {
   "cell_type": "code",
   "execution_count": null,
   "metadata": {},
   "outputs": [],
   "source": [
    "resources = Resources()\n",
    "resources.preload_all()"
   ]
  },
  {
   "cell_type": "code",
   "execution_count": null,
   "metadata": {},
   "outputs": [],
   "source": [
    "doc = Document(TEST_TEXT, resources)\n",
    "dicts = Dictionaries(doc, resources)\n",
    "regexes = Regexes(doc, resources)\n",
    "persons = PersonName(doc, dicts, regexes)"
   ]
  },
  {
   "cell_type": "code",
   "execution_count": null,
   "metadata": {},
   "outputs": [],
   "source": [
    "persons.Person1"
   ]
  },
  {
   "cell_type": "code",
   "execution_count": null,
   "metadata": {},
   "outputs": [],
   "source": [
    "persons.Person1[\"name\"].values"
   ]
  },
  {
   "cell_type": "code",
   "execution_count": null,
   "metadata": {},
   "outputs": [],
   "source": [
    "regexes.CapsWord"
   ]
  },
  {
   "cell_type": "code",
   "execution_count": null,
   "metadata": {},
   "outputs": [],
   "source": [
    "dicts.GlobalFirstName"
   ]
  },
  {
   "cell_type": "code",
   "execution_count": null,
   "metadata": {},
   "outputs": [],
   "source": [
    "dicts.GlobalFirstName[\"matches\"].values"
   ]
  },
  {
   "cell_type": "code",
   "execution_count": null,
   "metadata": {},
   "outputs": [],
   "source": []
  },
  {
   "cell_type": "code",
   "execution_count": null,
   "metadata": {},
   "outputs": [],
   "source": []
  }
 ],
 "metadata": {
  "kernelspec": {
   "display_name": "Python 3",
   "language": "python",
   "name": "python3"
  },
  "language_info": {
   "codemirror_mode": {
    "name": "ipython",
    "version": 3
   },
   "file_extension": ".py",
   "mimetype": "text/x-python",
   "name": "python",
   "nbconvert_exporter": "python",
   "pygments_lexer": "ipython3",
   "version": "3.7.6"
  }
 },
 "nbformat": 4,
 "nbformat_minor": 4
}
